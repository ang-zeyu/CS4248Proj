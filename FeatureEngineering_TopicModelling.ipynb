{
  "cells": [
    {
      "cell_type": "markdown",
      "metadata": {
        "id": "ynmkfSiw4hvZ"
      },
      "source": [
        "# Mount data"
      ]
    },
    {
      "cell_type": "code",
      "source": [
        "from google.colab import drive\n",
        "drive.mount('/content/drive')"
      ],
      "metadata": {
        "id": "4UrSBPAC5SAZ",
        "colab": {
          "base_uri": "https://localhost:8080/"
        },
        "outputId": "46112829-ca26-4649-dd6b-4bfe5fe7f3da"
      },
      "execution_count": null,
      "outputs": [
        {
          "output_type": "stream",
          "name": "stdout",
          "text": [
            "Mounted at /content/drive\n"
          ]
        }
      ]
    },
    {
      "cell_type": "code",
      "source": [
        "from os import chdir\n",
        "chdir(\"/content/drive/My Drive/raw_data\")"
      ],
      "metadata": {
        "id": "_H6XQXA_5O92"
      },
      "execution_count": null,
      "outputs": []
    },
    {
      "cell_type": "markdown",
      "metadata": {
        "id": "rvl7ycs54bAg"
      },
      "source": [
        "# Install dependencies"
      ]
    },
    {
      "cell_type": "code",
      "execution_count": null,
      "metadata": {
        "colab": {
          "base_uri": "https://localhost:8080/"
        },
        "id": "zfjR_aGT0knC",
        "outputId": "35bf7230-8769-4642-ccdc-9142f81c7980",
        "scrolled": true
      },
      "outputs": [
        {
          "output_type": "stream",
          "name": "stdout",
          "text": [
            "Requirement already satisfied: yellowbrick in /usr/local/lib/python3.7/dist-packages (1.4)\n",
            "Requirement already satisfied: matplotlib!=3.0.0,>=2.0.2 in /usr/local/lib/python3.7/dist-packages (from yellowbrick) (3.2.2)\n",
            "Requirement already satisfied: numpy>=1.16.0 in /usr/local/lib/python3.7/dist-packages (from yellowbrick) (1.21.5)\n",
            "Requirement already satisfied: scipy>=1.0.0 in /usr/local/lib/python3.7/dist-packages (from yellowbrick) (1.4.1)\n",
            "Requirement already satisfied: cycler>=0.10.0 in /usr/local/lib/python3.7/dist-packages (from yellowbrick) (0.11.0)\n",
            "Requirement already satisfied: scikit-learn>=1.0.0 in /usr/local/lib/python3.7/dist-packages (from yellowbrick) (1.0.2)\n",
            "Requirement already satisfied: pyparsing!=2.0.4,!=2.1.2,!=2.1.6,>=2.0.1 in /usr/local/lib/python3.7/dist-packages (from matplotlib!=3.0.0,>=2.0.2->yellowbrick) (3.0.7)\n",
            "Requirement already satisfied: kiwisolver>=1.0.1 in /usr/local/lib/python3.7/dist-packages (from matplotlib!=3.0.0,>=2.0.2->yellowbrick) (1.3.2)\n",
            "Requirement already satisfied: python-dateutil>=2.1 in /usr/local/lib/python3.7/dist-packages (from matplotlib!=3.0.0,>=2.0.2->yellowbrick) (2.8.2)\n",
            "Requirement already satisfied: six>=1.5 in /usr/local/lib/python3.7/dist-packages (from python-dateutil>=2.1->matplotlib!=3.0.0,>=2.0.2->yellowbrick) (1.15.0)\n",
            "Requirement already satisfied: joblib>=0.11 in /usr/local/lib/python3.7/dist-packages (from scikit-learn>=1.0.0->yellowbrick) (1.1.0)\n",
            "Requirement already satisfied: threadpoolctl>=2.0.0 in /usr/local/lib/python3.7/dist-packages (from scikit-learn>=1.0.0->yellowbrick) (3.1.0)\n",
            "Collecting zeugma\n",
            "  Downloading zeugma-0.49.tar.gz (9.9 kB)\n",
            "Requirement already satisfied: numpy>=1.13.3 in /usr/local/lib/python3.7/dist-packages (from zeugma) (1.21.5)\n",
            "Requirement already satisfied: Cython>=0.27.3 in /usr/local/lib/python3.7/dist-packages (from zeugma) (0.29.28)\n",
            "Requirement already satisfied: pandas>=0.20.3 in /usr/local/lib/python3.7/dist-packages (from zeugma) (1.3.5)\n",
            "Requirement already satisfied: gensim>=3.5.0 in /usr/local/lib/python3.7/dist-packages (from zeugma) (3.6.0)\n",
            "Requirement already satisfied: scikit_learn>=0.19.1 in /usr/local/lib/python3.7/dist-packages (from zeugma) (1.0.2)\n",
            "Requirement already satisfied: tensorflow>=1.5.0 in /usr/local/lib/python3.7/dist-packages (from zeugma) (2.8.0)\n",
            "Requirement already satisfied: keras>=2.1.3 in /usr/local/lib/python3.7/dist-packages (from zeugma) (2.8.0)\n",
            "Requirement already satisfied: six>=1.5.0 in /usr/local/lib/python3.7/dist-packages (from gensim>=3.5.0->zeugma) (1.15.0)\n",
            "Requirement already satisfied: scipy>=0.18.1 in /usr/local/lib/python3.7/dist-packages (from gensim>=3.5.0->zeugma) (1.4.1)\n",
            "Requirement already satisfied: smart-open>=1.2.1 in /usr/local/lib/python3.7/dist-packages (from gensim>=3.5.0->zeugma) (5.2.1)\n",
            "Requirement already satisfied: pytz>=2017.3 in /usr/local/lib/python3.7/dist-packages (from pandas>=0.20.3->zeugma) (2018.9)\n",
            "Requirement already satisfied: python-dateutil>=2.7.3 in /usr/local/lib/python3.7/dist-packages (from pandas>=0.20.3->zeugma) (2.8.2)\n",
            "Requirement already satisfied: threadpoolctl>=2.0.0 in /usr/local/lib/python3.7/dist-packages (from scikit_learn>=0.19.1->zeugma) (3.1.0)\n",
            "Requirement already satisfied: joblib>=0.11 in /usr/local/lib/python3.7/dist-packages (from scikit_learn>=0.19.1->zeugma) (1.1.0)\n",
            "Requirement already satisfied: wrapt>=1.11.0 in /usr/local/lib/python3.7/dist-packages (from tensorflow>=1.5.0->zeugma) (1.13.3)\n",
            "Requirement already satisfied: astunparse>=1.6.0 in /usr/local/lib/python3.7/dist-packages (from tensorflow>=1.5.0->zeugma) (1.6.3)\n",
            "Requirement already satisfied: google-pasta>=0.1.1 in /usr/local/lib/python3.7/dist-packages (from tensorflow>=1.5.0->zeugma) (0.2.0)\n",
            "Requirement already satisfied: setuptools in /usr/local/lib/python3.7/dist-packages (from tensorflow>=1.5.0->zeugma) (57.4.0)\n",
            "Requirement already satisfied: typing-extensions>=3.6.6 in /usr/local/lib/python3.7/dist-packages (from tensorflow>=1.5.0->zeugma) (3.10.0.2)\n",
            "Collecting tf-estimator-nightly==2.8.0.dev2021122109\n",
            "  Downloading tf_estimator_nightly-2.8.0.dev2021122109-py2.py3-none-any.whl (462 kB)\n",
            "\u001b[K     |████████████████████████████████| 462 kB 5.1 MB/s \n",
            "\u001b[?25hRequirement already satisfied: h5py>=2.9.0 in /usr/local/lib/python3.7/dist-packages (from tensorflow>=1.5.0->zeugma) (3.1.0)\n",
            "Requirement already satisfied: termcolor>=1.1.0 in /usr/local/lib/python3.7/dist-packages (from tensorflow>=1.5.0->zeugma) (1.1.0)\n",
            "Requirement already satisfied: tensorflow-io-gcs-filesystem>=0.23.1 in /usr/local/lib/python3.7/dist-packages (from tensorflow>=1.5.0->zeugma) (0.24.0)\n",
            "Requirement already satisfied: protobuf>=3.9.2 in /usr/local/lib/python3.7/dist-packages (from tensorflow>=1.5.0->zeugma) (3.17.3)\n",
            "Requirement already satisfied: absl-py>=0.4.0 in /usr/local/lib/python3.7/dist-packages (from tensorflow>=1.5.0->zeugma) (1.0.0)\n",
            "Requirement already satisfied: flatbuffers>=1.12 in /usr/local/lib/python3.7/dist-packages (from tensorflow>=1.5.0->zeugma) (2.0)\n",
            "Requirement already satisfied: gast>=0.2.1 in /usr/local/lib/python3.7/dist-packages (from tensorflow>=1.5.0->zeugma) (0.5.3)\n",
            "Requirement already satisfied: libclang>=9.0.1 in /usr/local/lib/python3.7/dist-packages (from tensorflow>=1.5.0->zeugma) (13.0.0)\n",
            "Requirement already satisfied: tensorboard<2.9,>=2.8 in /usr/local/lib/python3.7/dist-packages (from tensorflow>=1.5.0->zeugma) (2.8.0)\n",
            "Requirement already satisfied: grpcio<2.0,>=1.24.3 in /usr/local/lib/python3.7/dist-packages (from tensorflow>=1.5.0->zeugma) (1.44.0)\n",
            "Requirement already satisfied: keras-preprocessing>=1.1.1 in /usr/local/lib/python3.7/dist-packages (from tensorflow>=1.5.0->zeugma) (1.1.2)\n",
            "Requirement already satisfied: opt-einsum>=2.3.2 in /usr/local/lib/python3.7/dist-packages (from tensorflow>=1.5.0->zeugma) (3.3.0)\n",
            "Requirement already satisfied: wheel<1.0,>=0.23.0 in /usr/local/lib/python3.7/dist-packages (from astunparse>=1.6.0->tensorflow>=1.5.0->zeugma) (0.37.1)\n",
            "Requirement already satisfied: cached-property in /usr/local/lib/python3.7/dist-packages (from h5py>=2.9.0->tensorflow>=1.5.0->zeugma) (1.5.2)\n",
            "Requirement already satisfied: google-auth<3,>=1.6.3 in /usr/local/lib/python3.7/dist-packages (from tensorboard<2.9,>=2.8->tensorflow>=1.5.0->zeugma) (1.35.0)\n",
            "Requirement already satisfied: tensorboard-plugin-wit>=1.6.0 in /usr/local/lib/python3.7/dist-packages (from tensorboard<2.9,>=2.8->tensorflow>=1.5.0->zeugma) (1.8.1)\n",
            "Requirement already satisfied: requests<3,>=2.21.0 in /usr/local/lib/python3.7/dist-packages (from tensorboard<2.9,>=2.8->tensorflow>=1.5.0->zeugma) (2.23.0)\n",
            "Requirement already satisfied: markdown>=2.6.8 in /usr/local/lib/python3.7/dist-packages (from tensorboard<2.9,>=2.8->tensorflow>=1.5.0->zeugma) (3.3.6)\n",
            "Requirement already satisfied: werkzeug>=0.11.15 in /usr/local/lib/python3.7/dist-packages (from tensorboard<2.9,>=2.8->tensorflow>=1.5.0->zeugma) (1.0.1)\n",
            "Requirement already satisfied: google-auth-oauthlib<0.5,>=0.4.1 in /usr/local/lib/python3.7/dist-packages (from tensorboard<2.9,>=2.8->tensorflow>=1.5.0->zeugma) (0.4.6)\n",
            "Requirement already satisfied: tensorboard-data-server<0.7.0,>=0.6.0 in /usr/local/lib/python3.7/dist-packages (from tensorboard<2.9,>=2.8->tensorflow>=1.5.0->zeugma) (0.6.1)\n",
            "Requirement already satisfied: pyasn1-modules>=0.2.1 in /usr/local/lib/python3.7/dist-packages (from google-auth<3,>=1.6.3->tensorboard<2.9,>=2.8->tensorflow>=1.5.0->zeugma) (0.2.8)\n",
            "Requirement already satisfied: rsa<5,>=3.1.4 in /usr/local/lib/python3.7/dist-packages (from google-auth<3,>=1.6.3->tensorboard<2.9,>=2.8->tensorflow>=1.5.0->zeugma) (4.8)\n",
            "Requirement already satisfied: cachetools<5.0,>=2.0.0 in /usr/local/lib/python3.7/dist-packages (from google-auth<3,>=1.6.3->tensorboard<2.9,>=2.8->tensorflow>=1.5.0->zeugma) (4.2.4)\n",
            "Requirement already satisfied: requests-oauthlib>=0.7.0 in /usr/local/lib/python3.7/dist-packages (from google-auth-oauthlib<0.5,>=0.4.1->tensorboard<2.9,>=2.8->tensorflow>=1.5.0->zeugma) (1.3.1)\n",
            "Requirement already satisfied: importlib-metadata>=4.4 in /usr/local/lib/python3.7/dist-packages (from markdown>=2.6.8->tensorboard<2.9,>=2.8->tensorflow>=1.5.0->zeugma) (4.11.2)\n",
            "Requirement already satisfied: zipp>=0.5 in /usr/local/lib/python3.7/dist-packages (from importlib-metadata>=4.4->markdown>=2.6.8->tensorboard<2.9,>=2.8->tensorflow>=1.5.0->zeugma) (3.7.0)\n",
            "Requirement already satisfied: pyasn1<0.5.0,>=0.4.6 in /usr/local/lib/python3.7/dist-packages (from pyasn1-modules>=0.2.1->google-auth<3,>=1.6.3->tensorboard<2.9,>=2.8->tensorflow>=1.5.0->zeugma) (0.4.8)\n",
            "Requirement already satisfied: chardet<4,>=3.0.2 in /usr/local/lib/python3.7/dist-packages (from requests<3,>=2.21.0->tensorboard<2.9,>=2.8->tensorflow>=1.5.0->zeugma) (3.0.4)\n",
            "Requirement already satisfied: idna<3,>=2.5 in /usr/local/lib/python3.7/dist-packages (from requests<3,>=2.21.0->tensorboard<2.9,>=2.8->tensorflow>=1.5.0->zeugma) (2.10)\n",
            "Requirement already satisfied: urllib3!=1.25.0,!=1.25.1,<1.26,>=1.21.1 in /usr/local/lib/python3.7/dist-packages (from requests<3,>=2.21.0->tensorboard<2.9,>=2.8->tensorflow>=1.5.0->zeugma) (1.24.3)\n",
            "Requirement already satisfied: certifi>=2017.4.17 in /usr/local/lib/python3.7/dist-packages (from requests<3,>=2.21.0->tensorboard<2.9,>=2.8->tensorflow>=1.5.0->zeugma) (2021.10.8)\n",
            "Requirement already satisfied: oauthlib>=3.0.0 in /usr/local/lib/python3.7/dist-packages (from requests-oauthlib>=0.7.0->google-auth-oauthlib<0.5,>=0.4.1->tensorboard<2.9,>=2.8->tensorflow>=1.5.0->zeugma) (3.2.0)\n",
            "Building wheels for collected packages: zeugma\n",
            "  Building wheel for zeugma (setup.py) ... \u001b[?25l\u001b[?25hdone\n",
            "  Created wheel for zeugma: filename=zeugma-0.49-py3-none-any.whl size=8823 sha256=d4488b01bcf6df60c275222591867d46ff5f434141c33b897882c467889a83bd\n",
            "  Stored in directory: /root/.cache/pip/wheels/1d/47/5b/2a59a79706cc9340c72fd6a7bfc20e7ebcab849c88c38fdfa0\n",
            "Successfully built zeugma\n",
            "Installing collected packages: tf-estimator-nightly, zeugma\n",
            "Successfully installed tf-estimator-nightly-2.8.0.dev2021122109 zeugma-0.49\n"
          ]
        }
      ],
      "source": [
        "!pip install yellowbrick\n",
        "!pip install zeugma"
      ]
    },
    {
      "cell_type": "code",
      "execution_count": null,
      "metadata": {
        "colab": {
          "base_uri": "https://localhost:8080/"
        },
        "id": "SaREheN0bIs9",
        "outputId": "f431ea04-2f30-40f5-e51c-542057bce8d5",
        "scrolled": true
      },
      "outputs": [
        {
          "output_type": "stream",
          "name": "stdout",
          "text": [
            "Requirement already satisfied: bs4 in /usr/local/lib/python3.7/dist-packages (0.0.1)\n",
            "Requirement already satisfied: beautifulsoup4 in /usr/local/lib/python3.7/dist-packages (from bs4) (4.6.3)\n",
            "Requirement already satisfied: spacy in /usr/local/lib/python3.7/dist-packages (2.2.4)\n",
            "Requirement already satisfied: wasabi<1.1.0,>=0.4.0 in /usr/local/lib/python3.7/dist-packages (from spacy) (0.9.0)\n",
            "Requirement already satisfied: thinc==7.4.0 in /usr/local/lib/python3.7/dist-packages (from spacy) (7.4.0)\n",
            "Requirement already satisfied: plac<1.2.0,>=0.9.6 in /usr/local/lib/python3.7/dist-packages (from spacy) (1.1.3)\n",
            "Requirement already satisfied: numpy>=1.15.0 in /usr/local/lib/python3.7/dist-packages (from spacy) (1.21.5)\n",
            "Requirement already satisfied: blis<0.5.0,>=0.4.0 in /usr/local/lib/python3.7/dist-packages (from spacy) (0.4.1)\n",
            "Requirement already satisfied: preshed<3.1.0,>=3.0.2 in /usr/local/lib/python3.7/dist-packages (from spacy) (3.0.6)\n",
            "Requirement already satisfied: tqdm<5.0.0,>=4.38.0 in /usr/local/lib/python3.7/dist-packages (from spacy) (4.63.0)\n",
            "Requirement already satisfied: murmurhash<1.1.0,>=0.28.0 in /usr/local/lib/python3.7/dist-packages (from spacy) (1.0.6)\n",
            "Requirement already satisfied: requests<3.0.0,>=2.13.0 in /usr/local/lib/python3.7/dist-packages (from spacy) (2.23.0)\n",
            "Requirement already satisfied: srsly<1.1.0,>=1.0.2 in /usr/local/lib/python3.7/dist-packages (from spacy) (1.0.5)\n",
            "Requirement already satisfied: cymem<2.1.0,>=2.0.2 in /usr/local/lib/python3.7/dist-packages (from spacy) (2.0.6)\n",
            "Requirement already satisfied: setuptools in /usr/local/lib/python3.7/dist-packages (from spacy) (57.4.0)\n",
            "Requirement already satisfied: catalogue<1.1.0,>=0.0.7 in /usr/local/lib/python3.7/dist-packages (from spacy) (1.0.0)\n",
            "Requirement already satisfied: importlib-metadata>=0.20 in /usr/local/lib/python3.7/dist-packages (from catalogue<1.1.0,>=0.0.7->spacy) (4.11.2)\n",
            "Requirement already satisfied: zipp>=0.5 in /usr/local/lib/python3.7/dist-packages (from importlib-metadata>=0.20->catalogue<1.1.0,>=0.0.7->spacy) (3.7.0)\n",
            "Requirement already satisfied: typing-extensions>=3.6.4 in /usr/local/lib/python3.7/dist-packages (from importlib-metadata>=0.20->catalogue<1.1.0,>=0.0.7->spacy) (3.10.0.2)\n",
            "Requirement already satisfied: urllib3!=1.25.0,!=1.25.1,<1.26,>=1.21.1 in /usr/local/lib/python3.7/dist-packages (from requests<3.0.0,>=2.13.0->spacy) (1.24.3)\n",
            "Requirement already satisfied: idna<3,>=2.5 in /usr/local/lib/python3.7/dist-packages (from requests<3.0.0,>=2.13.0->spacy) (2.10)\n",
            "Requirement already satisfied: chardet<4,>=3.0.2 in /usr/local/lib/python3.7/dist-packages (from requests<3.0.0,>=2.13.0->spacy) (3.0.4)\n",
            "Requirement already satisfied: certifi>=2017.4.17 in /usr/local/lib/python3.7/dist-packages (from requests<3.0.0,>=2.13.0->spacy) (2021.10.8)\n"
          ]
        }
      ],
      "source": [
        "!pip install bs4\n",
        "!pip install spacy"
      ]
    },
    {
      "cell_type": "code",
      "execution_count": null,
      "metadata": {
        "id": "6pFvAdgtmRn2"
      },
      "outputs": [],
      "source": [
        "import pandas as pd\n",
        "import numpy as np\n",
        "import nltk\n",
        "import pickle\n",
        "import matplotlib.pyplot as plt\n",
        "from yellowbrick.text import FreqDistVisualizer\n",
        "from zeugma.embeddings import EmbeddingTransformer\n",
        "import spacy\n",
        "from spacy import displacy\n",
        "from sklearn.decomposition import LatentDirichletAllocation\n",
        "import re\n",
        "import string\n",
        "import tqdm\n",
        "import gensim\n",
        "import gensim.corpora as corpora\n",
        "from gensim.models import CoherenceModel"
      ]
    },
    {
      "cell_type": "markdown",
      "metadata": {
        "id": "3_pI6_lR_PiP"
      },
      "source": [
        "# Load Data"
      ]
    },
    {
      "cell_type": "code",
      "execution_count": null,
      "metadata": {
        "id": "khn6W7Jv_NXu"
      },
      "outputs": [],
      "source": [
        "df = pd.read_csv('fulltrain.csv', header=None)\n",
        "X_train = df[1]\n",
        "y_train = df[0]"
      ]
    },
    {
      "cell_type": "code",
      "execution_count": null,
      "metadata": {
        "id": "d9lpWpd3QGNp"
      },
      "outputs": [],
      "source": [
        "df.dropna(subset=[1], inplace=True)"
      ]
    },
    {
      "cell_type": "code",
      "execution_count": null,
      "metadata": {
        "colab": {
          "base_uri": "https://localhost:8080/"
        },
        "id": "_nHz1EXcGWhW",
        "outputId": "bb202ee6-9cc4-404f-a3a3-4a0527f8f4b2"
      },
      "outputs": [
        {
          "output_type": "stream",
          "name": "stdout",
          "text": [
            "[nltk_data] Downloading package wordnet to /root/nltk_data...\n",
            "[nltk_data]   Unzipping corpora/wordnet.zip.\n",
            "[nltk_data] Downloading package omw-1.4 to /root/nltk_data...\n",
            "[nltk_data]   Unzipping corpora/omw-1.4.zip.\n",
            "[nltk_data] Downloading package stopwords to /root/nltk_data...\n",
            "[nltk_data]   Unzipping corpora/stopwords.zip.\n",
            "[nltk_data] Downloading package punkt to /root/nltk_data...\n",
            "[nltk_data]   Unzipping tokenizers/punkt.zip.\n"
          ]
        },
        {
          "output_type": "execute_result",
          "data": {
            "text/plain": [
              "True"
            ]
          },
          "metadata": {},
          "execution_count": 8
        }
      ],
      "source": [
        "nltk.download('wordnet')\n",
        "nltk.download('omw-1.4')\n",
        "nltk.download('stopwords')\n",
        "nltk.download('punkt')"
      ]
    },
    {
      "cell_type": "markdown",
      "metadata": {
        "id": "1E1GxrojCmUT"
      },
      "source": [
        "# Preprocessing pipeline"
      ]
    },
    {
      "cell_type": "markdown",
      "metadata": {
        "id": "M49KDDgKcDy3"
      },
      "source": [
        "# Text preprocessing"
      ]
    },
    {
      "cell_type": "code",
      "execution_count": null,
      "metadata": {
        "colab": {
          "base_uri": "https://localhost:8080/",
          "height": 423
        },
        "id": "4r_3n0pAfLGJ",
        "outputId": "75cf30b8-00f5-4147-c199-0131e05eb2fb"
      },
      "outputs": [
        {
          "output_type": "execute_result",
          "data": {
            "text/plain": [
              "       0                                                  1\n",
              "0      1  A little less than a decade ago, hockey fans w...\n",
              "1      1  The writers of the HBO series The Sopranos too...\n",
              "2      1  Despite claims from the TV news outlet to offe...\n",
              "3      1  After receiving 'subpar' service and experienc...\n",
              "4      1  After watching his beloved Seattle Mariners pr...\n",
              "...   ..                                                ...\n",
              "48849  4  The ruling Kuomintang (KMT) has claimed owners...\n",
              "48850  4  The Taipei city government has encouraged the ...\n",
              "48851  4  President Ma Ying-jeou said Friday that a park...\n",
              "48852  4  The families of the four people who were kille...\n",
              "48853  4  The Ministry of Finance will make public on Sa...\n",
              "\n",
              "[48854 rows x 2 columns]"
            ],
            "text/html": [
              "\n",
              "  <div id=\"df-d5beed56-f950-4738-a61b-e669570bf84b\">\n",
              "    <div class=\"colab-df-container\">\n",
              "      <div>\n",
              "<style scoped>\n",
              "    .dataframe tbody tr th:only-of-type {\n",
              "        vertical-align: middle;\n",
              "    }\n",
              "\n",
              "    .dataframe tbody tr th {\n",
              "        vertical-align: top;\n",
              "    }\n",
              "\n",
              "    .dataframe thead th {\n",
              "        text-align: right;\n",
              "    }\n",
              "</style>\n",
              "<table border=\"1\" class=\"dataframe\">\n",
              "  <thead>\n",
              "    <tr style=\"text-align: right;\">\n",
              "      <th></th>\n",
              "      <th>0</th>\n",
              "      <th>1</th>\n",
              "    </tr>\n",
              "  </thead>\n",
              "  <tbody>\n",
              "    <tr>\n",
              "      <th>0</th>\n",
              "      <td>1</td>\n",
              "      <td>A little less than a decade ago, hockey fans w...</td>\n",
              "    </tr>\n",
              "    <tr>\n",
              "      <th>1</th>\n",
              "      <td>1</td>\n",
              "      <td>The writers of the HBO series The Sopranos too...</td>\n",
              "    </tr>\n",
              "    <tr>\n",
              "      <th>2</th>\n",
              "      <td>1</td>\n",
              "      <td>Despite claims from the TV news outlet to offe...</td>\n",
              "    </tr>\n",
              "    <tr>\n",
              "      <th>3</th>\n",
              "      <td>1</td>\n",
              "      <td>After receiving 'subpar' service and experienc...</td>\n",
              "    </tr>\n",
              "    <tr>\n",
              "      <th>4</th>\n",
              "      <td>1</td>\n",
              "      <td>After watching his beloved Seattle Mariners pr...</td>\n",
              "    </tr>\n",
              "    <tr>\n",
              "      <th>...</th>\n",
              "      <td>...</td>\n",
              "      <td>...</td>\n",
              "    </tr>\n",
              "    <tr>\n",
              "      <th>48849</th>\n",
              "      <td>4</td>\n",
              "      <td>The ruling Kuomintang (KMT) has claimed owners...</td>\n",
              "    </tr>\n",
              "    <tr>\n",
              "      <th>48850</th>\n",
              "      <td>4</td>\n",
              "      <td>The Taipei city government has encouraged the ...</td>\n",
              "    </tr>\n",
              "    <tr>\n",
              "      <th>48851</th>\n",
              "      <td>4</td>\n",
              "      <td>President Ma Ying-jeou said Friday that a park...</td>\n",
              "    </tr>\n",
              "    <tr>\n",
              "      <th>48852</th>\n",
              "      <td>4</td>\n",
              "      <td>The families of the four people who were kille...</td>\n",
              "    </tr>\n",
              "    <tr>\n",
              "      <th>48853</th>\n",
              "      <td>4</td>\n",
              "      <td>The Ministry of Finance will make public on Sa...</td>\n",
              "    </tr>\n",
              "  </tbody>\n",
              "</table>\n",
              "<p>48854 rows × 2 columns</p>\n",
              "</div>\n",
              "      <button class=\"colab-df-convert\" onclick=\"convertToInteractive('df-d5beed56-f950-4738-a61b-e669570bf84b')\"\n",
              "              title=\"Convert this dataframe to an interactive table.\"\n",
              "              style=\"display:none;\">\n",
              "        \n",
              "  <svg xmlns=\"http://www.w3.org/2000/svg\" height=\"24px\"viewBox=\"0 0 24 24\"\n",
              "       width=\"24px\">\n",
              "    <path d=\"M0 0h24v24H0V0z\" fill=\"none\"/>\n",
              "    <path d=\"M18.56 5.44l.94 2.06.94-2.06 2.06-.94-2.06-.94-.94-2.06-.94 2.06-2.06.94zm-11 1L8.5 8.5l.94-2.06 2.06-.94-2.06-.94L8.5 2.5l-.94 2.06-2.06.94zm10 10l.94 2.06.94-2.06 2.06-.94-2.06-.94-.94-2.06-.94 2.06-2.06.94z\"/><path d=\"M17.41 7.96l-1.37-1.37c-.4-.4-.92-.59-1.43-.59-.52 0-1.04.2-1.43.59L10.3 9.45l-7.72 7.72c-.78.78-.78 2.05 0 2.83L4 21.41c.39.39.9.59 1.41.59.51 0 1.02-.2 1.41-.59l7.78-7.78 2.81-2.81c.8-.78.8-2.07 0-2.86zM5.41 20L4 18.59l7.72-7.72 1.47 1.35L5.41 20z\"/>\n",
              "  </svg>\n",
              "      </button>\n",
              "      \n",
              "  <style>\n",
              "    .colab-df-container {\n",
              "      display:flex;\n",
              "      flex-wrap:wrap;\n",
              "      gap: 12px;\n",
              "    }\n",
              "\n",
              "    .colab-df-convert {\n",
              "      background-color: #E8F0FE;\n",
              "      border: none;\n",
              "      border-radius: 50%;\n",
              "      cursor: pointer;\n",
              "      display: none;\n",
              "      fill: #1967D2;\n",
              "      height: 32px;\n",
              "      padding: 0 0 0 0;\n",
              "      width: 32px;\n",
              "    }\n",
              "\n",
              "    .colab-df-convert:hover {\n",
              "      background-color: #E2EBFA;\n",
              "      box-shadow: 0px 1px 2px rgba(60, 64, 67, 0.3), 0px 1px 3px 1px rgba(60, 64, 67, 0.15);\n",
              "      fill: #174EA6;\n",
              "    }\n",
              "\n",
              "    [theme=dark] .colab-df-convert {\n",
              "      background-color: #3B4455;\n",
              "      fill: #D2E3FC;\n",
              "    }\n",
              "\n",
              "    [theme=dark] .colab-df-convert:hover {\n",
              "      background-color: #434B5C;\n",
              "      box-shadow: 0px 1px 3px 1px rgba(0, 0, 0, 0.15);\n",
              "      filter: drop-shadow(0px 1px 2px rgba(0, 0, 0, 0.3));\n",
              "      fill: #FFFFFF;\n",
              "    }\n",
              "  </style>\n",
              "\n",
              "      <script>\n",
              "        const buttonEl =\n",
              "          document.querySelector('#df-d5beed56-f950-4738-a61b-e669570bf84b button.colab-df-convert');\n",
              "        buttonEl.style.display =\n",
              "          google.colab.kernel.accessAllowed ? 'block' : 'none';\n",
              "\n",
              "        async function convertToInteractive(key) {\n",
              "          const element = document.querySelector('#df-d5beed56-f950-4738-a61b-e669570bf84b');\n",
              "          const dataTable =\n",
              "            await google.colab.kernel.invokeFunction('convertToInteractive',\n",
              "                                                     [key], {});\n",
              "          if (!dataTable) return;\n",
              "\n",
              "          const docLinkHtml = 'Like what you see? Visit the ' +\n",
              "            '<a target=\"_blank\" href=https://colab.research.google.com/notebooks/data_table.ipynb>data table notebook</a>'\n",
              "            + ' to learn more about interactive tables.';\n",
              "          element.innerHTML = '';\n",
              "          dataTable['output_type'] = 'display_data';\n",
              "          await google.colab.output.renderOutput(dataTable, element);\n",
              "          const docLink = document.createElement('div');\n",
              "          docLink.innerHTML = docLinkHtml;\n",
              "          element.appendChild(docLink);\n",
              "        }\n",
              "      </script>\n",
              "    </div>\n",
              "  </div>\n",
              "  "
            ]
          },
          "metadata": {},
          "execution_count": 9
        }
      ],
      "source": [
        "df"
      ]
    },
    {
      "cell_type": "code",
      "execution_count": null,
      "metadata": {
        "id": "1vhD0mYgA_Sa"
      },
      "outputs": [],
      "source": [
        "def clean_text(sentence):\n",
        "   \n",
        "    \n",
        "    def replace_punctuation(sentence):\n",
        "        return sentence.translate(str.maketrans(string.punctuation, ' '*len(string.punctuation)))\n",
        "\n",
        "    def make_lower_and_strip(sentence):\n",
        "        return re.sub(r'[^\\w\\s]', '', sentence.lower().strip())\n",
        "\n",
        "    def remove_integer(sentence):\n",
        "        return re.sub(r'[0-9]+', '', sentence)\n",
        "    \n",
        "  \n",
        "    return replace_punctuation(make_lower_and_strip(remove_integer(sentence)))\n",
        "  "
      ]
    },
    {
      "cell_type": "code",
      "execution_count": null,
      "metadata": {
        "id": "oOHtM8lIBAyX"
      },
      "outputs": [],
      "source": [
        "def tokenize(sentence):\n",
        "    \"\"\"\n",
        "    Description: Tokenizes sentence into list of words.\n",
        "\n",
        "    Input:\n",
        "    * String: The string to be tokenized.\n",
        "\n",
        "    Return:\n",
        "    * List: The list of words in the sentence.\n",
        "    \"\"\"\n",
        "    word_list = sentence.split()\n",
        "    return word_list"
      ]
    },
    {
      "cell_type": "code",
      "execution_count": null,
      "metadata": {
        "id": "PaKamJjdIZiP"
      },
      "outputs": [],
      "source": [
        "def remove_stopwords(word_list, stopwords=None):\n",
        "    \"\"\"\n",
        "    Description: Removes stopwords and words with length less than 4.\n",
        "\n",
        "    Input:\n",
        "    * List: The list of words to be preprocessed.\n",
        "\n",
        "    Return:\n",
        "    * List: The list of words with stopwords and words with length less than 4 removed.\n",
        "    \"\"\"\n",
        "    if stopwords is not None:\n",
        "        return [word for word in word_list if ((word not in stopwords) and len(word) > 3)]\n",
        "    else:\n",
        "        return [word for word in word_list if len(word) > 3]\n"
      ]
    },
    {
      "cell_type": "code",
      "execution_count": null,
      "metadata": {
        "id": "tsrfZL1ZIdmv"
      },
      "outputs": [],
      "source": [
        "df['cleaned'] = df[1].apply(lambda x: clean_text(x))\n",
        "df['cleaned_token'] = df.cleaned.apply(lambda x: tokenize(x))"
      ]
    },
    {
      "cell_type": "markdown",
      "metadata": {
        "id": "ZTLFRLz4PkZU"
      },
      "source": [
        "Using NLTK stopwords"
      ]
    },
    {
      "cell_type": "code",
      "execution_count": null,
      "metadata": {
        "id": "NQZOunRvPj2c"
      },
      "outputs": [],
      "source": [
        "from nltk.corpus import stopwords\n",
        "stop_words = stopwords.words('english')"
      ]
    },
    {
      "cell_type": "code",
      "execution_count": null,
      "metadata": {
        "id": "9LH1dzEiPrIE"
      },
      "outputs": [],
      "source": [
        "df['cleaned_tokenized_nostop'] = df.cleaned_token.apply(lambda x: remove_stopwords(x, stop_words))"
      ]
    },
    {
      "cell_type": "code",
      "execution_count": null,
      "metadata": {
        "colab": {
          "base_uri": "https://localhost:8080/",
          "height": 206
        },
        "id": "79lUAZJnPv1H",
        "outputId": "3811ff72-de2d-4e5f-9596-90478c1c5400"
      },
      "outputs": [
        {
          "output_type": "execute_result",
          "data": {
            "text/plain": [
              "   0                                                  1  \\\n",
              "0  1  A little less than a decade ago, hockey fans w...   \n",
              "1  1  The writers of the HBO series The Sopranos too...   \n",
              "2  1  Despite claims from the TV news outlet to offe...   \n",
              "3  1  After receiving 'subpar' service and experienc...   \n",
              "4  1  After watching his beloved Seattle Mariners pr...   \n",
              "\n",
              "                                             cleaned  \\\n",
              "0  a little less than a decade ago hockey fans we...   \n",
              "1  the writers of the hbo series the sopranos too...   \n",
              "2  despite claims from the tv news outlet to offe...   \n",
              "3  after receiving subpar service and experiencin...   \n",
              "4  after watching his beloved seattle mariners pr...   \n",
              "\n",
              "                                       cleaned_token  \\\n",
              "0  [a, little, less, than, a, decade, ago, hockey...   \n",
              "1  [the, writers, of, the, hbo, series, the, sopr...   \n",
              "2  [despite, claims, from, the, tv, news, outlet,...   \n",
              "3  [after, receiving, subpar, service, and, exper...   \n",
              "4  [after, watching, his, beloved, seattle, marin...   \n",
              "\n",
              "                            cleaned_tokenized_nostop  \n",
              "0  [little, less, decade, hockey, fans, blessed, ...  \n",
              "1  [writers, series, sopranos, took, another, dar...  \n",
              "2  [despite, claims, news, outlet, offer, nonstop...  \n",
              "3  [receiving, subpar, service, experiencing, unu...  \n",
              "4  [watching, beloved, seattle, mariners, prevail...  "
            ],
            "text/html": [
              "\n",
              "  <div id=\"df-73aa65a2-452d-4a48-9635-a3d906524b78\">\n",
              "    <div class=\"colab-df-container\">\n",
              "      <div>\n",
              "<style scoped>\n",
              "    .dataframe tbody tr th:only-of-type {\n",
              "        vertical-align: middle;\n",
              "    }\n",
              "\n",
              "    .dataframe tbody tr th {\n",
              "        vertical-align: top;\n",
              "    }\n",
              "\n",
              "    .dataframe thead th {\n",
              "        text-align: right;\n",
              "    }\n",
              "</style>\n",
              "<table border=\"1\" class=\"dataframe\">\n",
              "  <thead>\n",
              "    <tr style=\"text-align: right;\">\n",
              "      <th></th>\n",
              "      <th>0</th>\n",
              "      <th>1</th>\n",
              "      <th>cleaned</th>\n",
              "      <th>cleaned_token</th>\n",
              "      <th>cleaned_tokenized_nostop</th>\n",
              "    </tr>\n",
              "  </thead>\n",
              "  <tbody>\n",
              "    <tr>\n",
              "      <th>0</th>\n",
              "      <td>1</td>\n",
              "      <td>A little less than a decade ago, hockey fans w...</td>\n",
              "      <td>a little less than a decade ago hockey fans we...</td>\n",
              "      <td>[a, little, less, than, a, decade, ago, hockey...</td>\n",
              "      <td>[little, less, decade, hockey, fans, blessed, ...</td>\n",
              "    </tr>\n",
              "    <tr>\n",
              "      <th>1</th>\n",
              "      <td>1</td>\n",
              "      <td>The writers of the HBO series The Sopranos too...</td>\n",
              "      <td>the writers of the hbo series the sopranos too...</td>\n",
              "      <td>[the, writers, of, the, hbo, series, the, sopr...</td>\n",
              "      <td>[writers, series, sopranos, took, another, dar...</td>\n",
              "    </tr>\n",
              "    <tr>\n",
              "      <th>2</th>\n",
              "      <td>1</td>\n",
              "      <td>Despite claims from the TV news outlet to offe...</td>\n",
              "      <td>despite claims from the tv news outlet to offe...</td>\n",
              "      <td>[despite, claims, from, the, tv, news, outlet,...</td>\n",
              "      <td>[despite, claims, news, outlet, offer, nonstop...</td>\n",
              "    </tr>\n",
              "    <tr>\n",
              "      <th>3</th>\n",
              "      <td>1</td>\n",
              "      <td>After receiving 'subpar' service and experienc...</td>\n",
              "      <td>after receiving subpar service and experiencin...</td>\n",
              "      <td>[after, receiving, subpar, service, and, exper...</td>\n",
              "      <td>[receiving, subpar, service, experiencing, unu...</td>\n",
              "    </tr>\n",
              "    <tr>\n",
              "      <th>4</th>\n",
              "      <td>1</td>\n",
              "      <td>After watching his beloved Seattle Mariners pr...</td>\n",
              "      <td>after watching his beloved seattle mariners pr...</td>\n",
              "      <td>[after, watching, his, beloved, seattle, marin...</td>\n",
              "      <td>[watching, beloved, seattle, mariners, prevail...</td>\n",
              "    </tr>\n",
              "  </tbody>\n",
              "</table>\n",
              "</div>\n",
              "      <button class=\"colab-df-convert\" onclick=\"convertToInteractive('df-73aa65a2-452d-4a48-9635-a3d906524b78')\"\n",
              "              title=\"Convert this dataframe to an interactive table.\"\n",
              "              style=\"display:none;\">\n",
              "        \n",
              "  <svg xmlns=\"http://www.w3.org/2000/svg\" height=\"24px\"viewBox=\"0 0 24 24\"\n",
              "       width=\"24px\">\n",
              "    <path d=\"M0 0h24v24H0V0z\" fill=\"none\"/>\n",
              "    <path d=\"M18.56 5.44l.94 2.06.94-2.06 2.06-.94-2.06-.94-.94-2.06-.94 2.06-2.06.94zm-11 1L8.5 8.5l.94-2.06 2.06-.94-2.06-.94L8.5 2.5l-.94 2.06-2.06.94zm10 10l.94 2.06.94-2.06 2.06-.94-2.06-.94-.94-2.06-.94 2.06-2.06.94z\"/><path d=\"M17.41 7.96l-1.37-1.37c-.4-.4-.92-.59-1.43-.59-.52 0-1.04.2-1.43.59L10.3 9.45l-7.72 7.72c-.78.78-.78 2.05 0 2.83L4 21.41c.39.39.9.59 1.41.59.51 0 1.02-.2 1.41-.59l7.78-7.78 2.81-2.81c.8-.78.8-2.07 0-2.86zM5.41 20L4 18.59l7.72-7.72 1.47 1.35L5.41 20z\"/>\n",
              "  </svg>\n",
              "      </button>\n",
              "      \n",
              "  <style>\n",
              "    .colab-df-container {\n",
              "      display:flex;\n",
              "      flex-wrap:wrap;\n",
              "      gap: 12px;\n",
              "    }\n",
              "\n",
              "    .colab-df-convert {\n",
              "      background-color: #E8F0FE;\n",
              "      border: none;\n",
              "      border-radius: 50%;\n",
              "      cursor: pointer;\n",
              "      display: none;\n",
              "      fill: #1967D2;\n",
              "      height: 32px;\n",
              "      padding: 0 0 0 0;\n",
              "      width: 32px;\n",
              "    }\n",
              "\n",
              "    .colab-df-convert:hover {\n",
              "      background-color: #E2EBFA;\n",
              "      box-shadow: 0px 1px 2px rgba(60, 64, 67, 0.3), 0px 1px 3px 1px rgba(60, 64, 67, 0.15);\n",
              "      fill: #174EA6;\n",
              "    }\n",
              "\n",
              "    [theme=dark] .colab-df-convert {\n",
              "      background-color: #3B4455;\n",
              "      fill: #D2E3FC;\n",
              "    }\n",
              "\n",
              "    [theme=dark] .colab-df-convert:hover {\n",
              "      background-color: #434B5C;\n",
              "      box-shadow: 0px 1px 3px 1px rgba(0, 0, 0, 0.15);\n",
              "      filter: drop-shadow(0px 1px 2px rgba(0, 0, 0, 0.3));\n",
              "      fill: #FFFFFF;\n",
              "    }\n",
              "  </style>\n",
              "\n",
              "      <script>\n",
              "        const buttonEl =\n",
              "          document.querySelector('#df-73aa65a2-452d-4a48-9635-a3d906524b78 button.colab-df-convert');\n",
              "        buttonEl.style.display =\n",
              "          google.colab.kernel.accessAllowed ? 'block' : 'none';\n",
              "\n",
              "        async function convertToInteractive(key) {\n",
              "          const element = document.querySelector('#df-73aa65a2-452d-4a48-9635-a3d906524b78');\n",
              "          const dataTable =\n",
              "            await google.colab.kernel.invokeFunction('convertToInteractive',\n",
              "                                                     [key], {});\n",
              "          if (!dataTable) return;\n",
              "\n",
              "          const docLinkHtml = 'Like what you see? Visit the ' +\n",
              "            '<a target=\"_blank\" href=https://colab.research.google.com/notebooks/data_table.ipynb>data table notebook</a>'\n",
              "            + ' to learn more about interactive tables.';\n",
              "          element.innerHTML = '';\n",
              "          dataTable['output_type'] = 'display_data';\n",
              "          await google.colab.output.renderOutput(dataTable, element);\n",
              "          const docLink = document.createElement('div');\n",
              "          docLink.innerHTML = docLinkHtml;\n",
              "          element.appendChild(docLink);\n",
              "        }\n",
              "      </script>\n",
              "    </div>\n",
              "  </div>\n",
              "  "
            ]
          },
          "metadata": {},
          "execution_count": 16
        }
      ],
      "source": [
        "df.head()"
      ]
    },
    {
      "cell_type": "markdown",
      "metadata": {
        "id": "7_-Z2dxxSkSC"
      },
      "source": [
        "Make Bigrams and Lemmatize "
      ]
    },
    {
      "cell_type": "code",
      "execution_count": null,
      "metadata": {
        "id": "VLryCG1ZPxei"
      },
      "outputs": [],
      "source": [
        "data_words = df.cleaned_token.tolist()\n",
        "bigram = gensim.models.Phrases(data_words, min_count=5, threshold=100)\n",
        "# trigram = gensim.models.Phrases(bigram[data_words], threshold=100)\n",
        "\n",
        "bigram_mod = gensim.models.phrases.Phraser(bigram)\n",
        "# trigram_mod = gensim.models.phrases.Phraser(trigram)"
      ]
    },
    {
      "cell_type": "code",
      "execution_count": null,
      "metadata": {
        "id": "o9sVZMxkSw85"
      },
      "outputs": [],
      "source": [
        "def make_bigrams(texts):\n",
        "    return [bigram_mod[doc] for doc in texts]"
      ]
    },
    {
      "cell_type": "code",
      "execution_count": null,
      "metadata": {
        "id": "C1wjtXniTspi"
      },
      "outputs": [],
      "source": [
        "data_words_nostops = df.cleaned_tokenized_nostop.tolist()\n",
        "data_words_bigrams = make_bigrams(data_words_nostops)"
      ]
    },
    {
      "cell_type": "code",
      "execution_count": null,
      "metadata": {
        "id": "fKQMQvkETwNo"
      },
      "outputs": [],
      "source": [
        "def lemmatization(texts, allowed_postags=['NOUN', 'ADJ', 'VERB', 'ADV']):\n",
        "    \"\"\"https://spacy.io/api/annotation\"\"\"\n",
        "    texts_out = []\n",
        "    for sent in texts:\n",
        "        doc = nlp(\" \".join(sent)) \n",
        "        texts_out.append([token.lemma_ for token in doc if token.pos_ in allowed_postags])\n",
        "    return texts_out"
      ]
    },
    {
      "cell_type": "code",
      "execution_count": null,
      "metadata": {
        "id": "8RcqiK9Z5LBD",
        "outputId": "a300981f-0645-4c58-e8d0-b85ccf66b2c3",
        "colab": {
          "base_uri": "https://localhost:8080/"
        }
      },
      "outputs": [
        {
          "output_type": "stream",
          "name": "stdout",
          "text": [
            "Collecting en_core_web_sm==2.2.5\n",
            "  Downloading https://github.com/explosion/spacy-models/releases/download/en_core_web_sm-2.2.5/en_core_web_sm-2.2.5.tar.gz (12.0 MB)\n",
            "\u001b[K     |████████████████████████████████| 12.0 MB 4.5 MB/s \n",
            "\u001b[?25hRequirement already satisfied: spacy>=2.2.2 in /usr/local/lib/python3.7/dist-packages (from en_core_web_sm==2.2.5) (2.2.4)\n",
            "Requirement already satisfied: preshed<3.1.0,>=3.0.2 in /usr/local/lib/python3.7/dist-packages (from spacy>=2.2.2->en_core_web_sm==2.2.5) (3.0.6)\n",
            "Requirement already satisfied: tqdm<5.0.0,>=4.38.0 in /usr/local/lib/python3.7/dist-packages (from spacy>=2.2.2->en_core_web_sm==2.2.5) (4.63.0)\n",
            "Requirement already satisfied: numpy>=1.15.0 in /usr/local/lib/python3.7/dist-packages (from spacy>=2.2.2->en_core_web_sm==2.2.5) (1.21.5)\n",
            "Requirement already satisfied: cymem<2.1.0,>=2.0.2 in /usr/local/lib/python3.7/dist-packages (from spacy>=2.2.2->en_core_web_sm==2.2.5) (2.0.6)\n",
            "Requirement already satisfied: srsly<1.1.0,>=1.0.2 in /usr/local/lib/python3.7/dist-packages (from spacy>=2.2.2->en_core_web_sm==2.2.5) (1.0.5)\n",
            "Requirement already satisfied: blis<0.5.0,>=0.4.0 in /usr/local/lib/python3.7/dist-packages (from spacy>=2.2.2->en_core_web_sm==2.2.5) (0.4.1)\n",
            "Requirement already satisfied: plac<1.2.0,>=0.9.6 in /usr/local/lib/python3.7/dist-packages (from spacy>=2.2.2->en_core_web_sm==2.2.5) (1.1.3)\n",
            "Requirement already satisfied: murmurhash<1.1.0,>=0.28.0 in /usr/local/lib/python3.7/dist-packages (from spacy>=2.2.2->en_core_web_sm==2.2.5) (1.0.6)\n",
            "Requirement already satisfied: catalogue<1.1.0,>=0.0.7 in /usr/local/lib/python3.7/dist-packages (from spacy>=2.2.2->en_core_web_sm==2.2.5) (1.0.0)\n",
            "Requirement already satisfied: requests<3.0.0,>=2.13.0 in /usr/local/lib/python3.7/dist-packages (from spacy>=2.2.2->en_core_web_sm==2.2.5) (2.23.0)\n",
            "Requirement already satisfied: setuptools in /usr/local/lib/python3.7/dist-packages (from spacy>=2.2.2->en_core_web_sm==2.2.5) (57.4.0)\n",
            "Requirement already satisfied: wasabi<1.1.0,>=0.4.0 in /usr/local/lib/python3.7/dist-packages (from spacy>=2.2.2->en_core_web_sm==2.2.5) (0.9.0)\n",
            "Requirement already satisfied: thinc==7.4.0 in /usr/local/lib/python3.7/dist-packages (from spacy>=2.2.2->en_core_web_sm==2.2.5) (7.4.0)\n",
            "Requirement already satisfied: importlib-metadata>=0.20 in /usr/local/lib/python3.7/dist-packages (from catalogue<1.1.0,>=0.0.7->spacy>=2.2.2->en_core_web_sm==2.2.5) (4.11.2)\n",
            "Requirement already satisfied: zipp>=0.5 in /usr/local/lib/python3.7/dist-packages (from importlib-metadata>=0.20->catalogue<1.1.0,>=0.0.7->spacy>=2.2.2->en_core_web_sm==2.2.5) (3.7.0)\n",
            "Requirement already satisfied: typing-extensions>=3.6.4 in /usr/local/lib/python3.7/dist-packages (from importlib-metadata>=0.20->catalogue<1.1.0,>=0.0.7->spacy>=2.2.2->en_core_web_sm==2.2.5) (3.10.0.2)\n",
            "Requirement already satisfied: idna<3,>=2.5 in /usr/local/lib/python3.7/dist-packages (from requests<3.0.0,>=2.13.0->spacy>=2.2.2->en_core_web_sm==2.2.5) (2.10)\n",
            "Requirement already satisfied: urllib3!=1.25.0,!=1.25.1,<1.26,>=1.21.1 in /usr/local/lib/python3.7/dist-packages (from requests<3.0.0,>=2.13.0->spacy>=2.2.2->en_core_web_sm==2.2.5) (1.24.3)\n",
            "Requirement already satisfied: chardet<4,>=3.0.2 in /usr/local/lib/python3.7/dist-packages (from requests<3.0.0,>=2.13.0->spacy>=2.2.2->en_core_web_sm==2.2.5) (3.0.4)\n",
            "Requirement already satisfied: certifi>=2017.4.17 in /usr/local/lib/python3.7/dist-packages (from requests<3.0.0,>=2.13.0->spacy>=2.2.2->en_core_web_sm==2.2.5) (2021.10.8)\n",
            "\u001b[38;5;2m✔ Download and installation successful\u001b[0m\n",
            "You can now load the model via spacy.load('en_core_web_sm')\n",
            "\u001b[38;5;2m✔ Linking successful\u001b[0m\n",
            "/usr/local/lib/python3.7/dist-packages/en_core_web_sm -->\n",
            "/usr/local/lib/python3.7/dist-packages/spacy/data/en\n",
            "You can now load the model via spacy.load('en')\n"
          ]
        }
      ],
      "source": [
        "!python -m spacy download en"
      ]
    },
    {
      "cell_type": "code",
      "execution_count": null,
      "metadata": {
        "id": "VwsTrureT-3F"
      },
      "outputs": [],
      "source": [
        "import spacy\n",
        "# Initialize spacy 'en' model, keeping only tagger component (for efficiency)\n",
        "nlp = spacy.load(\"en_core_web_sm\", disable=['parser', 'ner'])\n",
        "# Do lemmatization keeping only noun, adj, vb, adv\n",
        "data_lemmatized = lemmatization(data_words_bigrams, allowed_postags=['NOUN', 'ADJ', 'VERB', 'ADV'])"
      ]
    },
    {
      "cell_type": "code",
      "execution_count": null,
      "metadata": {
        "id": "PS2qI9ftUCqV"
      },
      "outputs": [],
      "source": [
        "df['data_lemmatized'] = data_lemmatized"
      ]
    },
    {
      "cell_type": "code",
      "execution_count": null,
      "metadata": {
        "colab": {
          "base_uri": "https://localhost:8080/",
          "height": 336
        },
        "id": "gK_DMhVqUFZZ",
        "outputId": "de934a77-0a9b-4bc9-dd71-72690392d71a"
      },
      "outputs": [
        {
          "output_type": "execute_result",
          "data": {
            "text/plain": [
              "   0                                                  1  \\\n",
              "0  1  A little less than a decade ago, hockey fans w...   \n",
              "1  1  The writers of the HBO series The Sopranos too...   \n",
              "2  1  Despite claims from the TV news outlet to offe...   \n",
              "3  1  After receiving 'subpar' service and experienc...   \n",
              "4  1  After watching his beloved Seattle Mariners pr...   \n",
              "\n",
              "                                             cleaned  \\\n",
              "0  a little less than a decade ago hockey fans we...   \n",
              "1  the writers of the hbo series the sopranos too...   \n",
              "2  despite claims from the tv news outlet to offe...   \n",
              "3  after receiving subpar service and experiencin...   \n",
              "4  after watching his beloved seattle mariners pr...   \n",
              "\n",
              "                                       cleaned_token  \\\n",
              "0  [a, little, less, than, a, decade, ago, hockey...   \n",
              "1  [the, writers, of, the, hbo, series, the, sopr...   \n",
              "2  [despite, claims, from, the, tv, news, outlet,...   \n",
              "3  [after, receiving, subpar, service, and, exper...   \n",
              "4  [after, watching, his, beloved, seattle, marin...   \n",
              "\n",
              "                            cleaned_tokenized_nostop  \\\n",
              "0  [little, less, decade, hockey, fans, blessed, ...   \n",
              "1  [writers, series, sopranos, took, another, dar...   \n",
              "2  [despite, claims, news, outlet, offer, nonstop...   \n",
              "3  [receiving, subpar, service, experiencing, unu...   \n",
              "4  [watching, beloved, seattle, mariners, prevail...   \n",
              "\n",
              "                                     data_lemmatized  \n",
              "0  [little, less, decade, hockey, fan, bless, sla...  \n",
              "1  [take, daring, storytelling, step, kill, fan, ...  \n",
              "2  [claim, news, outlet, offer, nonstop, news, in...  \n",
              "3  [receive, subpar, service, experience, unusual...  \n",
              "4  [watch, beloved, seattle_mariner, prevail, die...  "
            ],
            "text/html": [
              "\n",
              "  <div id=\"df-08be3641-121b-4b80-8763-fcc04990e136\">\n",
              "    <div class=\"colab-df-container\">\n",
              "      <div>\n",
              "<style scoped>\n",
              "    .dataframe tbody tr th:only-of-type {\n",
              "        vertical-align: middle;\n",
              "    }\n",
              "\n",
              "    .dataframe tbody tr th {\n",
              "        vertical-align: top;\n",
              "    }\n",
              "\n",
              "    .dataframe thead th {\n",
              "        text-align: right;\n",
              "    }\n",
              "</style>\n",
              "<table border=\"1\" class=\"dataframe\">\n",
              "  <thead>\n",
              "    <tr style=\"text-align: right;\">\n",
              "      <th></th>\n",
              "      <th>0</th>\n",
              "      <th>1</th>\n",
              "      <th>cleaned</th>\n",
              "      <th>cleaned_token</th>\n",
              "      <th>cleaned_tokenized_nostop</th>\n",
              "      <th>data_lemmatized</th>\n",
              "    </tr>\n",
              "  </thead>\n",
              "  <tbody>\n",
              "    <tr>\n",
              "      <th>0</th>\n",
              "      <td>1</td>\n",
              "      <td>A little less than a decade ago, hockey fans w...</td>\n",
              "      <td>a little less than a decade ago hockey fans we...</td>\n",
              "      <td>[a, little, less, than, a, decade, ago, hockey...</td>\n",
              "      <td>[little, less, decade, hockey, fans, blessed, ...</td>\n",
              "      <td>[little, less, decade, hockey, fan, bless, sla...</td>\n",
              "    </tr>\n",
              "    <tr>\n",
              "      <th>1</th>\n",
              "      <td>1</td>\n",
              "      <td>The writers of the HBO series The Sopranos too...</td>\n",
              "      <td>the writers of the hbo series the sopranos too...</td>\n",
              "      <td>[the, writers, of, the, hbo, series, the, sopr...</td>\n",
              "      <td>[writers, series, sopranos, took, another, dar...</td>\n",
              "      <td>[take, daring, storytelling, step, kill, fan, ...</td>\n",
              "    </tr>\n",
              "    <tr>\n",
              "      <th>2</th>\n",
              "      <td>1</td>\n",
              "      <td>Despite claims from the TV news outlet to offe...</td>\n",
              "      <td>despite claims from the tv news outlet to offe...</td>\n",
              "      <td>[despite, claims, from, the, tv, news, outlet,...</td>\n",
              "      <td>[despite, claims, news, outlet, offer, nonstop...</td>\n",
              "      <td>[claim, news, outlet, offer, nonstop, news, in...</td>\n",
              "    </tr>\n",
              "    <tr>\n",
              "      <th>3</th>\n",
              "      <td>1</td>\n",
              "      <td>After receiving 'subpar' service and experienc...</td>\n",
              "      <td>after receiving subpar service and experiencin...</td>\n",
              "      <td>[after, receiving, subpar, service, and, exper...</td>\n",
              "      <td>[receiving, subpar, service, experiencing, unu...</td>\n",
              "      <td>[receive, subpar, service, experience, unusual...</td>\n",
              "    </tr>\n",
              "    <tr>\n",
              "      <th>4</th>\n",
              "      <td>1</td>\n",
              "      <td>After watching his beloved Seattle Mariners pr...</td>\n",
              "      <td>after watching his beloved seattle mariners pr...</td>\n",
              "      <td>[after, watching, his, beloved, seattle, marin...</td>\n",
              "      <td>[watching, beloved, seattle, mariners, prevail...</td>\n",
              "      <td>[watch, beloved, seattle_mariner, prevail, die...</td>\n",
              "    </tr>\n",
              "  </tbody>\n",
              "</table>\n",
              "</div>\n",
              "      <button class=\"colab-df-convert\" onclick=\"convertToInteractive('df-08be3641-121b-4b80-8763-fcc04990e136')\"\n",
              "              title=\"Convert this dataframe to an interactive table.\"\n",
              "              style=\"display:none;\">\n",
              "        \n",
              "  <svg xmlns=\"http://www.w3.org/2000/svg\" height=\"24px\"viewBox=\"0 0 24 24\"\n",
              "       width=\"24px\">\n",
              "    <path d=\"M0 0h24v24H0V0z\" fill=\"none\"/>\n",
              "    <path d=\"M18.56 5.44l.94 2.06.94-2.06 2.06-.94-2.06-.94-.94-2.06-.94 2.06-2.06.94zm-11 1L8.5 8.5l.94-2.06 2.06-.94-2.06-.94L8.5 2.5l-.94 2.06-2.06.94zm10 10l.94 2.06.94-2.06 2.06-.94-2.06-.94-.94-2.06-.94 2.06-2.06.94z\"/><path d=\"M17.41 7.96l-1.37-1.37c-.4-.4-.92-.59-1.43-.59-.52 0-1.04.2-1.43.59L10.3 9.45l-7.72 7.72c-.78.78-.78 2.05 0 2.83L4 21.41c.39.39.9.59 1.41.59.51 0 1.02-.2 1.41-.59l7.78-7.78 2.81-2.81c.8-.78.8-2.07 0-2.86zM5.41 20L4 18.59l7.72-7.72 1.47 1.35L5.41 20z\"/>\n",
              "  </svg>\n",
              "      </button>\n",
              "      \n",
              "  <style>\n",
              "    .colab-df-container {\n",
              "      display:flex;\n",
              "      flex-wrap:wrap;\n",
              "      gap: 12px;\n",
              "    }\n",
              "\n",
              "    .colab-df-convert {\n",
              "      background-color: #E8F0FE;\n",
              "      border: none;\n",
              "      border-radius: 50%;\n",
              "      cursor: pointer;\n",
              "      display: none;\n",
              "      fill: #1967D2;\n",
              "      height: 32px;\n",
              "      padding: 0 0 0 0;\n",
              "      width: 32px;\n",
              "    }\n",
              "\n",
              "    .colab-df-convert:hover {\n",
              "      background-color: #E2EBFA;\n",
              "      box-shadow: 0px 1px 2px rgba(60, 64, 67, 0.3), 0px 1px 3px 1px rgba(60, 64, 67, 0.15);\n",
              "      fill: #174EA6;\n",
              "    }\n",
              "\n",
              "    [theme=dark] .colab-df-convert {\n",
              "      background-color: #3B4455;\n",
              "      fill: #D2E3FC;\n",
              "    }\n",
              "\n",
              "    [theme=dark] .colab-df-convert:hover {\n",
              "      background-color: #434B5C;\n",
              "      box-shadow: 0px 1px 3px 1px rgba(0, 0, 0, 0.15);\n",
              "      filter: drop-shadow(0px 1px 2px rgba(0, 0, 0, 0.3));\n",
              "      fill: #FFFFFF;\n",
              "    }\n",
              "  </style>\n",
              "\n",
              "      <script>\n",
              "        const buttonEl =\n",
              "          document.querySelector('#df-08be3641-121b-4b80-8763-fcc04990e136 button.colab-df-convert');\n",
              "        buttonEl.style.display =\n",
              "          google.colab.kernel.accessAllowed ? 'block' : 'none';\n",
              "\n",
              "        async function convertToInteractive(key) {\n",
              "          const element = document.querySelector('#df-08be3641-121b-4b80-8763-fcc04990e136');\n",
              "          const dataTable =\n",
              "            await google.colab.kernel.invokeFunction('convertToInteractive',\n",
              "                                                     [key], {});\n",
              "          if (!dataTable) return;\n",
              "\n",
              "          const docLinkHtml = 'Like what you see? Visit the ' +\n",
              "            '<a target=\"_blank\" href=https://colab.research.google.com/notebooks/data_table.ipynb>data table notebook</a>'\n",
              "            + ' to learn more about interactive tables.';\n",
              "          element.innerHTML = '';\n",
              "          dataTable['output_type'] = 'display_data';\n",
              "          await google.colab.output.renderOutput(dataTable, element);\n",
              "          const docLink = document.createElement('div');\n",
              "          docLink.innerHTML = docLinkHtml;\n",
              "          element.appendChild(docLink);\n",
              "        }\n",
              "      </script>\n",
              "    </div>\n",
              "  </div>\n",
              "  "
            ]
          },
          "metadata": {},
          "execution_count": 24
        }
      ],
      "source": [
        "df.head()"
      ]
    },
    {
      "cell_type": "markdown",
      "metadata": {
        "id": "ai3FHc0uXzQn"
      },
      "source": [
        "# LDA Topic Modelling "
      ]
    },
    {
      "cell_type": "code",
      "execution_count": null,
      "metadata": {
        "id": "T8yPEvZwXtgW"
      },
      "outputs": [],
      "source": [
        "X = df.data_lemmatized.values"
      ]
    },
    {
      "cell_type": "code",
      "execution_count": null,
      "metadata": {
        "colab": {
          "base_uri": "https://localhost:8080/"
        },
        "id": "3EUuP87GX4Wz",
        "outputId": "9d7c7080-3652-4976-d2b3-d11b49031e5f",
        "scrolled": true
      },
      "outputs": [
        {
          "output_type": "stream",
          "name": "stdout",
          "text": [
            "Observations: 48854\n",
            "Training Observations: 34197\n",
            "Testing Observations: 14657\n"
          ]
        }
      ],
      "source": [
        "train_size = int(len(X) * 0.7)\n",
        "train, test = X[0:train_size], X[train_size:len(X)]\n",
        "print('Observations: %d' % (len(X)))\n",
        "print('Training Observations: %d' % (len(train)))\n",
        "print('Testing Observations: %d' % (len(test)))"
      ]
    },
    {
      "cell_type": "markdown",
      "metadata": {
        "id": "gIBvGn6oYAh3"
      },
      "source": [
        "Data transformation"
      ]
    },
    {
      "cell_type": "code",
      "execution_count": null,
      "metadata": {
        "colab": {
          "base_uri": "https://localhost:8080/"
        },
        "id": "m3fjdSZdYAQe",
        "outputId": "0ee4ace3-dc67-4422-d091-637b69be9527"
      },
      "outputs": [
        {
          "output_type": "stream",
          "name": "stdout",
          "text": [
            "[[(0, 2), (1, 1), (2, 1), (3, 1), (4, 1), (5, 1), (6, 1), (7, 1), (8, 1), (9, 1), (10, 1), (11, 1), (12, 1), (13, 1), (14, 1), (15, 2), (16, 1), (17, 2), (18, 1), (19, 1), (20, 3), (21, 2), (22, 1), (23, 1), (24, 1), (25, 1), (26, 1), (27, 1), (28, 1), (29, 1), (30, 1), (31, 1), (32, 1), (33, 1), (34, 1), (35, 1), (36, 1), (37, 1), (38, 1), (39, 1), (40, 1), (41, 1), (42, 1), (43, 1), (44, 1), (45, 1), (46, 1), (47, 1), (48, 1), (49, 1), (50, 1), (51, 2), (52, 1), (53, 1), (54, 1), (55, 1), (56, 1), (57, 1)]]\n"
          ]
        }
      ],
      "source": [
        "# Create Dictionary\n",
        "id2word = corpora.Dictionary(train)\n",
        "# Create Corpus\n",
        "texts = train\n",
        "# Term Document Frequency\n",
        "corpus = [id2word.doc2bow(text) for text in texts]\n",
        "# View\n",
        "print(corpus[:1])"
      ]
    },
    {
      "cell_type": "markdown",
      "metadata": {
        "id": "-gO2M3RBYL_i"
      },
      "source": [
        "Building the LDA model"
      ]
    },
    {
      "cell_type": "code",
      "execution_count": null,
      "metadata": {
        "id": "q-7-b-iLX7Fi"
      },
      "outputs": [],
      "source": [
        "# Build LDA model\n",
        "lda_model = gensim.models.LdaMulticore(corpus=corpus,\n",
        "                                       id2word=id2word,\n",
        "                                       num_topics=10, \n",
        "                                       random_state=100,\n",
        "                                       chunksize=100,\n",
        "                                       passes=10,\n",
        "                                       per_word_topics=True)"
      ]
    },
    {
      "cell_type": "code",
      "execution_count": null,
      "metadata": {
        "colab": {
          "base_uri": "https://localhost:8080/"
        },
        "id": "YznEq5tdYQIO",
        "outputId": "12cdd6b0-f3e9-4931-f6a9-8b345eeee832"
      },
      "outputs": [
        {
          "output_type": "stream",
          "name": "stdout",
          "text": [
            "[(0, '0.023*\"money\" + 0.016*\"market\" + 0.015*\"company\" + 0.014*\"bank\" + 0.014*\"year\" + 0.013*\"dollar\" + 0.013*\"price\" + 0.013*\"gold\" + 0.012*\"financial\" + 0.012*\"percent\"'), (1, '0.022*\"news\" + 0.017*\"show\" + 0.016*\"video\" + 0.015*\"medium\" + 0.012*\"fake\" + 0.011*\"film\" + 0.010*\"narrative\" + 0.009*\"event\" + 0.009*\"edit\" + 0.008*\"watch\"'), (2, '0.017*\"world\" + 0.012*\"human\" + 0.012*\"global\" + 0.009*\"create\" + 0.009*\"technology\" + 0.009*\"control\" + 0.008*\"system\" + 0.008*\"power\" + 0.006*\"science\" + 0.006*\"population\"'), (3, '0.022*\"article\" + 0.012*\"report\" + 0.010*\"military\" + 0.010*\"government\" + 0.010*\"information\" + 0.009*\"also\" + 0.009*\"attack\" + 0.008*\"use\" + 0.007*\"terrorist\" + 0.006*\"say\"'), (4, '0.049*\"food\" + 0.038*\"water\" + 0.013*\"plant\" + 0.011*\"product\" + 0.009*\"use\" + 0.009*\"natural\" + 0.009*\"animal\" + 0.009*\"chemical\" + 0.007*\"find\" + 0.007*\"farm\"'), (5, '0.018*\"vaccine\" + 0.014*\"health\" + 0.012*\"study\" + 0.010*\"child\" + 0.008*\"cause\" + 0.008*\"drug\" + 0.008*\"case\" + 0.008*\"find\" + 0.008*\"year\" + 0.007*\"report\"'), (6, '0.018*\"people\" + 0.016*\"know\" + 0.014*\"would\" + 0.014*\"make\" + 0.013*\"go\" + 0.013*\"time\" + 0.010*\"think\" + 0.010*\"say\" + 0.010*\"thing\" + 0.009*\"want\"'), (7, '0.038*\"game\" + 0.014*\"team\" + 0.012*\"player\" + 0.011*\"play\" + 0.009*\"airstrike\" + 0.009*\"obamas\" + 0.007*\"sunday\" + 0.007*\"sport\" + 0.007*\"perpetual\" + 0.006*\"moron\"'), (8, '0.022*\"police\" + 0.010*\"kill\" + 0.009*\"officer\" + 0.007*\"take\" + 0.007*\"city\" + 0.007*\"event\" + 0.006*\"murder\" + 0.006*\"crime\" + 0.006*\"shoot\" + 0.006*\"people\"'), (9, '0.020*\"government\" + 0.014*\"would\" + 0.013*\"state\" + 0.011*\"people\" + 0.008*\"make\" + 0.008*\"country\" + 0.007*\"right\" + 0.006*\"nation\" + 0.005*\"take\" + 0.005*\"support\"')]\n"
          ]
        }
      ],
      "source": [
        "print(lda_model.print_topics())"
      ]
    },
    {
      "cell_type": "markdown",
      "metadata": {
        "id": "z0qUO5LlYXsO"
      },
      "source": [
        "Coherence score "
      ]
    },
    {
      "cell_type": "code",
      "execution_count": null,
      "metadata": {
        "colab": {
          "base_uri": "https://localhost:8080/"
        },
        "id": "6u5zXgVaYTz5",
        "outputId": "a09f3e7c-627e-4b96-ac44-6609d97f38a2"
      },
      "outputs": [
        {
          "output_type": "stream",
          "name": "stdout",
          "text": [
            "\n",
            "Baseline Coherence Score:  0.43681715033516433\n"
          ]
        }
      ],
      "source": [
        "# Compute Coherence Score\n",
        "coherence_model_lda = CoherenceModel(model=lda_model, \n",
        "                                     texts=texts, \n",
        "                                     dictionary=id2word, \n",
        "                                     coherence='c_v')\n",
        "coherence_lda = coherence_model_lda.get_coherence()\n",
        "print('\\nBaseline Coherence Score: ', coherence_lda)"
      ]
    },
    {
      "cell_type": "code",
      "execution_count": null,
      "metadata": {
        "id": "dpOr5hpgdwcM"
      },
      "outputs": [],
      "source": [
        "def compute_coherence_values(corpus, dictionary, k, a, b):\n",
        "    lda_model = gensim.models.LdaMulticore(corpus=corpus,\n",
        "                                           id2word=dictionary,\n",
        "                                           workers=3, # set to number of cores - 1\n",
        "                                           num_topics=k, \n",
        "                                           random_state=100,\n",
        "                                           chunksize=100,\n",
        "                                           passes=10,\n",
        "                                           alpha=a,\n",
        "                                           eta=b)\n",
        "    \n",
        "    coherence_model_lda = CoherenceModel(model=lda_model, \n",
        "                                         texts=texts, \n",
        "                                         dictionary=id2word, \n",
        "                                         coherence='c_v')\n",
        "    \n",
        "    return coherence_model_lda.get_coherence()"
      ]
    },
    {
      "cell_type": "markdown",
      "metadata": {
        "id": "S17iku3fe_2D"
      },
      "source": [
        ""
      ]
    },
    {
      "cell_type": "markdown",
      "metadata": {
        "id": "EVA6fTkufFPu"
      },
      "source": [
        "Hyper parameter tuning "
      ]
    },
    {
      "cell_type": "code",
      "execution_count": null,
      "metadata": {
        "id": "C_Q_zKoCfEw6"
      },
      "outputs": [],
      "source": [
        "model_results = {\n",
        "                 'Topics': [],\n",
        "                 'Alpha': [],\n",
        "                 'Eta': [],\n",
        "                 'Coherence': []\n",
        "                }"
      ]
    },
    {
      "cell_type": "code",
      "execution_count": null,
      "metadata": {
        "id": "yQFtGNTtfI72"
      },
      "outputs": [],
      "source": [
        "min_topics = 2\n",
        "max_topics = 11\n",
        "step_size = 1\n",
        "topics_range = range(min_topics, max_topics, step_size)"
      ]
    },
    {
      "cell_type": "code",
      "execution_count": null,
      "metadata": {
        "id": "jKqYTRPtfKhy"
      },
      "outputs": [],
      "source": [
        "alpha = list(np.arange(0.01, 1, 0.3))\n",
        "alpha.append('symmetric')\n",
        "alpha.append('asymmetric')"
      ]
    },
    {
      "cell_type": "code",
      "execution_count": null,
      "metadata": {
        "id": "qIN4q6XofMCs"
      },
      "outputs": [],
      "source": [
        "eta = list(np.arange(0.01, 1, 0.3))\n",
        "eta.append('symmetric')"
      ]
    },
    {
      "cell_type": "code",
      "execution_count": null,
      "metadata": {
        "id": "XnCu5_zWfQMm"
      },
      "outputs": [],
      "source": [
        "# if 1 == 1:\n",
        "#     pbar = tqdm.tqdm(total=10)\n",
        "    \n",
        "#     for k in topics_range:\n",
        "#         for a in alpha:\n",
        "#             for b in eta:\n",
        "#                 cv = compute_coherence_values(corpus=corpus, \n",
        "#                                               dictionary=id2word, \n",
        "#                                               k=k, \n",
        "#                                               a=a, \n",
        "#                                               b=b)\n",
        "#                 # Save the model results\n",
        "#                 model_results['Topics'].append(k)\n",
        "#                 model_results['Alpha'].append(a)\n",
        "#                 model_results['Eta'].append(b)\n",
        "#                 model_results['Coherence'].append(cv)\n",
        "\n",
        "#                 pbar.update(1)\n",
        "#     pd.DataFrame(model_results).to_csv('lda_tuning_results.csv', index=False)\n",
        "#     pbar.close()"
      ]
    },
    {
      "cell_type": "code",
      "execution_count": null,
      "metadata": {
        "id": "UCio7f_7fbUZ",
        "outputId": "ffb92017-caf6-44f7-f1f3-8a9691da7636",
        "colab": {
          "base_uri": "https://localhost:8080/"
        }
      },
      "outputs": [
        {
          "output_type": "execute_result",
          "data": {
            "text/plain": [
              "{'Alpha': [], 'Coherence': [], 'Eta': [], 'Topics': []}"
            ]
          },
          "metadata": {},
          "execution_count": 37
        }
      ],
      "source": [
        "model_results"
      ]
    },
    {
      "cell_type": "markdown",
      "metadata": {
        "id": "Na3u6xO55LBI"
      },
      "source": [
        "# Building the LDA model"
      ]
    },
    {
      "cell_type": "code",
      "execution_count": null,
      "metadata": {
        "id": "mcoRliXf5LBI"
      },
      "outputs": [],
      "source": [
        "k = 6\n",
        "a = 0.01\n",
        "b = 'symmetric'"
      ]
    },
    {
      "cell_type": "code",
      "execution_count": null,
      "metadata": {
        "id": "O0jKjm6B5LBI"
      },
      "outputs": [],
      "source": [
        "# Create Dictionary\n",
        "id2word = corpora.Dictionary(X)\n",
        "# Create Corpus\n",
        "texts = X\n",
        "# Term Document Frequency\n",
        "corpus = [id2word.doc2bow(text) for text in texts]"
      ]
    },
    {
      "cell_type": "code",
      "execution_count": null,
      "metadata": {
        "id": "QSwsjhty5LBJ"
      },
      "outputs": [],
      "source": [
        "lda_model = gensim.models.LdaMulticore(corpus=corpus,\n",
        "                                       id2word=id2word,\n",
        "                                       workers=3,\n",
        "                                       num_topics=k, \n",
        "                                       random_state=100,\n",
        "                                       chunksize=100,\n",
        "                                       passes=10,\n",
        "                                       alpha=a,\n",
        "                                       eta=b)"
      ]
    },
    {
      "cell_type": "code",
      "execution_count": null,
      "metadata": {
        "scrolled": true,
        "id": "YhiDeBA55LBJ",
        "outputId": "d28b45f3-ec13-4a4d-e3a9-4b12c2fecdf2",
        "colab": {
          "base_uri": "https://localhost:8080/"
        }
      },
      "outputs": [
        {
          "output_type": "stream",
          "name": "stdout",
          "text": [
            "Collecting pyLDAvis\n",
            "  Downloading pyLDAvis-3.3.1.tar.gz (1.7 MB)\n",
            "\u001b[K     |████████████████████████████████| 1.7 MB 5.2 MB/s \n",
            "\u001b[?25h  Installing build dependencies ... \u001b[?25l\u001b[?25hdone\n",
            "  Getting requirements to build wheel ... \u001b[?25l\u001b[?25hdone\n",
            "  Installing backend dependencies ... \u001b[?25l\u001b[?25hdone\n",
            "    Preparing wheel metadata ... \u001b[?25l\u001b[?25hdone\n",
            "Requirement already satisfied: jinja2 in /usr/local/lib/python3.7/dist-packages (from pyLDAvis) (2.11.3)\n",
            "Requirement already satisfied: sklearn in /usr/local/lib/python3.7/dist-packages (from pyLDAvis) (0.0)\n",
            "Requirement already satisfied: future in /usr/local/lib/python3.7/dist-packages (from pyLDAvis) (0.16.0)\n",
            "Requirement already satisfied: pandas>=1.2.0 in /usr/local/lib/python3.7/dist-packages (from pyLDAvis) (1.3.5)\n",
            "Requirement already satisfied: gensim in /usr/local/lib/python3.7/dist-packages (from pyLDAvis) (3.6.0)\n",
            "Requirement already satisfied: setuptools in /usr/local/lib/python3.7/dist-packages (from pyLDAvis) (57.4.0)\n",
            "Requirement already satisfied: numpy>=1.20.0 in /usr/local/lib/python3.7/dist-packages (from pyLDAvis) (1.21.5)\n",
            "Requirement already satisfied: joblib in /usr/local/lib/python3.7/dist-packages (from pyLDAvis) (1.1.0)\n",
            "Requirement already satisfied: scipy in /usr/local/lib/python3.7/dist-packages (from pyLDAvis) (1.4.1)\n",
            "Requirement already satisfied: numexpr in /usr/local/lib/python3.7/dist-packages (from pyLDAvis) (2.8.1)\n",
            "Requirement already satisfied: scikit-learn in /usr/local/lib/python3.7/dist-packages (from pyLDAvis) (1.0.2)\n",
            "Collecting funcy\n",
            "  Downloading funcy-1.17-py2.py3-none-any.whl (33 kB)\n",
            "Requirement already satisfied: python-dateutil>=2.7.3 in /usr/local/lib/python3.7/dist-packages (from pandas>=1.2.0->pyLDAvis) (2.8.2)\n",
            "Requirement already satisfied: pytz>=2017.3 in /usr/local/lib/python3.7/dist-packages (from pandas>=1.2.0->pyLDAvis) (2018.9)\n",
            "Requirement already satisfied: six>=1.5 in /usr/local/lib/python3.7/dist-packages (from python-dateutil>=2.7.3->pandas>=1.2.0->pyLDAvis) (1.15.0)\n",
            "Requirement already satisfied: smart-open>=1.2.1 in /usr/local/lib/python3.7/dist-packages (from gensim->pyLDAvis) (5.2.1)\n",
            "Requirement already satisfied: MarkupSafe>=0.23 in /usr/local/lib/python3.7/dist-packages (from jinja2->pyLDAvis) (2.0.1)\n",
            "Requirement already satisfied: packaging in /usr/local/lib/python3.7/dist-packages (from numexpr->pyLDAvis) (21.3)\n",
            "Requirement already satisfied: pyparsing!=3.0.5,>=2.0.2 in /usr/local/lib/python3.7/dist-packages (from packaging->numexpr->pyLDAvis) (3.0.7)\n",
            "Requirement already satisfied: threadpoolctl>=2.0.0 in /usr/local/lib/python3.7/dist-packages (from scikit-learn->pyLDAvis) (3.1.0)\n",
            "Building wheels for collected packages: pyLDAvis\n",
            "  Building wheel for pyLDAvis (PEP 517) ... \u001b[?25l\u001b[?25hdone\n",
            "  Created wheel for pyLDAvis: filename=pyLDAvis-3.3.1-py2.py3-none-any.whl size=136898 sha256=12c4f5ea2ba4990b3ccac0d8c563b4eba093b3c22417d56d4c22f4048f0a023e\n",
            "  Stored in directory: /root/.cache/pip/wheels/c9/21/f6/17bcf2667e8a68532ba2fbf6d5c72fdf4c7f7d9abfa4852d2f\n",
            "Successfully built pyLDAvis\n",
            "Installing collected packages: funcy, pyLDAvis\n",
            "Successfully installed funcy-1.17 pyLDAvis-3.3.1\n"
          ]
        }
      ],
      "source": [
        "!pip install pyLDAvis"
      ]
    },
    {
      "cell_type": "code",
      "execution_count": null,
      "metadata": {
        "scrolled": true,
        "id": "6r32DUeT5LBJ",
        "colab": {
          "base_uri": "https://localhost:8080/",
          "height": 1000
        },
        "outputId": "f8796db5-547b-4939-f2e6-c81ae5e0b3a8"
      },
      "outputs": [
        {
          "output_type": "stream",
          "name": "stderr",
          "text": [
            "/usr/local/lib/python3.7/dist-packages/past/types/oldstr.py:5: DeprecationWarning: Using or importing the ABCs from 'collections' instead of from 'collections.abc' is deprecated since Python 3.3,and in 3.9 it will stop working\n",
            "  from collections import Iterable\n",
            "/usr/local/lib/python3.7/dist-packages/pyLDAvis/_prepare.py:247: FutureWarning: In a future version of pandas all arguments of DataFrame.drop except for the argument 'labels' will be keyword-only\n",
            "  by='saliency', ascending=False).head(R).drop('saliency', 1)\n",
            "/usr/local/lib/python3.7/dist-packages/pyLDAvis/_prepare.py:302: SettingWithCopyWarning: \n",
            "A value is trying to be set on a copy of a slice from a DataFrame.\n",
            "Try using .loc[row_indexer,col_indexer] = value instead\n",
            "\n",
            "See the caveats in the documentation: https://pandas.pydata.org/pandas-docs/stable/user_guide/indexing.html#returning-a-view-versus-a-copy\n",
            "  token_table['Freq'] = token_table['Freq'].round()\n"
          ]
        },
        {
          "output_type": "execute_result",
          "data": {
            "text/plain": [
              "PreparedData(topic_coordinates=              x         y  topics  cluster       Freq\n",
              "topic                                                \n",
              "2      0.016763 -0.060885       1        1  29.761715\n",
              "3      0.133077  0.055039       2        1  20.210628\n",
              "5     -0.002560 -0.118798       3        1  19.767035\n",
              "4     -0.180337  0.205523       4        1  13.187042\n",
              "0      0.176854  0.058710       5        1   9.730380\n",
              "1     -0.143796 -0.139589       6        1   7.343200, topic_info=             Term           Freq          Total Category  logprob  loglift\n",
              "42            say  169361.000000  169361.000000  Default  30.0000  30.0000\n",
              "408       percent   31737.000000   31737.000000  Default  29.0000  29.0000\n",
              "1302   government   47625.000000   47625.000000  Default  28.0000  28.0000\n",
              "1279      company   16901.000000   16901.000000  Default  27.0000  27.0000\n",
              "190   information   11729.000000   11729.000000  Default  26.0000  26.0000\n",
              "...           ...            ...            ...      ...      ...      ...\n",
              "323         could    3555.699715   32383.365209   Topic6  -5.3559   0.4023\n",
              "675          work    3425.014293   28640.131428   Topic6  -5.3933   0.4877\n",
              "1346      provide    2462.942863   11438.567501   Topic6  -5.7231   1.0758\n",
              "89          would    2919.833059   62761.898360   Topic6  -5.5529  -0.4564\n",
              "75           make    2835.324972   51815.801454   Topic6  -5.5823  -0.2941\n",
              "\n",
              "[530 rows x 6 columns], token_table=      Topic      Freq    Term\n",
              "term                         \n",
              "528       1  0.274772  access\n",
              "528       3  0.197687  access\n",
              "528       6  0.527413  access\n",
              "922       1  0.413933  accord\n",
              "922       2  0.049287  accord\n",
              "...     ...       ...     ...\n",
              "56        2  0.297267    year\n",
              "56        3  0.417242    year\n",
              "56        4  0.001551    year\n",
              "56        5  0.076380    year\n",
              "56        6  0.013945    year\n",
              "\n",
              "[1243 rows x 3 columns], R=30, lambda_step=0.01, plot_opts={'xlab': 'PC1', 'ylab': 'PC2'}, topic_order=[3, 4, 6, 5, 1, 2])"
            ],
            "text/html": [
              "\n",
              "<link rel=\"stylesheet\" type=\"text/css\" href=\"https://cdn.jsdelivr.net/gh/bmabey/pyLDAvis@3.3.1/pyLDAvis/js/ldavis.v1.0.0.css\">\n",
              "\n",
              "\n",
              "<div id=\"ldavis_el601396524793929762336488988\"></div>\n",
              "<script type=\"text/javascript\">\n",
              "\n",
              "var ldavis_el601396524793929762336488988_data = {\"mdsDat\": {\"x\": [0.016762684550204018, 0.1330766530045624, -0.002560339239385266, -0.18033694330260236, 0.17685391181497884, -0.14379596682775794], \"y\": [-0.060885269523331016, 0.05503930661854614, -0.11879773031449657, 0.2055227233844674, 0.0587096830448927, -0.13958871321007926], \"topics\": [1, 2, 3, 4, 5, 6], \"cluster\": [1, 1, 1, 1, 1, 1], \"Freq\": [29.76171489183369, 20.21062783102281, 19.767034963739356, 13.187042338734825, 9.730379717291699, 7.343200257377641]}, \"tinfo\": {\"Term\": [\"say\", \"percent\", \"government\", \"company\", \"information\", \"year\", \"program\", \"child\", \"school\", \"system\", \"use\", \"human\", \"technology\", \"go\", \"dollar\", \"water\", \"market\", \"think\", \"economic\", \"food\", \"world\", \"family\", \"police\", \"military\", \"home\", \"make\", \"play\", \"game\", \"economy\", \"study\", \"terrorist\", \"arrest\", \"criminal\", \"opposition\", \"protest\", \"troop\", \"israeli\", \"syrian\", \"enforcement\", \"civilian\", \"isis\", \"prosecutor\", \"terrorism\", \"ally\", \"regime\", \"militant\", \"iranian\", \"violate\", \"violation\", \"amendment\", \"rebel\", \"iraqi\", \"constitutional\", \"constitution\", \"missile\", \"palestinian\", \"afghan\", \"convict\", \"bombing\", \"protester\", \"military\", \"police\", \"justice\", \"border\", \"crime\", \"russian\", \"attack\", \"court\", \"violence\", \"weapon\", \"investigation\", \"political\", \"officer\", \"bomb\", \"soldier\", \"official\", \"government\", \"leader\", \"state\", \"administration\", \"support\", \"force\", \"rule\", \"member\", \"say\", \"security\", \"report\", \"country\", \"kill\", \"group\", \"public\", \"claim\", \"would\", \"also\", \"people\", \"take\", \"issue\", \"case\", \"policy\", \"include\", \"call\", \"make\", \"right\", \"year\", \"accord\", \"time\", \"trump\", \"tournament\", \"song\", \"championship\", \"athlete\", \"baseball\", \"playoff\", \"singer\", \"fan\", \"jury\", \"musical\", \"comedy\", \"quarterback\", \"album\", \"teammate\", \"bryant\", \"tennis\", \"singe\", \"jazz\", \"performer\", \"citizenship\", \"pitcher\", \"touchdown\", \"actress\", \"dodger\", \"semifinal\", \"pavilion\", \"dancer\", \"crist\", \"composer\", \"football\", \"player\", \"game\", \"league\", \"tonight\", \"movie\", \"viewer\", \"coach\", \"music\", \"career\", \"ball\", \"funny\", \"film\", \"audience\", \"play\", \"star\", \"joke\", \"team\", \"really\", \"win\", \"season\", \"sport\", \"s\", \"guy\", \"think\", \"thing\", \"love\", \"go\", \"be\", \"good\", \"want\", \"feel\", \"look\", \"match\", \"watch\", \"time\", \"know\", \"come\", \"make\", \"show\", \"tell\", \"first\", \"say\", \"would\", \"year\", \"never\", \"take\", \"people\", \"last\", \"give\", \"work\", \"could\", \"even\", \"back\", \"much\", \"economy\", \"vaccine\", \"debt\", \"growth\", \"investor\", \"index\", \"loan\", \"currency\", \"recession\", \"environmental\", \"vaccination\", \"inflation\", \"economist\", \"unemployment\", \"legislature\", \"agricultural\", \"regulator\", \"emission\", \"subsidy\", \"healthcare\", \"agriculture\", \"sovereignty\", \"vaccinate\", \"autism\", \"monetary\", \"bailout\", \"foreclosure\", \"earning\", \"manufacturing\", \"pollution\", \"percent\", \"bank\", \"investment\", \"income\", \"market\", \"banking\", \"mortgage\", \"rate\", \"financial\", \"dollar\", \"price\", \"insurance\", \"economic\", \"export\", \"virus\", \"recovery\", \"stock\", \"chinese\", \"cancer\", \"sector\", \"health\", \"increase\", \"job\", \"profit\", \"industry\", \"money\", \"trade\", \"gold\", \"rise\", \"sale\", \"cost\", \"product\", \"year\", \"company\", \"high\", \"global\", \"business\", \"say\", \"government\", \"would\", \"month\", \"system\", \"also\", \"make\", \"people\", \"country\", \"accord\", \"last\", \"report\", \"many\", \"specie\", \"ancient\", \"consciousness\", \"bacteria\", \"spiritual\", \"biological\", \"evolution\", \"organ\", \"paradigm\", \"insect\", \"genocide\", \"creature\", \"civilization\", \"ambassador\", \"artifact\", \"enslavement\", \"hemp\", \"sculpture\", \"jackson\", \"healthwatch\", \"audiences_around\", \"weekly_spin\", \"secular\", \"harmony\", \"thug\", \"bee\", \"potent\", \"mortality\", \"cuban\", \"rappoport\", \"genetic\", \"brain\", \"masse\", \"human\", \"humanity\", \"scientist\", \"gene\", \"earth\", \"rat\", \"tribe\", \"intellectual\", \"cell\", \"logic\", \"blood\", \"troll\", \"novel\", \"science\", \"psychological\", \"body\", \"planet\", \"death\", \"author\", \"theory\", \"nature\", \"scientific\", \"animal\", \"study\", \"modern\", \"researcher\", \"society\", \"mental\", \"mind\", \"world\", \"book\", \"research\", \"life\", \"cause\", \"elite\", \"control\", \"truth\", \"reality\", \"find\", \"publish\", \"child\", \"evidence\", \"know\", \"many\", \"people\", \"create\", \"form\", \"become\", \"power\", \"must\", \"even\", \"use\", \"live\", \"believe\", \"great\", \"restaurant\", \"meal\", \"pepper\", \"tablespoon\", \"calorie\", \"sauce\", \"onion\", \"chef\", \"cooking\", \"cup\", \"bicycle\", \"bike\", \"pork\", \"cream\", \"peach\", \"carbohydrate\", \"teaspoon\", \"flour\", \"breakfast\", \"chocolate\", \"township\", \"roast\", \"cheese\", \"bathroom\", \"irish\", \"grocery\", \"olive\", \"toilet\", \"serving\", \"dough\", \"tomato\", \"wine\", \"coffee\", \"homeless\", \"student\", \"garden\", \"cook\", \"lunch\", \"school\", \"bottle\", \"vegetable\", \"bake\", \"teacher\", \"quake\", \"water\", \"meat\", \"sugar\", \"flavor\", \"park\", \"hotel\", \"milk\", \"salt\", \"drink\", \"parent\", \"home\", \"tourist\", \"recipe\", \"child\", \"resident\", \"family\", \"food\", \"kid\", \"town\", \"city\", \"store\", \"say\", \"farm\", \"hour\", \"area\", \"mother\", \"house\", \"local\", \"emergency\", \"minute\", \"day\", \"fire\", \"make\", \"find\", \"help\", \"take\", \"time\", \"live\", \"place\", \"year\", \"leave\", \"people\", \"need\", \"come\", \"go\", \"also\", \"work\", \"could\", \"many\", \"software\", \"robot\", \"wireless\", \"catherine\", \"inspection\", \"smartphone\", \"smart_meter\", \"sensor\", \"wifi\", \"france\", \"autonomous\", \"biometric\", \"copyright\", \"google\", \"contrail\", \"robotic\", \"iphone\", \"cybersecurity\", \"cyber\", \"app\", \"scanner\", \"expo\", \"affiliation\", \"astronaut\", \"ipad\", \"automate\", \"adaptation\", \"volt\", \"orchestra\", \"sedan\", \"device\", \"download\", \"geoengineere\", \"computer\", \"user\", \"airline\", \"digital\", \"technology\", \"privacy\", \"database\", \"hacker\", \"surveillance\", \"internet\", \"flight\", \"mobile\", \"online\", \"communication\", \"datum\", \"pilot\", \"information\", \"electronic\", \"drone\", \"application\", \"passenger\", \"electric\", \"phone\", \"company\", \"program\", \"network\", \"site\", \"customer\", \"access\", \"use\", \"system\", \"project\", \"design\", \"service\", \"include\", \"develop\", \"also\", \"say\", \"email\", \"agency\", \"could\", \"work\", \"provide\", \"would\", \"make\"], \"Freq\": [169361.0, 31737.0, 47625.0, 16901.0, 11729.0, 62529.0, 13010.0, 14092.0, 9248.0, 16158.0, 22021.0, 9976.0, 7213.0, 29517.0, 11855.0, 9144.0, 11873.0, 22715.0, 11259.0, 10015.0, 25863.0, 12136.0, 14134.0, 13607.0, 11435.0, 51815.0, 14365.0, 10082.0, 8271.0, 11138.0, 5360.3699743127045, 5337.933778524369, 4659.512520081906, 4276.738111514594, 4047.658112522853, 3821.089426410348, 3227.306804484378, 3190.678456715625, 3156.1050779629686, 2783.8423939035397, 2730.914857867283, 2532.813463482002, 2343.5304522214865, 2264.8276623017323, 1883.8693885791536, 1868.8768577982776, 1828.0756647825524, 1798.5494349398907, 1796.5010409716663, 1645.79632343404, 1614.3457370127453, 1594.8052278481816, 1573.1886028919319, 1560.3160807898896, 1546.5466866172626, 1496.3417535121387, 1453.6074964219495, 1442.431247818969, 1378.6864252527616, 1369.262693463751, 13221.508583521654, 13669.571440421201, 2248.0632449712625, 3172.859010757642, 5618.652781873387, 3146.0608926700056, 11340.821695816703, 7361.905531095024, 4064.7575018868183, 5346.514038293758, 4248.333549298151, 10842.627830674597, 6010.965630159482, 2776.8724877508807, 3356.415155321361, 18687.069372367772, 33915.49865458318, 8191.496025322093, 20140.108038296767, 5986.576822857062, 11560.853362712143, 10760.198054835213, 6885.268582366328, 9383.230204933081, 64802.887088797994, 7292.664945879533, 15465.851773029153, 14424.752295581151, 8798.665800124112, 10586.279864228345, 11055.81931533486, 7332.789797484392, 23399.793577176417, 17451.4522570329, 18869.444851578417, 14480.45752278747, 9110.236349722056, 9032.527102847009, 7174.386587408254, 10512.26401721758, 9958.13390967364, 13234.917416285283, 9087.819345965348, 12107.829107355006, 8348.44490589047, 8539.049501773323, 1960.5248000391243, 1369.5589760371636, 1361.5224715290847, 1336.142003811216, 1229.0145153739827, 1204.8263214344165, 788.2602236781423, 770.1861134546263, 2406.58603747873, 690.3548160379487, 661.356738671705, 639.9320736450953, 521.0206845687597, 486.9522759132858, 469.7717978149492, 454.3615083860373, 442.31607380502953, 432.73640138111193, 391.5783985687628, 386.80707095910634, 386.7496897666384, 383.6023524779843, 367.2583063255847, 367.5961071731468, 359.92681816176554, 353.051543663824, 365.0687703505324, 343.2724248343306, 354.5061659435463, 338.0468747042764, 1727.3138768444874, 6339.849203255559, 9655.280200082576, 944.1620274017907, 602.5982165713607, 4070.560731877358, 1157.4797781326151, 2340.0907084339115, 3380.078784217401, 2917.0754329285064, 1747.9248874226957, 769.1790765437019, 4731.888448095249, 2287.6284900299042, 11879.049396332159, 2342.2054256091105, 919.5123704128087, 10436.21566325511, 8509.384423650423, 2300.124436360188, 5309.551851509801, 2276.480971553745, 13601.577042144761, 1758.9566781100502, 15628.398056680708, 11633.251778843545, 4566.933750602616, 17683.661800007216, 7678.006125617009, 12558.04689956565, 13017.410195566214, 6261.945455338965, 9841.632108929292, 2630.8532178793284, 4422.295012130706, 18233.857049837035, 15034.274034596567, 13331.837408703193, 19697.455654733923, 10526.450032089411, 9742.773787332584, 12174.192667184452, 41389.32371611909, 19606.28098253115, 18587.646674927633, 7156.014184418223, 13767.483627852298, 15772.062702648725, 10236.134745986341, 8981.765225421535, 9397.82822708654, 9641.492302024508, 8588.25695434963, 7279.15144791819, 7401.452188965607, 8270.810012424305, 7726.949422851216, 4644.430210495651, 4628.565987097409, 3151.6935620525855, 2462.3259453386495, 2379.73265228062, 2039.843684232208, 2027.4511022576173, 1714.1028293522193, 1474.6122110901438, 1209.2818590781008, 1185.1504457866201, 1097.889899432307, 1075.239959015977, 900.4022593134383, 897.009518831233, 881.4184095369657, 812.8651760768373, 804.6261355845493, 794.2178798299609, 809.8957388504261, 779.8288148710164, 763.2247992499053, 748.6846009244351, 713.419774983455, 698.6323104316114, 693.3391017980616, 682.1689237884116, 659.0809267614919, 30995.783394654085, 7114.992068615372, 4369.557034521327, 2296.79306847883, 11386.929105125462, 1547.666220991043, 1035.7717842669044, 7468.770907109866, 8215.892596640679, 11103.17747826201, 7971.321159040691, 3413.6765549017746, 10172.07413676663, 2377.864051375634, 1863.4385291027702, 1966.153391645686, 3292.937223738031, 6531.73978568447, 2497.5366559742392, 2812.4235267445565, 9049.997705509326, 8662.251215040897, 3792.878138326295, 2538.3647359549473, 5684.266957102665, 8391.44099495043, 4948.0939092058925, 3222.263461086428, 6196.697471726656, 4454.588762059966, 5351.690931959315, 4949.048510274584, 26089.60789736171, 9782.337241696021, 8890.003356066596, 6007.472123387232, 6136.355070344446, 26828.369037770142, 13265.310186045686, 13844.962650406473, 7114.639404422339, 6816.071160377967, 9284.946651031138, 9183.528549361332, 8900.204651760112, 7114.469917882448, 6741.132615948904, 7006.399823602422, 6733.182800224027, 6601.956784471603, 1340.3975056034992, 1003.3282122779149, 756.8122642373407, 734.122373941771, 657.4715154872986, 650.9022911554863, 602.8251688336366, 581.3872586352487, 537.1073749012857, 528.4393388666697, 501.74233274985335, 492.89374953981275, 483.6519467074127, 479.31507442272175, 464.08151476159, 443.25709488911593, 438.0847686991296, 422.52196437422214, 427.29138611734953, 399.2372447560424, 395.3045761019846, 395.2617424066375, 396.00904866130577, 376.7166026739812, 362.02610183051326, 357.05944036892157, 345.70595210359045, 335.0845342104834, 341.72001691478573, 317.5535255212961, 1066.5643683552971, 3942.1191530473907, 963.895386359896, 9183.525385204774, 2382.9559498690505, 4056.5380318361103, 1175.7138364938041, 2446.0109288637236, 574.7120130336112, 575.1440113231737, 540.3773810920321, 2427.3352802155564, 1119.8371234366602, 2350.5103705045312, 644.5955806844963, 1015.4625099916095, 2975.0640730099494, 761.4079890467627, 4848.895255493024, 2282.919901584518, 6671.844417254706, 3734.550214931652, 1355.9325940078882, 2423.64402352829, 1878.9472894479172, 2234.2329502728458, 6717.678990905267, 2015.550715413203, 3046.022498703451, 3002.5437782969825, 1250.6885510333834, 3611.0332702790183, 10552.414069717419, 4454.162910789817, 4171.063994863198, 6383.620260707618, 5180.067750513017, 2049.0046188634124, 5670.541278158102, 3226.838014631204, 2617.748063530203, 7739.435219530123, 3132.0631094637747, 4983.107395929464, 3443.274787498366, 7508.201294642383, 6213.067194259209, 7702.086126909285, 4087.924737055357, 3274.9323806649672, 4398.2073018452875, 3848.589259627808, 3551.361208355841, 4299.281622626536, 3904.717148214653, 3621.417291864273, 3512.4272690071593, 3316.099026383618, 1485.8890154760363, 774.8665660072403, 586.3948162506081, 492.2215430987437, 489.8425031964281, 445.9706613580858, 446.1645378881734, 439.57927200832785, 426.5446920258033, 424.3670815300845, 366.73201047274966, 362.1509003746352, 353.46291367461265, 344.3030755394368, 337.3007456286551, 327.42535959280224, 322.80927386654497, 313.75912673790356, 313.72691081463904, 301.36546642623944, 289.33597096042166, 284.0515137621453, 272.9104689700163, 258.52424363711026, 261.0577689135652, 256.1401491174384, 240.69107428729225, 238.7538486112431, 235.91647982767822, 227.58896868382243, 266.64001279298157, 915.0817676661815, 750.6938171355653, 772.8772545328023, 5547.004946378551, 853.2829119873937, 1337.2178456735319, 572.8930037074109, 7748.114881077728, 735.0235156475105, 707.7515891478873, 409.8707875468185, 1680.872564863699, 515.1480092473414, 6630.861781945275, 861.9674998929871, 1004.579752159766, 575.9864295294021, 1254.036041309388, 1274.9843510011613, 796.5739978872439, 893.8807271065986, 1166.6864434893364, 2768.4234542320505, 6394.62221330015, 991.864658853583, 612.7413991797473, 7013.783789908966, 2276.427451645683, 6113.887138563695, 5197.438300249338, 2016.2731520102502, 2087.5058409443495, 4143.378375898331, 2250.4622889802617, 28955.64812570429, 1347.8154610008198, 2981.013455951391, 3769.632067110485, 1845.2792813874883, 2093.150977045468, 4000.0099063958255, 1478.4475729448163, 2284.884349374048, 2875.475137119848, 2213.26960108668, 6540.79198660089, 4283.66480699266, 3703.069147424909, 5277.5866370111635, 5114.389194115557, 3169.257399332694, 3098.3707483408184, 4775.617351489574, 2940.8405191853567, 4163.15622212737, 3039.542206596921, 3223.1231202195095, 3172.5174532302894, 3281.151289449626, 2984.799654846431, 2939.167731335707, 2858.747955811948, 1370.3713005542124, 882.530594894876, 644.6130799338739, 620.5607329555744, 590.6804476423, 461.80487783242427, 389.97106561709734, 383.03366180192216, 378.1124037018926, 376.7601659183464, 344.51251084514513, 339.30983067016047, 339.4306029854154, 320.77254083545483, 289.7581708170698, 268.9298242428408, 268.9331126522233, 253.73160721786425, 252.91095177236525, 247.44850917889156, 246.37835115217698, 250.86830147759662, 235.15720220259473, 230.4304644789052, 228.59561973438193, 222.82237860880267, 224.6125009857238, 207.95578670868758, 208.30308658493897, 196.56120704827177, 2682.697001743042, 446.81139717560274, 503.58745129204476, 2972.59826221371, 2149.172485269052, 1230.8416351086744, 1045.6292988304015, 6395.115468469493, 1773.4188356945037, 857.8197329763645, 438.6480304971697, 2210.446162666139, 3716.1344570196034, 2589.4203488535413, 631.461152376716, 2696.378713974452, 1848.1151863545758, 3133.884657970347, 1144.6424284285852, 6792.882168905142, 1446.2468309733938, 1392.430827601253, 1349.6014438215336, 1515.7659099016435, 648.7936128591286, 1808.9576843368247, 6895.80184115883, 5390.104953095513, 2417.858682222107, 3307.97708446256, 1689.1389201118807, 2120.8900599974677, 6280.731436508293, 5033.878141507055, 2974.021310412626, 2166.1175272807463, 2813.396981078334, 4445.157805084023, 2463.080537286706, 5256.676558572824, 7385.051213706716, 1871.7352609581799, 2276.463918665727, 3555.6997154475775, 3425.0142928044856, 2462.942862547225, 2919.833059098385, 2835.324971750074], \"Total\": [169361.0, 31737.0, 47625.0, 16901.0, 11729.0, 62529.0, 13010.0, 14092.0, 9248.0, 16158.0, 22021.0, 9976.0, 7213.0, 29517.0, 11855.0, 9144.0, 11873.0, 22715.0, 11259.0, 10015.0, 25863.0, 12136.0, 14134.0, 13607.0, 11435.0, 51815.0, 14365.0, 10082.0, 8271.0, 11138.0, 5361.229432315119, 5338.796867666832, 4660.375178544824, 4277.601416315602, 4048.522058972279, 3821.9524351305886, 3228.167763093821, 3191.53670809522, 3156.966930974294, 2784.7035448039373, 2731.77336711794, 2533.6758123464383, 2344.3911362516124, 2265.690726681086, 1884.7307976123523, 1869.736284209075, 1828.935330083082, 1799.4133373174132, 1797.3651134085392, 1646.6591772106465, 1615.206283327989, 1595.6653102998005, 1574.0487313052063, 1561.1765356559433, 1547.4075662924824, 1497.201605837616, 1454.4690665713863, 1443.2952500336512, 1379.5466162945852, 1370.1225055748878, 13607.224559148977, 14134.241881325428, 2261.6809996947845, 3219.352829897687, 5800.527013045267, 3217.3717910876226, 12093.73312979534, 7755.442272637999, 4198.651199482858, 5599.193240607439, 4462.951005370155, 12178.084383133206, 6496.765998677778, 2860.1756495547233, 3542.876369093735, 23596.402584996114, 47625.72855192829, 9716.048827529941, 27088.503007878295, 6958.3805410520035, 15205.334297881544, 14101.573274520419, 8685.2390541851, 12878.519559731258, 169361.5187672224, 9608.269689885132, 26299.010887338893, 24525.101266707716, 12708.26099519822, 17210.214635512228, 18891.644549152632, 10205.534167612717, 62761.898359785904, 44636.719024936334, 55503.10932245727, 40682.88229044295, 16221.368660638509, 15955.709813565787, 10195.667118787058, 25236.283531973237, 22659.759365159065, 51815.80145423541, 19082.32631901876, 62529.64560591823, 20167.51977831317, 41625.94547491699, 1961.373188403834, 1370.4087904475327, 1362.3734715732367, 1336.9905863927568, 1229.8676727176528, 1205.6779860465692, 789.1075129825182, 771.041861575055, 2409.4277284721566, 691.2135502024706, 662.2085765604546, 640.7832246623002, 521.868292468146, 487.80420851650337, 470.61894458418317, 455.21409884210954, 443.17244216070657, 433.59554315345724, 392.4333314448819, 387.66855168608384, 387.6187661079921, 384.4656951900572, 368.10583333100766, 368.4497242110138, 360.7817948444078, 353.9001008386269, 365.9702562981149, 344.1291833877618, 355.398657234384, 338.90866581858313, 1760.1620037407872, 6562.665812144408, 10082.309954847733, 960.7791499562156, 607.94075451704, 4337.629307541831, 1189.1596820131663, 2471.6493811837454, 3625.3123514681633, 3165.811546909261, 1857.452536148833, 791.8086561778966, 5267.711352365541, 2490.8760810626454, 14365.937753748329, 2562.381148400445, 956.086707019191, 12674.68725316901, 10687.860067983001, 2589.802321408422, 6482.711329077541, 2577.5140693649146, 18813.581628191387, 1943.3653124103914, 22715.853495791016, 16422.677108015956, 5928.382692275321, 29517.508484713282, 11093.332476265958, 21712.290037198603, 22935.606003261633, 9422.547804920257, 16843.644190398954, 3159.011275787584, 6148.714259963094, 41625.94547491699, 33083.95583258193, 29406.727250209537, 51815.80145423541, 21647.983790242477, 19677.25433919915, 27177.822667133285, 169361.5187672224, 62761.898359785904, 62529.64560591823, 13546.757861763917, 40682.88229044295, 55503.10932245727, 27029.552772938525, 23003.47603641514, 28640.131428215675, 32383.365209213895, 28546.174613742147, 14911.625517724135, 19005.627576195497, 8271.70810308245, 7727.844018655446, 4645.325566340534, 4629.466656594843, 3152.5898605302486, 2463.2227098746694, 2380.6300448068782, 2040.739106052756, 2028.3497097471827, 1715.0047087344376, 1475.5073376850348, 1210.1760945255933, 1186.0461515705156, 1098.7874812460925, 1076.166819471602, 901.3009741230748, 897.9081833849647, 882.3167370292791, 813.7640214256014, 805.5229149596828, 795.116703977051, 810.8194052063235, 780.7243839019709, 764.1203388357281, 749.5808363890552, 714.3167773656285, 699.5319531863413, 694.234135185186, 683.0676151576097, 659.9800645507048, 31737.706065993545, 7186.082287819829, 4426.435347811554, 2325.1536695115906, 11873.242134692744, 1564.5066807464016, 1042.2299454787367, 7827.067162773081, 8687.333060528288, 11855.127261986627, 8484.898733896855, 3539.965620761913, 11259.451295969318, 2481.6265401267738, 1925.8134431629712, 2043.5661725917678, 3537.057797849646, 7387.42791477885, 2653.091401833293, 3058.691694833001, 11190.553278744752, 10767.422996965335, 4283.830973068095, 2743.7166423698154, 7044.29454174521, 11732.026685657465, 6269.874720304931, 3662.219654390381, 8532.133799630568, 5605.951925798747, 7195.530270887361, 6495.271333392383, 62529.64560591823, 16901.173441572784, 16134.595963486605, 9280.058100956538, 10294.163973943741, 169361.5187672224, 47625.72855192829, 62761.898359785904, 17486.29870808044, 16158.549334440244, 44636.719024936334, 51815.80145423541, 55503.10932245727, 24525.101266707716, 20167.51977831317, 27029.552772938525, 26299.010887338893, 29735.5532948374, 1341.189662627361, 1004.1240673115682, 757.6018646078325, 734.9156949558337, 658.2631762079409, 651.6936393812435, 603.623650314283, 582.1860765513279, 537.8978222944651, 529.2337729628019, 502.53446000473053, 493.6873767942097, 484.4434669257178, 480.1379646543375, 464.89553075676474, 444.047552735377, 438.8763700631128, 423.3356747000498, 428.1329132253448, 400.02688165186925, 396.0940686917146, 396.0513075339156, 396.8030401381073, 377.5176290376343, 362.8262191157779, 357.85017163183977, 346.5140392390298, 335.875988721423, 342.5323010126023, 318.34321941584847, 1078.2667566433415, 4064.1539114374955, 982.1452583829575, 9976.088039487746, 2502.8599790972557, 4554.660281984501, 1245.1155667459661, 2744.015472629827, 588.5776955370063, 590.548640624084, 553.6936073749526, 2787.042440774427, 1224.778162832707, 2797.649106222672, 673.9607742460973, 1123.3141202969407, 3833.1975063068276, 815.0508040025244, 7004.329161124175, 2920.117322167272, 10433.702680733037, 5274.206917837964, 1602.889587671099, 3188.9702167505848, 2376.2698845855048, 2946.833406652111, 11138.479128482666, 2621.3597674639877, 4596.637959851626, 4558.262632422781, 1503.481213869923, 6033.227777799822, 25863.073121179663, 8218.623044790977, 7537.073657094019, 14007.480923263469, 10753.427734668638, 2892.1362190289, 13353.995934296418, 5797.045390416952, 4237.132860040947, 22663.8361799907, 6091.450433210403, 14092.424379237675, 7249.684524882552, 33083.95583258193, 29735.5532948374, 55503.10932245727, 12531.965609498566, 7116.063325167696, 18144.091178677867, 13622.211891942206, 10935.807712810747, 28546.174613742147, 22021.142769985796, 14558.602545292471, 13421.466277748006, 11942.175771615428, 1486.7733107140969, 775.7483537521722, 587.2805155131527, 493.10116528252325, 490.724272842141, 446.851464611988, 447.0496007280661, 440.46547900012354, 427.42619418879065, 425.2495815741601, 367.61979395824756, 363.035129176973, 354.3478627347875, 345.18708678120845, 338.18289619685515, 328.31072599779463, 323.68867448990073, 314.64031240710057, 314.61454142363385, 302.2472261557029, 290.22856384823336, 284.93167708795704, 273.79519082950185, 259.40782733974163, 261.95072007201895, 257.02498231533684, 241.5745070869404, 239.63813932229732, 236.79785967012492, 228.4752903111047, 267.7079484461826, 940.1568832096791, 772.9032713344689, 797.0411130139363, 6326.846475407189, 904.0015574335632, 1450.9413176317207, 595.590270298485, 9248.579017916263, 777.9549409404977, 756.3218767965643, 420.410949247527, 1922.0252914442785, 538.2905395523209, 9144.653470739853, 955.5603297301351, 1132.9297209907102, 614.607078783679, 1477.1216873255503, 1513.4610246541395, 887.0841723236028, 1013.5530487882095, 1400.6596904268551, 4039.028046741933, 11435.898433720395, 1201.4726584498835, 664.1135052872968, 14092.424379237675, 3461.4595924560535, 12136.623986051201, 10015.20068501318, 3012.491961550711, 3283.2202825779677, 8436.436516807184, 3935.29041186507, 169361.5187672224, 1949.05745984223, 6488.567242870065, 9765.658443585755, 3186.7351696080073, 3991.1751712760447, 13099.987566324882, 2471.2342753888884, 5572.292421755579, 9512.636113091248, 5597.335044234829, 51815.80145423541, 22663.8361799907, 18038.550517762327, 40682.88229044295, 41625.94547491699, 14558.602545292471, 14158.567679023667, 62529.64560591823, 13633.616958318744, 55503.10932245727, 19587.544379963776, 29406.727250209537, 29517.508484713282, 44636.719024936334, 28640.131428215675, 32383.365209213895, 29735.5532948374, 1371.2383384458515, 883.3976480576781, 645.4786522784505, 621.4718371664336, 591.5705872849262, 462.6711077472836, 390.8366254202493, 383.899409937593, 378.97831798547986, 377.6814734512588, 345.38960773666236, 340.1750524364994, 340.30269177132266, 321.6421239594512, 290.6241028693998, 269.7958066761738, 269.80460606006665, 254.59591806380314, 253.7767485138838, 248.3146324051553, 247.24559184313168, 251.7527845304341, 236.03462857599988, 231.30085623079125, 229.4702502694519, 223.68973967679977, 225.50799281690803, 208.82942304822467, 209.23934767270532, 197.4518023089045, 2825.420631267764, 453.8377155373557, 514.531245499808, 3196.3240495033106, 2289.2992746960676, 1289.1063091850906, 1091.5493636480076, 7213.839398913322, 1933.7335882874502, 913.8773401028691, 456.06175150194434, 2564.6068645645532, 4526.237514006953, 3202.8160140373348, 690.5872968107561, 3551.1579281020604, 2328.8491395068722, 4566.7418889761675, 1402.9501402606957, 11729.673478297009, 1869.1682532197206, 1889.3615091867507, 1839.3172045968636, 2175.2892360705137, 749.2498772456897, 2842.384447832449, 16901.173441572784, 13010.000825171719, 4515.456229989237, 7231.856519229257, 2842.1501306901323, 4021.5160701210903, 22021.142769985796, 16158.549334440244, 7208.91952707474, 4867.393407809659, 8993.120367331581, 25236.283531973237, 7276.799143278667, 44636.719024936334, 169361.5187672224, 3898.1162720259385, 6866.450407538523, 32383.365209213895, 28640.131428215675, 11438.567500517967, 62761.898359785904, 51815.80145423541], \"Category\": [\"Default\", \"Default\", \"Default\", \"Default\", \"Default\", \"Default\", \"Default\", \"Default\", \"Default\", \"Default\", \"Default\", \"Default\", \"Default\", \"Default\", \"Default\", \"Default\", \"Default\", \"Default\", \"Default\", \"Default\", \"Default\", \"Default\", \"Default\", \"Default\", \"Default\", \"Default\", \"Default\", \"Default\", \"Default\", \"Default\", \"Topic1\", \"Topic1\", \"Topic1\", \"Topic1\", \"Topic1\", \"Topic1\", \"Topic1\", \"Topic1\", \"Topic1\", \"Topic1\", \"Topic1\", \"Topic1\", \"Topic1\", \"Topic1\", \"Topic1\", \"Topic1\", \"Topic1\", \"Topic1\", \"Topic1\", \"Topic1\", \"Topic1\", \"Topic1\", \"Topic1\", \"Topic1\", \"Topic1\", \"Topic1\", \"Topic1\", \"Topic1\", \"Topic1\", \"Topic1\", \"Topic1\", \"Topic1\", \"Topic1\", \"Topic1\", \"Topic1\", \"Topic1\", \"Topic1\", \"Topic1\", \"Topic1\", \"Topic1\", \"Topic1\", \"Topic1\", \"Topic1\", \"Topic1\", \"Topic1\", \"Topic1\", \"Topic1\", \"Topic1\", \"Topic1\", \"Topic1\", \"Topic1\", \"Topic1\", \"Topic1\", \"Topic1\", \"Topic1\", \"Topic1\", \"Topic1\", \"Topic1\", \"Topic1\", \"Topic1\", \"Topic1\", \"Topic1\", \"Topic1\", \"Topic1\", \"Topic1\", \"Topic1\", \"Topic1\", \"Topic1\", \"Topic1\", \"Topic1\", \"Topic1\", \"Topic1\", \"Topic1\", \"Topic1\", \"Topic1\", \"Topic1\", \"Topic2\", \"Topic2\", \"Topic2\", \"Topic2\", \"Topic2\", \"Topic2\", \"Topic2\", \"Topic2\", \"Topic2\", \"Topic2\", \"Topic2\", \"Topic2\", \"Topic2\", \"Topic2\", \"Topic2\", \"Topic2\", \"Topic2\", \"Topic2\", \"Topic2\", \"Topic2\", \"Topic2\", \"Topic2\", \"Topic2\", \"Topic2\", \"Topic2\", \"Topic2\", \"Topic2\", \"Topic2\", \"Topic2\", \"Topic2\", \"Topic2\", \"Topic2\", \"Topic2\", \"Topic2\", \"Topic2\", \"Topic2\", \"Topic2\", \"Topic2\", \"Topic2\", \"Topic2\", \"Topic2\", \"Topic2\", \"Topic2\", \"Topic2\", \"Topic2\", \"Topic2\", \"Topic2\", \"Topic2\", \"Topic2\", \"Topic2\", \"Topic2\", \"Topic2\", \"Topic2\", \"Topic2\", \"Topic2\", \"Topic2\", \"Topic2\", \"Topic2\", \"Topic2\", \"Topic2\", \"Topic2\", \"Topic2\", \"Topic2\", \"Topic2\", \"Topic2\", \"Topic2\", \"Topic2\", \"Topic2\", \"Topic2\", \"Topic2\", \"Topic2\", \"Topic2\", \"Topic2\", \"Topic2\", \"Topic2\", \"Topic2\", \"Topic2\", \"Topic2\", \"Topic2\", \"Topic2\", \"Topic2\", \"Topic2\", \"Topic2\", \"Topic2\", \"Topic2\", \"Topic3\", \"Topic3\", \"Topic3\", \"Topic3\", \"Topic3\", \"Topic3\", \"Topic3\", \"Topic3\", \"Topic3\", \"Topic3\", \"Topic3\", \"Topic3\", \"Topic3\", \"Topic3\", \"Topic3\", \"Topic3\", \"Topic3\", \"Topic3\", \"Topic3\", \"Topic3\", \"Topic3\", \"Topic3\", \"Topic3\", \"Topic3\", \"Topic3\", \"Topic3\", \"Topic3\", \"Topic3\", \"Topic3\", \"Topic3\", \"Topic3\", \"Topic3\", \"Topic3\", \"Topic3\", \"Topic3\", \"Topic3\", \"Topic3\", \"Topic3\", \"Topic3\", \"Topic3\", \"Topic3\", \"Topic3\", \"Topic3\", \"Topic3\", \"Topic3\", \"Topic3\", \"Topic3\", \"Topic3\", \"Topic3\", \"Topic3\", \"Topic3\", \"Topic3\", \"Topic3\", \"Topic3\", \"Topic3\", \"Topic3\", \"Topic3\", \"Topic3\", \"Topic3\", \"Topic3\", \"Topic3\", \"Topic3\", \"Topic3\", \"Topic3\", \"Topic3\", \"Topic3\", \"Topic3\", \"Topic3\", \"Topic3\", \"Topic3\", \"Topic3\", \"Topic3\", \"Topic3\", \"Topic3\", \"Topic3\", \"Topic3\", \"Topic3\", \"Topic3\", \"Topic3\", \"Topic3\", \"Topic4\", \"Topic4\", \"Topic4\", \"Topic4\", \"Topic4\", \"Topic4\", \"Topic4\", \"Topic4\", \"Topic4\", \"Topic4\", \"Topic4\", \"Topic4\", \"Topic4\", \"Topic4\", \"Topic4\", \"Topic4\", \"Topic4\", \"Topic4\", \"Topic4\", \"Topic4\", \"Topic4\", \"Topic4\", \"Topic4\", \"Topic4\", \"Topic4\", \"Topic4\", \"Topic4\", \"Topic4\", \"Topic4\", \"Topic4\", \"Topic4\", \"Topic4\", \"Topic4\", \"Topic4\", \"Topic4\", \"Topic4\", \"Topic4\", \"Topic4\", \"Topic4\", \"Topic4\", \"Topic4\", \"Topic4\", \"Topic4\", \"Topic4\", \"Topic4\", \"Topic4\", \"Topic4\", \"Topic4\", \"Topic4\", \"Topic4\", \"Topic4\", \"Topic4\", \"Topic4\", \"Topic4\", \"Topic4\", \"Topic4\", \"Topic4\", \"Topic4\", \"Topic4\", \"Topic4\", \"Topic4\", \"Topic4\", \"Topic4\", \"Topic4\", \"Topic4\", \"Topic4\", \"Topic4\", \"Topic4\", \"Topic4\", \"Topic4\", \"Topic4\", \"Topic4\", \"Topic4\", \"Topic4\", \"Topic4\", \"Topic4\", \"Topic4\", \"Topic4\", \"Topic4\", \"Topic4\", \"Topic4\", \"Topic4\", \"Topic4\", \"Topic4\", \"Topic4\", \"Topic4\", \"Topic4\", \"Topic4\", \"Topic5\", \"Topic5\", \"Topic5\", \"Topic5\", \"Topic5\", \"Topic5\", \"Topic5\", \"Topic5\", \"Topic5\", \"Topic5\", \"Topic5\", \"Topic5\", \"Topic5\", \"Topic5\", \"Topic5\", \"Topic5\", \"Topic5\", \"Topic5\", \"Topic5\", \"Topic5\", \"Topic5\", \"Topic5\", \"Topic5\", \"Topic5\", \"Topic5\", \"Topic5\", \"Topic5\", \"Topic5\", \"Topic5\", \"Topic5\", \"Topic5\", \"Topic5\", \"Topic5\", \"Topic5\", \"Topic5\", \"Topic5\", \"Topic5\", \"Topic5\", \"Topic5\", \"Topic5\", \"Topic5\", \"Topic5\", \"Topic5\", \"Topic5\", \"Topic5\", \"Topic5\", \"Topic5\", \"Topic5\", \"Topic5\", \"Topic5\", \"Topic5\", \"Topic5\", \"Topic5\", \"Topic5\", \"Topic5\", \"Topic5\", \"Topic5\", \"Topic5\", \"Topic5\", \"Topic5\", \"Topic5\", \"Topic5\", \"Topic5\", \"Topic5\", \"Topic5\", \"Topic5\", \"Topic5\", \"Topic5\", \"Topic5\", \"Topic5\", \"Topic5\", \"Topic5\", \"Topic5\", \"Topic5\", \"Topic5\", \"Topic5\", \"Topic5\", \"Topic5\", \"Topic5\", \"Topic5\", \"Topic5\", \"Topic5\", \"Topic5\", \"Topic5\", \"Topic5\", \"Topic5\", \"Topic5\", \"Topic5\", \"Topic5\", \"Topic5\", \"Topic5\", \"Topic5\", \"Topic5\", \"Topic6\", \"Topic6\", \"Topic6\", \"Topic6\", \"Topic6\", \"Topic6\", \"Topic6\", \"Topic6\", \"Topic6\", \"Topic6\", \"Topic6\", \"Topic6\", \"Topic6\", \"Topic6\", \"Topic6\", \"Topic6\", \"Topic6\", \"Topic6\", \"Topic6\", \"Topic6\", \"Topic6\", \"Topic6\", \"Topic6\", \"Topic6\", \"Topic6\", \"Topic6\", \"Topic6\", \"Topic6\", \"Topic6\", \"Topic6\", \"Topic6\", \"Topic6\", \"Topic6\", \"Topic6\", \"Topic6\", \"Topic6\", \"Topic6\", \"Topic6\", \"Topic6\", \"Topic6\", \"Topic6\", \"Topic6\", \"Topic6\", \"Topic6\", \"Topic6\", \"Topic6\", \"Topic6\", \"Topic6\", \"Topic6\", \"Topic6\", \"Topic6\", \"Topic6\", \"Topic6\", \"Topic6\", \"Topic6\", \"Topic6\", \"Topic6\", \"Topic6\", \"Topic6\", \"Topic6\", \"Topic6\", \"Topic6\", \"Topic6\", \"Topic6\", \"Topic6\", \"Topic6\", \"Topic6\", \"Topic6\", \"Topic6\", \"Topic6\", \"Topic6\", \"Topic6\", \"Topic6\", \"Topic6\", \"Topic6\", \"Topic6\", \"Topic6\", \"Topic6\"], \"logprob\": [30.0, 29.0, 28.0, 27.0, 26.0, 25.0, 24.0, 23.0, 22.0, 21.0, 20.0, 19.0, 18.0, 17.0, 16.0, 15.0, 14.0, 13.0, 12.0, 11.0, 10.0, 9.0, 8.0, 7.0, 6.0, 5.0, 4.0, 3.0, 2.0, 1.0, -6.3448, -6.349, -6.4849, -6.5707, -6.6257, -6.6833, -6.8522, -6.8636, -6.8745, -7.0, -7.0192, -7.0945, -7.1722, -7.2064, -7.3905, -7.3985, -7.4206, -7.4369, -7.438, -7.5256, -7.5449, -7.5571, -7.5708, -7.579, -7.5878, -7.6208, -7.6498, -7.6575, -7.7027, -7.7096, -5.442, -5.4087, -7.2138, -6.8692, -6.2978, -6.8777, -5.5954, -6.0275, -6.6215, -6.3474, -6.5773, -5.6404, -6.2303, -7.0025, -6.813, -5.096, -4.5, -5.9208, -5.0211, -6.2343, -5.5762, -5.648, -6.0945, -5.7849, -3.8525, -6.037, -5.2852, -5.3549, -5.8493, -5.6643, -5.6209, -6.0315, -4.8711, -5.1644, -5.0863, -5.3511, -5.8145, -5.823, -6.0533, -5.6713, -5.7255, -5.441, -5.8169, -5.53, -5.9018, -5.8792, -6.9636, -7.3224, -7.3282, -7.3471, -7.4306, -7.4505, -7.8748, -7.898, -6.7586, -8.0074, -8.0503, -8.0832, -8.2888, -8.3564, -8.3924, -8.4257, -8.4526, -8.4745, -8.5744, -8.5867, -8.5868, -8.595, -8.6385, -8.6376, -8.6587, -8.678, -8.6445, -8.7061, -8.6739, -8.7214, -7.0903, -5.79, -5.3693, -7.6943, -8.1433, -6.2331, -7.4906, -6.7867, -6.4189, -6.5663, -7.0784, -7.8993, -6.0825, -6.8093, -5.1621, -6.7858, -7.7208, -5.2916, -5.4957, -6.8039, -5.9673, -6.8142, -5.0267, -7.0721, -4.8878, -5.183, -6.118, -4.7642, -5.5985, -5.1065, -5.0706, -5.8024, -5.3502, -6.6695, -6.1502, -4.7336, -4.9265, -5.0467, -4.6564, -5.283, -5.3603, -5.1375, -3.9138, -4.661, -4.7143, -5.6689, -5.0145, -4.8786, -5.3109, -5.4416, -5.3964, -5.3708, -5.4864, -5.6518, -5.6352, -5.5019, -5.5699, -6.079, -6.0824, -6.4667, -6.7135, -6.7477, -6.9018, -6.9079, -7.0758, -7.2263, -7.4246, -7.4448, -7.5213, -7.5421, -7.7196, -7.7233, -7.7409, -7.8218, -7.832, -7.845, -7.8255, -7.8633, -7.8849, -7.9041, -7.9523, -7.9733, -7.9809, -7.9971, -8.0316, -4.1808, -5.6524, -6.14, -6.7831, -5.1822, -7.1779, -7.5795, -5.6039, -5.5086, -5.2074, -5.5388, -6.3869, -5.295, -6.7484, -6.9922, -6.9386, -6.4229, -5.738, -6.6993, -6.5806, -5.4119, -5.4557, -6.2815, -6.6831, -5.8769, -5.4874, -6.0156, -6.4446, -5.7906, -6.1207, -5.9372, -6.0155, -4.3531, -5.3341, -5.4297, -5.8216, -5.8004, -4.3252, -5.0295, -4.9867, -5.6525, -5.6954, -5.3863, -5.3972, -5.4286, -5.6525, -5.7064, -5.6678, -5.7076, -5.7273, -6.9169, -7.2065, -7.4885, -7.5189, -7.6292, -7.6393, -7.716, -7.7522, -7.8314, -7.8477, -7.8995, -7.9173, -7.9363, -7.9453, -7.9776, -8.0235, -8.0352, -8.0714, -8.0602, -8.1281, -8.138, -8.1381, -8.1362, -8.1861, -8.2259, -8.2397, -8.272, -8.3032, -8.2836, -8.357, -7.1454, -5.8382, -7.2466, -4.9925, -6.3415, -5.8095, -7.048, -6.3154, -7.7638, -7.763, -7.8254, -6.3231, -7.0967, -6.3552, -7.649, -7.1945, -6.1196, -7.4825, -5.6311, -6.3844, -5.312, -5.8922, -6.9054, -6.3246, -6.5792, -6.406, -5.3051, -6.509, -6.096, -6.1104, -6.9862, -5.9259, -4.8535, -5.716, -5.7817, -5.3561, -5.5651, -6.4925, -5.4746, -6.0384, -6.2476, -5.1635, -6.0682, -5.6038, -5.9734, -5.1939, -5.3832, -5.1684, -5.8018, -6.0236, -5.7287, -5.8622, -5.9425, -5.7514, -5.8477, -5.923, -5.9536, -6.0111, -6.5099, -7.161, -7.4396, -7.6147, -7.6196, -7.7134, -7.713, -7.7278, -7.7579, -7.763, -7.909, -7.9216, -7.9459, -7.9721, -7.9927, -8.0224, -8.0366, -8.065, -8.0651, -8.1053, -8.1461, -8.1645, -8.2045, -8.2587, -8.2489, -8.2679, -8.3301, -8.3382, -8.3502, -8.3861, -8.2277, -6.9946, -7.1926, -7.1635, -5.1926, -7.0646, -6.6153, -7.4629, -4.8584, -7.2137, -7.2515, -7.7978, -6.3866, -7.5692, -5.0142, -7.0544, -6.9013, -7.4576, -6.6795, -6.663, -7.1333, -7.0181, -6.7517, -5.8876, -5.0504, -6.9141, -7.3957, -4.958, -6.0833, -5.0953, -5.2577, -6.2046, -6.1699, -5.4844, -6.0948, -3.5401, -6.6074, -5.8136, -5.5789, -6.2933, -6.1672, -5.5196, -6.5149, -6.0796, -5.8497, -6.1114, -5.0278, -5.4511, -5.5967, -5.2424, -5.2738, -5.7524, -5.775, -5.3424, -5.8272, -5.4796, -5.7942, -5.7355, -5.7514, -5.7177, -5.8124, -5.8278, -5.8555, -6.3093, -6.7494, -7.0635, -7.1015, -7.1509, -7.397, -7.5661, -7.584, -7.597, -7.6006, -7.69, -7.7053, -7.7049, -7.7614, -7.8631, -7.9377, -7.9377, -7.9959, -7.9991, -8.021, -8.0253, -8.0072, -8.0719, -8.0922, -8.1002, -8.1258, -8.1178, -8.1948, -8.1932, -8.2512, -5.6376, -7.43, -7.3104, -5.535, -5.8593, -6.4167, -6.5798, -4.7689, -6.0515, -6.7778, -7.4485, -5.8312, -5.3117, -5.673, -7.0841, -5.6325, -6.0102, -5.4821, -6.4893, -4.7085, -6.2554, -6.2934, -6.3246, -6.2085, -7.0571, -6.0317, -4.6935, -4.9398, -5.7415, -5.4281, -6.1002, -5.8726, -4.7869, -5.0082, -5.5345, -5.8515, -5.59, -5.1326, -5.723, -4.9649, -4.625, -5.9975, -5.8018, -5.3559, -5.3933, -5.7231, -5.5529, -5.5823], \"loglift\": [30.0, 29.0, 28.0, 27.0, 26.0, 25.0, 24.0, 23.0, 22.0, 21.0, 20.0, 19.0, 18.0, 17.0, 16.0, 15.0, 14.0, 13.0, 12.0, 11.0, 10.0, 9.0, 8.0, 7.0, 6.0, 5.0, 4.0, 3.0, 2.0, 1.0, 1.2118, 1.2118, 1.2118, 1.2117, 1.2117, 1.2117, 1.2117, 1.2117, 1.2117, 1.2116, 1.2116, 1.2116, 1.2116, 1.2116, 1.2115, 1.2115, 1.2115, 1.2115, 1.2115, 1.2114, 1.2114, 1.2114, 1.2114, 1.2114, 1.2114, 1.2114, 1.2114, 1.2113, 1.2113, 1.2113, 1.1832, 1.1785, 1.2059, 1.1974, 1.1801, 1.1895, 1.1477, 1.1599, 1.1795, 1.1658, 1.1627, 1.0958, 1.1342, 1.1824, 1.1579, 0.9787, 0.8724, 1.0413, 0.9156, 1.0615, 0.9379, 0.9415, 0.9797, 0.8953, 0.2513, 0.9362, 0.6811, 0.6812, 0.8443, 0.726, 0.6762, 0.8814, 0.2253, 0.2728, 0.1331, 0.1789, 0.635, 0.643, 0.8605, 0.3362, 0.3897, -0.1529, 0.4701, -0.4298, 0.3299, -0.3721, 1.5985, 1.5983, 1.5983, 1.5983, 1.5983, 1.5983, 1.5979, 1.5979, 1.5978, 1.5977, 1.5977, 1.5976, 1.5973, 1.5972, 1.5972, 1.5971, 1.597, 1.597, 1.5968, 1.5967, 1.5967, 1.5967, 1.5967, 1.5966, 1.5966, 1.5966, 1.5965, 1.5965, 1.5964, 1.5964, 1.5801, 1.5644, 1.5557, 1.5815, 1.5901, 1.5354, 1.572, 1.5443, 1.5289, 1.5171, 1.5382, 1.57, 1.4917, 1.5138, 1.4089, 1.5091, 1.56, 1.4046, 1.371, 1.4803, 1.3993, 1.4748, 1.2746, 1.4993, 1.225, 1.2542, 1.3381, 1.0866, 1.231, 1.0514, 1.0326, 1.1903, 1.0616, 1.416, 1.2694, 0.7735, 0.8102, 0.8079, 0.6318, 0.8779, 0.896, 0.7959, 0.1899, 0.4355, 0.3858, 0.9608, 0.5155, 0.3408, 0.628, 0.6585, 0.4846, 0.3874, 0.3978, 0.8818, 0.6559, 1.621, 1.621, 1.621, 1.621, 1.6209, 1.6208, 1.6208, 1.6207, 1.6207, 1.6206, 1.6205, 1.6204, 1.6204, 1.6203, 1.6203, 1.6202, 1.6202, 1.6201, 1.62, 1.62, 1.62, 1.62, 1.62, 1.62, 1.62, 1.6199, 1.6199, 1.6199, 1.6198, 1.6198, 1.5975, 1.6112, 1.6082, 1.6089, 1.5793, 1.6103, 1.6149, 1.5743, 1.5654, 1.5556, 1.5587, 1.5848, 1.5196, 1.5784, 1.5882, 1.5825, 1.5496, 1.498, 1.5607, 1.5372, 1.4088, 1.4036, 1.4994, 1.5434, 1.4066, 1.286, 1.3844, 1.4932, 1.3013, 1.3913, 1.3251, 1.3493, 0.7471, 1.0743, 1.0251, 1.1863, 1.1038, -0.2214, 0.3429, 0.1097, 0.7219, 0.758, 0.051, -0.1091, -0.2092, 0.3836, 0.5253, 0.271, 0.2587, 0.1162, 2.0253, 2.0251, 2.0249, 2.0249, 2.0247, 2.0247, 2.0246, 2.0246, 2.0245, 2.0244, 2.0244, 2.0243, 2.0243, 2.0242, 2.0242, 2.0242, 2.0241, 2.024, 2.024, 2.024, 2.0239, 2.0239, 2.0239, 2.0238, 2.0237, 2.0237, 2.0236, 2.0236, 2.0236, 2.0235, 2.015, 1.9954, 2.0072, 1.9432, 1.9768, 1.9101, 1.9686, 1.911, 2.0021, 1.9995, 2.0016, 1.8877, 1.9364, 1.8518, 1.9814, 1.925, 1.7725, 1.9579, 1.6582, 1.7798, 1.5788, 1.6807, 1.8586, 1.7515, 1.7911, 1.7491, 1.5203, 1.7631, 1.6144, 1.6085, 1.8418, 1.5126, 1.1295, 1.4134, 1.4343, 1.2401, 1.2955, 1.6813, 1.1694, 1.4401, 1.5444, 0.9515, 1.3607, 0.9864, 1.2814, 0.5429, 0.4602, 0.051, 0.9057, 1.2499, 0.6088, 0.7619, 0.9012, 0.1329, 0.2961, 0.6346, 0.6854, 0.7446, 2.3293, 2.3288, 2.3284, 2.3281, 2.3281, 2.3279, 2.3279, 2.3279, 2.3279, 2.3278, 2.3275, 2.3275, 2.3274, 2.3274, 2.3273, 2.3272, 2.3272, 2.3271, 2.3271, 2.327, 2.3268, 2.3268, 2.3267, 2.3265, 2.3265, 2.3265, 2.3263, 2.3262, 2.3262, 2.326, 2.3259, 2.3029, 2.3008, 2.2991, 2.1984, 2.2722, 2.2483, 2.2911, 2.1529, 2.2732, 2.2635, 2.3045, 2.1959, 2.286, 2.0085, 2.2268, 2.2097, 2.265, 2.1662, 2.1585, 2.2223, 2.2043, 2.1471, 1.9522, 1.7486, 2.1382, 2.2494, 1.6322, 1.9108, 1.6443, 1.674, 1.9284, 1.8771, 1.6189, 1.7711, 0.5636, 1.9611, 1.5521, 1.378, 1.7836, 1.6845, 1.1436, 1.8162, 1.4384, 1.1335, 1.4021, 0.2603, 0.664, 0.7466, 0.2876, 0.2333, 0.8052, 0.8105, -0.2422, 0.7961, -0.2602, 0.4667, 0.119, 0.0995, -0.2804, 0.0686, -0.0696, -0.012, 2.6108, 2.6104, 2.6101, 2.6099, 2.6099, 2.6095, 2.6092, 2.6091, 2.6091, 2.609, 2.6089, 2.6088, 2.6088, 2.6087, 2.6084, 2.6082, 2.6082, 2.608, 2.608, 2.6079, 2.6079, 2.6079, 2.6077, 2.6076, 2.6076, 2.6075, 2.6074, 2.6072, 2.6069, 2.6069, 2.5596, 2.5958, 2.5899, 2.5388, 2.5482, 2.5651, 2.5684, 2.4909, 2.5249, 2.5481, 2.5725, 2.4628, 2.4142, 2.3988, 2.5219, 2.336, 2.3802, 2.2349, 2.4079, 2.0651, 2.3549, 2.3062, 2.3018, 2.2502, 2.4674, 2.1595, 1.7149, 1.7302, 1.9868, 1.8292, 2.0911, 1.9716, 1.3569, 1.4451, 1.726, 1.8018, 1.4493, 0.8749, 1.5281, 0.4723, -0.5212, 1.8778, 1.5074, 0.4023, 0.4877, 1.0758, -0.4564, -0.2941]}, \"token.table\": {\"Topic\": [1, 3, 6, 1, 2, 3, 4, 5, 6, 2, 6, 1, 3, 6, 1, 1, 3, 6, 3, 3, 1, 6, 2, 1, 1, 2, 3, 4, 5, 6, 4, 1, 4, 3, 4, 5, 6, 1, 3, 6, 1, 3, 4, 5, 6, 1, 4, 6, 2, 1, 2, 4, 1, 2, 4, 4, 1, 3, 4, 6, 3, 6, 6, 1, 2, 3, 4, 5, 4, 3, 4, 5, 2, 5, 6, 1, 3, 3, 6, 2, 5, 1, 2, 3, 4, 5, 6, 1, 2, 3, 4, 5, 6, 4, 1, 2, 3, 4, 5, 5, 5, 4, 6, 1, 2, 4, 5, 1, 3, 4, 5, 6, 1, 2, 3, 4, 1, 1, 2, 3, 4, 5, 6, 1, 4, 4, 5, 3, 4, 6, 5, 2, 1, 2, 3, 5, 6, 1, 2, 3, 4, 5, 6, 5, 2, 3, 5, 1, 2, 3, 1, 2, 3, 4, 5, 6, 6, 1, 2, 3, 4, 5, 1, 3, 4, 6, 2, 5, 5, 1, 2, 3, 4, 5, 3, 4, 5, 5, 2, 1, 3, 5, 6, 1, 4, 1, 2, 3, 4, 5, 6, 1, 2, 3, 5, 5, 6, 1, 2, 3, 4, 5, 6, 2, 1, 4, 6, 1, 2, 3, 5, 6, 2, 1, 2, 3, 6, 4, 1, 1, 6, 1, 2, 3, 4, 6, 1, 1, 3, 4, 5, 5, 6, 1, 3, 5, 6, 1, 2, 3, 4, 5, 6, 1, 2, 3, 5, 1, 2, 5, 5, 1, 2, 3, 4, 6, 4, 1, 4, 1, 2, 4, 5, 3, 3, 5, 6, 6, 6, 2, 1, 6, 3, 6, 1, 2, 3, 4, 5, 6, 1, 2, 3, 4, 5, 3, 1, 2, 3, 4, 5, 6, 1, 2, 3, 4, 6, 1, 6, 3, 6, 2, 1, 2, 3, 5, 5, 3, 6, 3, 4, 5, 1, 6, 3, 2, 3, 4, 6, 1, 3, 3, 3, 3, 5, 6, 3, 6, 1, 2, 3, 4, 1, 2, 5, 6, 1, 3, 5, 6, 3, 1, 4, 3, 1, 2, 3, 4, 5, 6, 1, 3, 4, 6, 4, 6, 1, 3, 1, 2, 3, 4, 5, 2, 5, 3, 5, 1, 2, 3, 4, 5, 6, 1, 2, 4, 6, 1, 2, 3, 1, 2, 3, 4, 5, 6, 1, 2, 4, 5, 6, 1, 2, 3, 4, 5, 6, 4, 5, 1, 3, 5, 6, 5, 3, 5, 2, 5, 1, 2, 3, 4, 5, 3, 1, 2, 3, 4, 5, 6, 6, 2, 5, 1, 2, 3, 6, 4, 5, 3, 4, 3, 4, 4, 3, 6, 1, 2, 3, 4, 5, 6, 1, 3, 4, 6, 1, 2, 3, 5, 6, 2, 3, 5, 1, 2, 3, 4, 5, 6, 6, 1, 3, 6, 1, 2, 3, 4, 5, 6, 5, 1, 2, 3, 4, 5, 6, 3, 1, 2, 5, 1, 6, 4, 1, 2, 3, 4, 5, 3, 4, 1, 2, 3, 4, 5, 6, 4, 1, 2, 3, 4, 5, 6, 1, 2, 3, 5, 6, 1, 5, 1, 5, 6, 1, 2, 3, 4, 5, 6, 1, 3, 5, 6, 3, 4, 6, 1, 4, 1, 2, 3, 4, 5, 6, 3, 5, 1, 2, 3, 5, 6, 3, 2, 3, 6, 3, 1, 3, 4, 6, 4, 6, 3, 5, 1, 4, 1, 2, 6, 1, 3, 4, 3, 6, 3, 6, 6, 1, 1, 5, 1, 1, 1, 2, 3, 4, 6, 4, 2, 1, 2, 3, 5, 1, 2, 4, 5, 2, 1, 2, 2, 3, 4, 5, 1, 2, 3, 4, 5, 1, 2, 3, 4, 5, 6, 1, 2, 3, 5, 6, 1, 2, 3, 1, 2, 1, 2, 3, 4, 5, 3, 1, 2, 3, 4, 5, 6, 1, 2, 3, 4, 5, 6, 3, 1, 2, 3, 5, 6, 1, 2, 3, 4, 1, 2, 3, 4, 5, 6, 2, 4, 5, 6, 1, 5, 1, 2, 3, 4, 5, 6, 3, 1, 2, 3, 4, 5, 6, 3, 5, 6, 3, 4, 1, 2, 3, 4, 5, 6, 5, 3, 5, 1, 2, 3, 4, 5, 6, 1, 2, 3, 4, 5, 1, 1, 6, 3, 5, 1, 2, 3, 4, 5, 6, 1, 2, 4, 5, 6, 1, 1, 5, 6, 2, 3, 4, 6, 3, 1, 2, 3, 5, 1, 2, 3, 5, 6, 4, 3, 5, 1, 2, 4, 5, 2, 4, 5, 6, 1, 2, 3, 4, 5, 6, 2, 6, 2, 1, 2, 3, 4, 5, 6, 1, 2, 3, 4, 5, 6, 1, 2, 3, 4, 5, 6, 1, 2, 3, 6, 1, 2, 3, 4, 5, 6, 4, 6, 1, 5, 1, 2, 3, 5, 6, 5, 5, 1, 2, 3, 5, 6, 1, 6, 4, 1, 4, 1, 2, 3, 4, 5, 1, 3, 5, 6, 1, 5, 6, 2, 5, 1, 2, 3, 4, 5, 6, 5, 2, 3, 5, 2, 1, 2, 5, 6, 1, 6, 2, 1, 2, 3, 4, 5, 6, 2, 3, 4, 1, 2, 3, 4, 6, 1, 2, 3, 6, 2, 1, 5, 1, 3, 1, 2, 3, 3, 5, 4, 1, 2, 3, 4, 6, 1, 3, 5, 1, 6, 3, 5, 6, 1, 3, 1, 2, 3, 6, 1, 2, 3, 4, 6, 1, 1, 1, 1, 2, 3, 4, 5, 6, 1, 3, 4, 6, 1, 2, 3, 4, 5, 6, 1, 3, 4, 6, 3, 5, 2, 4, 3, 4, 2, 3, 5, 6, 1, 2, 3, 4, 6, 1, 2, 3, 4, 5, 6, 1, 3, 3, 5, 2, 3, 5, 1, 3, 1, 2, 3, 4, 5, 6, 3, 4, 6, 3, 4, 6, 1, 3, 5, 5, 1, 2, 3, 4, 5, 6, 1, 2, 3, 4, 5, 6, 6, 1, 2, 3, 4, 5, 6, 1, 2, 1, 2, 3, 4, 5, 6, 1, 2, 3, 5, 6, 3, 4, 5, 5, 1, 2, 3, 5, 6, 6, 1, 2, 3, 5, 6, 3, 4, 6, 3, 4, 6, 3, 4, 6, 4, 2, 3, 5, 1, 3, 6, 4, 1, 3, 6, 6, 2, 6, 1, 3, 5, 6, 5, 1, 2, 3, 4, 5, 6, 2, 2, 1, 2, 3, 4, 5, 6, 6, 6, 1, 3, 4, 6, 6, 1, 4, 2, 3, 4, 4, 2, 3, 5, 6, 2, 4, 5, 6, 1, 2, 3, 4, 5, 6, 2, 3, 5, 1, 3, 5, 6, 1, 5, 6, 3, 4, 6, 3, 3, 5, 1, 2, 3, 6, 1, 6, 1, 1, 2, 3, 4, 6, 5, 1, 2, 3, 4, 5, 6, 1, 2, 5, 1, 2, 3, 4, 6, 2, 5, 3, 4, 6, 1, 2, 3, 5, 2, 1, 1, 1, 2, 3, 4, 6, 1, 2, 3, 4, 5, 6, 1, 2, 3, 4, 5, 4, 1, 2, 3, 4, 5, 6, 5, 5, 2, 5, 2, 1, 5, 2, 1, 2, 5, 5, 1, 2, 3, 3, 4, 4, 6, 1, 2, 1, 2, 3, 4, 3, 1, 2, 3, 4, 5, 6, 1, 3, 6, 3, 3, 3, 3, 5, 2, 6, 1, 1, 1, 4, 3, 6, 6, 1, 2, 3, 4, 5, 6, 1, 2, 4, 5, 6, 1, 3, 4, 5, 1, 4, 6, 4, 6, 1, 2, 3, 4, 5, 6, 1, 2, 3, 4, 5, 6, 1, 2, 3, 4, 6, 1, 2, 3, 4, 5, 6, 1, 2, 3, 4, 5, 6], \"Freq\": [0.2747719966133886, 0.19768664009741532, 0.5274130360334817, 0.41393290259602933, 0.049287171200341776, 0.3342503229995009, 0.00029750807565598656, 0.09778098753226759, 0.10442533455525128, 0.9987794149880914, 0.9977473400806663, 0.8604013483710471, 0.1395439634655565, 0.9956166237884594, 0.999677499795515, 0.4385089560530853, 0.22981306298630644, 0.3314667499092734, 0.9985565597281857, 0.9985955470794848, 0.044992410313052254, 0.9549251223339195, 0.998351370278356, 0.9996951363780803, 0.39095615406345136, 0.13970560866080356, 0.2080126004515011, 0.07003202897268632, 0.0735045064169494, 0.11777299306123223, 0.9976299215264997, 0.9995996881323291, 0.9988805493781483, 0.0108591140333091, 0.7581018984503916, 0.23075617320781835, 0.9947057795490267, 0.11417280253518164, 0.15223040338024219, 0.7339680162975963, 0.3338228567825062, 0.14366670799566142, 0.042291055169072105, 0.38604667793559766, 0.09410527772488442, 0.9998507402160853, 0.9980736946313358, 0.9943759126014939, 0.9992944991262878, 0.9377584140714308, 0.016950928038501307, 0.04531272470779862, 0.07025640549944273, 0.9185523187584284, 0.011241024879910837, 0.9972378564129267, 0.1683665456879751, 0.09309456523963489, 0.7081633425051655, 0.030336314538373894, 0.9985338188518379, 0.9969165341343043, 0.9988719760874815, 0.2516828226097242, 0.48814262344156206, 0.1406285315780953, 0.004493138586424599, 0.11501093545848041, 0.9987540136071135, 0.9981565918548285, 0.023786250139056823, 0.9752362557013297, 0.9410738449469254, 0.05437554824922166, 0.00430697411875023, 0.009741051827175383, 0.990108339290755, 0.9894492743626211, 0.010226865884884973, 0.9994376723682313, 0.9984278526059759, 0.13611779897795595, 0.6921274573196993, 0.019561299588222808, 0.0009915866150712023, 0.13620794321568971, 0.01496394346380178, 0.20430893801703898, 0.26168298832071785, 0.19069569073076742, 0.24239296180170958, 0.048445523743452186, 0.05252398649318536, 0.9976242246078495, 0.3063748710390497, 0.32261750768460246, 0.10788687093009339, 0.26167036651000547, 0.0013411351358713266, 0.998314035401701, 0.9971486804064398, 0.9989356357967494, 0.9965457418817661, 0.09114795684448639, 0.0007148859360351874, 0.8403484178093626, 0.06791416392334279, 0.09094375568976877, 0.016418417432218852, 0.6922861402506888, 0.18888318489413514, 0.01156427662617154, 0.9709193910633872, 0.0062933197836301654, 0.009090350798576907, 0.013635526197865358, 0.9996037710591807, 0.042342859394258865, 0.15890739761178757, 0.08225222112218102, 0.5419399302931868, 0.057065520275596, 0.1175379372840634, 0.9856018174003126, 0.014288586070095928, 0.053987702615815626, 0.9447847957767734, 0.0009842146944147585, 0.9699435813457444, 0.028788279811631685, 0.9980466846165055, 0.9973329058893436, 0.14406220881595846, 0.10549666808774841, 0.5960658889377756, 0.04730835852553727, 0.10695380438730294, 0.4394574469890933, 0.28270379648645627, 0.06756470690302288, 0.06937408181028867, 0.06399008818379044, 0.07692049910644604, 0.9985240737370781, 0.05842241239517591, 0.9415431365364479, 0.996007666232009, 0.07107182365913867, 0.9214067093942556, 0.007265119751823064, 0.5661296241625056, 0.015292331262664823, 0.17949687186996743, 0.16019343732529218, 0.055967425481801995, 0.022938496893997233, 0.9992407746607072, 0.12879614148843102, 0.012461142931010654, 0.3146903558100004, 0.48170686852712824, 0.06230571465505327, 0.006099655947570092, 0.04879724758056073, 0.8708155873383889, 0.07427228124394171, 0.9992590924701801, 0.9970956727651326, 0.998943211165651, 0.04200838578720293, 0.0007805612223973518, 0.1058724858015317, 0.35359423374600035, 0.49771421944500227, 0.8842049053273966, 0.08121906662529668, 0.03451810331575109, 0.9958734901505419, 0.998403673500628, 0.37669933195950034, 0.06353393389877035, 0.49108411966904025, 0.06863087262572394, 0.9997473537873537, 0.9990845847740871, 0.7185317181408583, 0.11934701114081078, 0.09289077714407933, 0.0631030173847965, 0.0020577070886346684, 0.004115414177269337, 0.012542232015591626, 0.9467362231124001, 0.006068821943028206, 0.034389991010493164, 0.9716610446005082, 0.027170282205873066, 0.24429784174465763, 0.4533656495183429, 0.15921526935530164, 0.023430012940154385, 0.10960077170699213, 0.010065723991706382, 0.998777707292957, 0.19279909221387975, 0.013311295898953837, 0.7935249942344094, 0.005916748937326699, 0.0011241822980920728, 0.5787763810492977, 0.0060942514054465, 0.4080190067180492, 0.9973188474942404, 0.015642969619356868, 0.03597883012452079, 0.018145844758453964, 0.9301309735669593, 0.9992055660948722, 0.999246378850135, 0.9993337364438922, 0.9978525426375932, 0.3197544780610249, 0.005541412500354999, 0.15433582653015746, 0.4246668958042324, 0.09570169156018497, 0.9991025744499464, 0.005513661994999144, 0.00689207749374893, 0.06547473619061484, 0.921470760914232, 0.9990028823816015, 0.9961719616011794, 0.06351164998207175, 0.7437950781270196, 0.12202019405745951, 0.07059938334987406, 0.24444649124198173, 0.29771458085699165, 0.19914545503026024, 0.05811625777127458, 0.0907564726831966, 0.10980946473679724, 0.588172902657149, 0.12167126111119118, 0.2900701580244685, 8.154910262144181e-05, 0.9492688799933301, 0.0440980653297635, 0.006576027286017364, 0.9965610336346074, 0.2265406791292332, 0.04013735878901173, 0.2600549747383484, 0.32620581059538756, 0.14706392097047438, 0.9986076678754211, 0.9687050827214464, 0.03120406121597825, 0.9999194960640613, 0.9988782815402674, 0.99844598301816, 0.9970615336773889, 0.9996378243301343, 0.24312579146978808, 0.16255298937632717, 0.5942683962264429, 0.9969392447557452, 0.9976593573520931, 0.9967187223802246, 0.060183131353064315, 0.9388568491078033, 0.31357147717429784, 0.6862660680616266, 0.25870851893653146, 0.2939248350046899, 0.1420216209196481, 0.000840986652373934, 0.3022295781968825, 0.0022075899624815765, 0.28676301132531334, 0.009967698254623191, 0.06191474108160174, 0.639466180335057, 0.0018210217965176983, 0.9997146451154814, 0.17812408559556983, 0.0008217950892529173, 0.13847247253911657, 0.2366769857048402, 0.0008217950892529173, 0.4450020408304547, 0.04507476344224267, 0.006321460726655984, 0.39591583377164974, 0.21410512635065268, 0.3384729949946454, 0.050258003508767725, 0.9495931226339704, 0.04122580388816128, 0.9582709081559266, 0.9978330535088531, 0.04816481404049597, 0.013496270133939326, 0.9365567956070521, 0.0016870337667424158, 0.9979197299171498, 0.013220584791847552, 0.9849335669926427, 0.029985870434523876, 0.13707826484353772, 0.8331788285021277, 0.2625225493312269, 0.7367568319940883, 0.9982223069672931, 0.009839594663117394, 0.051748979339358146, 0.8913943905920425, 0.0466469672918158, 0.09654111656303593, 0.9034188019127889, 0.9991179503688534, 0.9999143945756275, 0.02936270084003749, 0.10276945294013122, 0.8661996747811059, 0.22576886766244147, 0.7736061199997403, 0.10442108432271675, 0.04218335194493856, 0.1448756103682726, 0.7084728535670418, 0.22446739372020907, 0.26115177920819754, 0.03411904384547178, 0.4802319554791216, 0.21568169610957824, 0.17683471144443844, 0.5980817014070481, 0.008902433985761203, 0.9985076367997817, 0.9996937152034102, 0.9976408996538232, 0.9994141656117207, 0.22833181987411477, 0.3008459142496008, 0.1728077427798417, 0.15059811194213246, 0.079800534776501, 0.06760975949018741, 0.4637443172128191, 0.044691599874168174, 0.47491721718136115, 0.01669038143448873, 0.9989668225988854, 0.9970098263983924, 0.041505036448690726, 0.9582424919901606, 0.17525466739717668, 0.24331313249828995, 0.0759684077763032, 0.0016479047239979002, 0.5037644741261581, 0.9989924045268226, 0.0008300726252819465, 0.30784110389878816, 0.6916163467592773, 0.06420768697868337, 0.6645760923314302, 0.00742898857604601, 0.08882947768786444, 0.17426284631239355, 0.000742898857604601, 0.018603904702559623, 0.8983028270664504, 0.041384196175081614, 0.04176386769962365, 0.046849821132016065, 0.007367048040415303, 0.9457447921883145, 0.15279849238662388, 0.11794119842605996, 0.14053225476505835, 0.3414691113427901, 0.1890236042114631, 0.05819844396706812, 0.4670079563474373, 0.13059786384467353, 0.002501190278830957, 0.39536672050377913, 0.004645067660686063, 0.1968148834258404, 0.4479387531924062, 0.19239951868269198, 0.03462381852752212, 0.08367116188266238, 0.044558389199606044, 0.061828119642231984, 0.9371841293138321, 0.07368515673883758, 0.02123131634847862, 0.0964775992894102, 0.8083511474442816, 0.9979649384333432, 0.48096889433360973, 0.518911219400409, 0.9811596866252598, 0.018180144743490625, 0.7630354280711233, 0.039853709161335626, 0.08495505974249123, 0.09112458411444177, 0.02091965160603916, 0.9992395584162835, 0.20179696756228058, 0.05564874592943113, 0.18395002126673068, 0.4602263710072903, 0.021219597564000256, 0.07714939776580225, 0.9981956397145153, 0.9711942323439665, 0.027784490392155088, 0.015770195591294067, 0.9576178517858127, 0.00426489566305437, 0.02231631451598217, 0.055309639224459625, 0.9435824451692812, 0.05541654272328095, 0.9444906411967883, 0.010201557204863798, 0.9895510488717884, 0.9989364709343007, 0.019435165672565032, 0.9795323498972776, 0.3083447035905175, 0.39046272771042273, 0.14810805091398468, 0.05286157614071187, 0.06459893268511337, 0.035646786542256365, 0.12920177729021046, 0.6473019818034147, 0.1956884299908442, 0.027801550075791742, 0.15556868569642776, 0.599102055282149, 0.13757936250287306, 0.10749552258596805, 0.0003049037829416049, 0.11905348153470528, 0.8797943062037166, 0.0010922337755477549, 0.09243612703042862, 0.5783821042591543, 0.1776873832004951, 0.01906754189865344, 0.1263800361591909, 0.006033449248124639, 0.998003607389646, 0.712115090544412, 0.27852592292707135, 0.009322692030125871, 0.10483851719682409, 0.4145810692024569, 0.14846540813895295, 0.27767134426890466, 0.03835147034835897, 0.01607747228577494, 0.9960121296143917, 0.6150998243889669, 0.09186404896646105, 0.1417762678546268, 0.11353722433932, 0.024171691568657686, 0.013538471479560674, 0.9998991986270863, 0.058146556017223565, 0.905130902958374, 0.03601999045314734, 0.03727565388681257, 0.9625889444888658, 0.9986288612827066, 0.022697715981786673, 0.008221219961906983, 0.8087178332093283, 0.16013506708410125, 0.00017872217308493443, 0.9993508378843463, 0.9974329683854524, 0.2869410152940648, 0.19447238826344265, 0.2209711914532732, 0.0013859206689241922, 0.20528256948105136, 0.09091639588142701, 0.9980031504931861, 0.1118714099866402, 0.1382743023158971, 0.5509899361668872, 0.03638145022834227, 0.14360446367814148, 0.01890347924982009, 0.14576904557709347, 0.16981612868069318, 0.10668160504142413, 0.5592039870818912, 0.018538114974411407, 0.02885672975265687, 0.9698370477740764, 0.09514615682482296, 0.8424399302197866, 0.06210929681620388, 0.1764642265606754, 0.24828285501244374, 0.04731398913024223, 0.006627040822802657, 0.45942345797150513, 0.06180100860334571, 0.32421528609236333, 0.14682392399545974, 0.5244069503796881, 0.004509949883819583, 0.03127478414033931, 0.9206013382848596, 0.048115052523598933, 0.04754560822172782, 0.9521107932132554, 0.4165431089202088, 0.0756450527900189, 0.21897043568237004, 0.04485605016149889, 0.06779920656035743, 0.1761352853072991, 0.9878916951250347, 0.01204221482956072, 0.13160066251686814, 0.006036727638388447, 0.8044636123649342, 0.00733694589896442, 0.05052276669666639, 0.999503613753735, 0.019732281093056483, 0.8068941419635471, 0.17333176413397097, 0.9990281624873326, 0.2539712640349227, 0.07050494641050054, 0.09633686752583508, 0.5791295054008828, 0.9976687561795331, 0.9990354704963528, 0.964416145732285, 0.03559356601120911, 0.02347868898402615, 0.9752686193364708, 0.07821065485505502, 0.1005249942346046, 0.8209909419248148, 0.9518365751469129, 0.012547751461447062, 0.035402584480511354, 0.9872503847052786, 0.012651263511097391, 0.9998128965211639, 0.99795071357224, 0.9970178194071027, 0.9994885931351988, 0.9995830514735728, 0.9963706147791556, 0.9997168992394285, 0.9996382582382577, 0.5616048923236425, 0.06084566725833537, 0.3039817479745205, 0.00036988247573456153, 0.07317508311615409, 0.9973538282380349, 0.9988957832830192, 0.0002334359143222209, 0.1127495466176327, 0.885422423024184, 0.0014006154859333255, 0.017780814098965158, 0.9622558218263497, 0.0010459302411155976, 0.01987267458119635, 0.9982443194261525, 0.993950959619579, 0.005747937044063402, 0.3057269568699217, 0.0013278043729421137, 0.02323657652648699, 0.6692134039628254, 0.6923842690455191, 0.00991481053525803, 0.00047213383501228714, 0.23984398818624186, 0.057442949926494936, 0.15345806969673317, 0.4544196611819355, 0.058759599663275416, 0.2269377954073415, 0.0687342230629055, 0.037661759866482084, 0.27240554299409997, 0.37869660981768405, 0.259197777294128, 0.08350119659618141, 0.006178422610351039, 0.8430381676130743, 0.09993774395706202, 0.05691614048224027, 0.01665315072743736, 0.9825358929188042, 0.31282967777656756, 0.3709947268918825, 0.07569524676797602, 0.024791660278658815, 0.21571678366726502, 0.9989157633830646, 0.08238454910785918, 0.3058365757175639, 0.008495460436598998, 0.4557564657751933, 0.1473498347994986, 0.0002141712715108991, 0.1505639015269899, 0.26589090456705194, 0.11670076126567328, 0.24871892674691168, 0.21767199084809807, 0.00041212746768336646, 0.9997353453518523, 0.4052675602263496, 0.010458025193258598, 0.17374062291866108, 0.30534380126302474, 0.10519093953511202, 0.048171988846978514, 0.008981218259606164, 0.02857660355329234, 0.9144513137053549, 0.07367764279343911, 0.5843153588823753, 0.0870357972080433, 0.08008955691244912, 0.1214701508101341, 0.053491987233592775, 0.7703618738970408, 0.10188276151386308, 0.11453376666873018, 0.012988365292330226, 0.03693814539477704, 0.9620707868730566, 0.25542401407588716, 0.38013500606367584, 0.1772432297146164, 0.0062529188183292365, 0.1262356234280603, 0.05471303966038082, 0.9984370285841127, 0.25124805736495553, 0.19945820214583743, 0.22202378191988176, 0.20894179901063697, 0.09614752991653165, 0.022195652236764913, 0.959047231651077, 0.008001184421432538, 0.03284696762482832, 0.01832722791905131, 0.9815248729980811, 0.03260513844614901, 0.8328555267166802, 0.016144291851976696, 0.014244963398802967, 0.018676729789541668, 0.0854697803928178, 0.9990353137734002, 0.09732509513686553, 0.9020885162148182, 0.7285775322606879, 0.14341710562565177, 0.06421545552377586, 0.004270677211375661, 0.058314156104420395, 0.0011647301485569986, 0.05919595082330043, 0.07781939602613652, 0.0013302460859168635, 0.8320689267409982, 0.029265413890171, 0.999606209594747, 0.9716897036956763, 0.02829379336884249, 0.10145598671235062, 0.8984491267749272, 0.07873065919172398, 0.2605570447355581, 0.00480671392959999, 0.5985187586132953, 0.02734854477186201, 0.030000524870951662, 0.028354577979994324, 0.5066137571995188, 0.02063782574493258, 0.41006462458409515, 0.03427673667201846, 0.9997366134809209, 0.01448042853695922, 0.07095409983110018, 0.9137150406821268, 0.03852962163133815, 0.07477035484893343, 0.769066507017601, 0.11749627190546683, 0.9992251184117069, 0.06452423100310886, 0.1989426091958469, 0.7152216939855832, 0.02122395445148495, 0.2738143777555086, 0.1757375904015618, 0.4068899953488813, 0.13742187755774585, 0.0061190765287885175, 0.9973919281197872, 0.9940224846678388, 0.0057568869768407655, 0.003451808642559113, 0.21244313191022904, 0.20491191305373643, 0.5789624495928694, 0.9385310987552019, 0.020979201667089997, 0.00023054067766032962, 0.040344618590557685, 0.11912261202232831, 0.38941097684507586, 0.24219142364786977, 0.12522606740863135, 0.07434640052453617, 0.04966949900577647, 0.9323334577312166, 0.067580383770458, 0.9981749306740604, 0.4200878545640813, 0.06510721646704962, 0.1477714351274609, 0.32471309785743424, 0.02898734216299821, 0.013259194364778362, 0.16086697746670198, 0.008466683024563262, 0.031044504423398626, 0.7601199870941239, 0.011288910699417681, 0.028535857601305805, 0.2670574676706705, 0.2890101939368507, 0.23606838663910926, 0.00010210570356362857, 0.15520066941671543, 0.05258443733526871, 0.26752556961511714, 0.18824232961328607, 0.008637001005786066, 0.5354940623587362, 0.19812858747373502, 0.528244475395696, 0.032701551509264015, 0.18838455858158412, 0.05241106449566016, 0.0001476368013962258, 0.9035762852617676, 0.09525385470247205, 0.9252295682533985, 0.07465252713407058, 0.7919427519804318, 0.013900423965836232, 0.12934174982845176, 0.04276075543149011, 0.022079636848172796, 0.9976218223774181, 0.9976521604619337, 0.060262034055571755, 0.08447948699379218, 0.07124436736476474, 0.02449905122819973, 0.7591889897842125, 0.9998594033765492, 0.9940768899994664, 0.9979627191389498, 0.9991974321741769, 0.9983308683224719, 0.0007427529507798142, 0.033176298468165034, 0.05917265174545853, 0.22158796364931124, 0.6853133892528419, 0.02843367635881404, 0.041296529949706104, 0.8489483369988763, 0.08056208301663978, 0.017468941311291536, 0.28547927774505377, 0.696918816524157, 0.9973488110538563, 0.996502199815077, 0.3399629359569115, 0.28416426021052565, 0.160351376862394, 0.13876700051619761, 0.0750048069526007, 0.0017296328290775085, 0.9978195845437953, 0.022843490909282387, 0.9766301299642991, 0.0005041322131703699, 0.9982754554549856, 0.07282617949794035, 0.15163325296431057, 0.13896783044292965, 0.6364374816993917, 0.1838981960913155, 0.8161373431184351, 0.9987887210851751, 0.35469689546635713, 0.18879028307080298, 0.08044599042934703, 0.09605491394548898, 0.21880744367876828, 0.06116437902705402, 0.027738611522595567, 0.19040330872300165, 0.7818179025442676, 0.08012007428472141, 0.8268865008064341, 0.0301407403694912, 0.06042069893930338, 0.002366709405456584, 0.010514020060615224, 0.9660708287579785, 0.02041853171191942, 0.0028951649442273803, 0.9985964992547945, 0.9671548084981624, 0.032828078357216336, 0.7036322308699958, 0.2963023375325143, 0.8903699185249271, 0.035802018304608337, 0.07382113407303417, 0.99851500885656, 0.9961962159884782, 0.9985165413783561, 0.4293722668827221, 0.028042435621336955, 0.13353191202935058, 0.2825532322160365, 0.126558007882683, 0.0076606689176297905, 0.9394337221911856, 0.05279968730920225, 0.08274149084916031, 0.9168791454722578, 0.76193891617076, 0.0545011873761263, 0.18336416430781477, 0.07471617033416995, 0.9250226356493821, 0.2816294978944891, 0.0263643334546424, 0.27770943665196207, 0.414296668572952, 0.09266298472207574, 0.03953435725417902, 0.350954118782712, 0.10417649929083664, 0.41254448587343295, 0.9997332680277622, 0.999871049492957, 0.99918072612462, 0.4358937427937739, 0.0025352824992016534, 0.25090554388650843, 0.02596478973320314, 0.06932686282299694, 0.21532416536323007, 0.028219099824271524, 0.01594992598763173, 0.9336841289682882, 0.020857595522287647, 0.5852322687542788, 0.05123958358847159, 0.25349831178222154, 0.022284984184655517, 0.001058669082406438, 0.08675793130320758, 0.1717160816572092, 0.1843567492361816, 0.5141632578875518, 0.12985413058398898, 0.040870121957366556, 0.9567324003656262, 0.9983361846644495, 0.9989218573070968, 0.022087143462239195, 0.9769313454451951, 0.03449567946524949, 0.9542527034294388, 0.0034495679465249497, 0.0077934683236304415, 0.16024987236143412, 0.14160518912645134, 0.07764684537100415, 0.617870641888416, 0.002832103782529027, 0.022642512014630998, 0.7961369203822115, 0.06858248473853108, 0.01918064034297254, 0.07878097155503844, 0.014783127678973959, 0.9992531707309213, 0.9993345773952604, 0.07679410160155876, 0.9230349859167749, 0.015658900812306833, 0.962043718656101, 0.022020329267306484, 0.9996122535837595, 0.9989885565119354, 0.588082953623392, 0.027909794902338664, 0.2560172330755398, 0.01174949131447227, 0.04422219546514968, 0.07205594188001603, 0.27809201493303837, 0.5533978026172247, 0.16850040981152611, 0.19383732366617806, 0.662658235563612, 0.14336565240854246, 0.30189576740329005, 0.04044536596790489, 0.6575260924496538, 0.9994798731531404, 0.4762522057356431, 0.37720767791430004, 0.09521899843988375, 0.0005240451207478467, 0.05057035415216721, 0.00020961804829913868, 0.09388038429902287, 0.06528261430031927, 0.7263130355818287, 0.11450828397021891, 0.9967301737122425, 0.9995498651614565, 0.9970503371198464, 0.7927242942935888, 0.06850703777845829, 0.1048906074221437, 0.0008059651503348034, 0.020724818151466373, 0.012434890890879824, 0.977816741203075, 0.02206770140668097, 0.06782334300917832, 0.7229883319834197, 0.09620709313997866, 0.0012225210730494524, 0.08738368017796956, 0.024397268370856467, 0.015340837941229145, 0.02533022078668068, 0.7946910817229749, 0.10613719273292256, 0.05850924238050185, 0.0069063972609713, 0.11148898435567955, 0.8820455930440488, 0.9980945242895706, 0.3826311931523711, 0.2443825510143587, 0.15840670416326114, 0.1709715418872592, 0.04360494670663797, 0.9949621271956914, 0.11234158220276419, 0.029734297503137778, 0.005730610064241099, 0.8377503165611327, 0.014380587519699362, 0.14348334493463363, 0.776114456691882, 0.08035067316339484, 0.17885173849860628, 0.7907350979738381, 0.030299588639763887, 0.06037771929725137, 0.890736026141632, 0.04874128612359929, 0.9992070720231937, 0.8191017200137443, 0.03409067422279425, 0.14685213511357523, 0.07029149108528855, 0.9193473159620065, 0.009808115035156542, 0.9979762248348002, 0.7590336486576272, 0.05422412326211762, 0.1867141595628388, 0.9977118349712621, 0.9974566245206092, 0.9976571729095931, 0.29544806379461136, 0.29455849491604275, 0.09707420387380344, 0.3127946569267, 0.9966306297225981, 0.18634529843921394, 0.48623465824768614, 0.1645880759392462, 0.08023841928332043, 0.016444949490421457, 0.06614934738843688, 0.9986265007496942, 0.9986487613358285, 0.24212316648486476, 0.019635345311736604, 0.04756731540308023, 0.12776802160594805, 0.10536713470100911, 0.45742057951566684, 0.9978593986186691, 0.9985494928556244, 0.18252568293937468, 0.1401849896613707, 0.6588036368593055, 0.01864745558875823, 0.9990969196155535, 0.9472529240015402, 0.05249971509662886, 0.9997258669659757, 0.99898941095753, 0.9991129795729036, 0.9980810468311205, 0.8830213681668841, 0.010087238827916954, 0.07953399845088367, 0.0275459214146963, 0.9139936115522794, 0.023025458190258107, 0.04488013037084207, 0.01795205214833683, 0.7434888518624516, 0.010299572476148162, 0.19070821294545307, 0.021042137316861838, 0.013806595362291802, 0.020672977013057245, 0.01781141377963935, 0.9309997710532124, 0.0511724745097575, 0.011943210050849863, 0.07801203160874272, 0.571749417327919, 0.33796743335383655, 0.09578231467375672, 0.8767400981771097, 0.027501852728108366, 0.374467640679432, 0.603134406637359, 0.02235493707244751, 0.9990611265606669, 0.11298141237575457, 0.8870806206065105, 0.7603252762164339, 0.10022798382093635, 0.12969132814625098, 0.009733426250327153, 0.13764292877689702, 0.8617305172717916, 0.9998318339582751, 0.1630096827062258, 0.006436221336920077, 0.42182004454276195, 0.09716218749004346, 0.3115378674043814, 0.9977668572697606, 0.35592365104872575, 0.3383978524853458, 0.14782630092590032, 0.008947252001501116, 0.1297351540217662, 0.019172682860359537, 0.060873288463380214, 0.0645152800808474, 0.8745982727089072, 0.06288123596901603, 0.8233733733659363, 0.01830419917793189, 0.02556276092090488, 0.06982420807099018, 0.9986848285830694, 0.9978724170965018, 0.06529116798343895, 0.048101985754253326, 0.8864904867390491, 0.3537078842414997, 0.495140217839789, 0.036387190390361174, 0.11475178198524516, 0.9973544335135319, 0.9998331608384096, 0.9997706808987303, 0.04367113027523358, 0.01559683224115485, 0.052405356330280296, 0.8459721807602391, 0.041799510406294996, 0.06527559379930534, 0.70834979726429, 0.07209543195744171, 0.03093283736011857, 0.1116748498394832, 0.011691151128233792, 0.19206850408717477, 0.6879776717566737, 0.039223707802354506, 0.003917968568360888, 0.07677457509237515, 0.9977228241173104, 0.2051364816480971, 0.4380441042711562, 0.13162463789084483, 0.06673722286197609, 0.12285606829234906, 0.03557877143937602, 0.9973370711185541, 0.9973555195118723, 0.9918729670937014, 0.008224485630959382, 0.9969958820782574, 0.17395318863905543, 0.8256534121049903, 0.9997017018203749, 0.3237674930435486, 0.04020442999223746, 0.6359609835135744, 0.995766909252682, 0.15151817897149267, 0.05933132902883713, 0.7891704732115218, 0.025400109268134456, 0.9736708552784875, 0.9570289913704647, 0.04302921046471857, 0.9997507988006774, 0.9998097310567716, 0.1837142765451764, 0.2204571318542117, 0.03915787866268079, 0.5566628830152904, 0.9992833179668197, 0.27646158346958155, 0.028835924031403462, 0.13128292342486206, 0.17732958006713467, 0.10090302865791888, 0.28522588793896875, 0.004368148852590547, 0.05634912019841806, 0.9387151884217086, 0.9990721643682364, 0.999656160513691, 0.9998907821310306, 0.06346504242784326, 0.9361093758106881, 0.9729559599946055, 0.0260688286601839, 0.999770293290129, 0.9997968618586088, 0.968168063234374, 0.03167683946129686, 0.9673834226331882, 0.0321941879781308, 0.9960282270758698, 0.23413377432609983, 0.5675455010061158, 0.08419223803048395, 0.0006104046258036122, 0.09919075169308698, 0.014300908375970344, 0.17369484982481692, 0.7191747433757869, 0.0008131781358839743, 0.06586742900660192, 0.04033363553984513, 0.0032806054484175915, 0.2664945159264557, 0.0051396152025208934, 0.7251231576152349, 0.9549590039546341, 0.029289933915945386, 0.01571654990611704, 0.9973455269205858, 0.9974185383726428, 0.10966087938540083, 0.8880986710789502, 0.0019306492849542397, 0.02552765440387398, 0.9732418241476954, 0.999258453743186, 0.19940550951430477, 0.32814095227025675, 0.1918636446823857, 0.05677348248472414, 0.10422438205221499, 0.11958744004316124, 0.15292072915964464, 0.22205404489604022, 0.20635598774336875, 0.4079948253078559, 0.010671585650584556, 0.37283767080878055, 0.31238698178961327, 0.22059562189519516, 0.008779211821181115, 0.038877090460402754, 0.046525042682121334, 0.19363615262284514, 0.2972669974358643, 0.41724208968698623, 0.0015512641893306886, 0.07637977080663266, 0.0139453852896532], \"Term\": [\"access\", \"access\", \"access\", \"accord\", \"accord\", \"accord\", \"accord\", \"accord\", \"accord\", \"actress\", \"adaptation\", \"administration\", \"administration\", \"affiliation\", \"afghan\", \"agency\", \"agency\", \"agency\", \"agricultural\", \"agriculture\", \"airline\", \"airline\", \"album\", \"ally\", \"also\", \"also\", \"also\", \"also\", \"also\", \"also\", \"ambassador\", \"amendment\", \"ancient\", \"animal\", \"animal\", \"animal\", \"app\", \"application\", \"application\", \"application\", \"area\", \"area\", \"area\", \"area\", \"area\", \"arrest\", \"artifact\", \"astronaut\", \"athlete\", \"attack\", \"attack\", \"attack\", \"audience\", \"audience\", \"audience\", \"audiences_around\", \"author\", \"author\", \"author\", \"author\", \"autism\", \"automate\", \"autonomous\", \"back\", \"back\", \"back\", \"back\", \"back\", \"bacteria\", \"bailout\", \"bake\", \"bake\", \"ball\", \"ball\", \"ball\", \"bank\", \"bank\", \"banking\", \"banking\", \"baseball\", \"bathroom\", \"be\", \"be\", \"be\", \"be\", \"be\", \"be\", \"become\", \"become\", \"become\", \"become\", \"become\", \"become\", \"bee\", \"believe\", \"believe\", \"believe\", \"believe\", \"believe\", \"bicycle\", \"bike\", \"biological\", \"biometric\", \"blood\", \"blood\", \"blood\", \"blood\", \"body\", \"body\", \"body\", \"body\", \"body\", \"bomb\", \"bomb\", \"bomb\", \"bomb\", \"bombing\", \"book\", \"book\", \"book\", \"book\", \"book\", \"book\", \"border\", \"border\", \"bottle\", \"bottle\", \"brain\", \"brain\", \"brain\", \"breakfast\", \"bryant\", \"business\", \"business\", \"business\", \"business\", \"business\", \"call\", \"call\", \"call\", \"call\", \"call\", \"call\", \"calorie\", \"cancer\", \"cancer\", \"carbohydrate\", \"career\", \"career\", \"career\", \"case\", \"case\", \"case\", \"case\", \"case\", \"case\", \"catherine\", \"cause\", \"cause\", \"cause\", \"cause\", \"cause\", \"cell\", \"cell\", \"cell\", \"cell\", \"championship\", \"cheese\", \"chef\", \"child\", \"child\", \"child\", \"child\", \"child\", \"chinese\", \"chinese\", \"chinese\", \"chocolate\", \"citizenship\", \"city\", \"city\", \"city\", \"city\", \"civilian\", \"civilization\", \"claim\", \"claim\", \"claim\", \"claim\", \"claim\", \"claim\", \"coach\", \"coach\", \"coach\", \"coach\", \"coffee\", \"coffee\", \"come\", \"come\", \"come\", \"come\", \"come\", \"come\", \"comedy\", \"communication\", \"communication\", \"communication\", \"company\", \"company\", \"company\", \"company\", \"company\", \"composer\", \"computer\", \"computer\", \"computer\", \"computer\", \"consciousness\", \"constitution\", \"constitutional\", \"contrail\", \"control\", \"control\", \"control\", \"control\", \"control\", \"convict\", \"cook\", \"cook\", \"cook\", \"cook\", \"cooking\", \"copyright\", \"cost\", \"cost\", \"cost\", \"cost\", \"could\", \"could\", \"could\", \"could\", \"could\", \"could\", \"country\", \"country\", \"country\", \"country\", \"court\", \"court\", \"court\", \"cream\", \"create\", \"create\", \"create\", \"create\", \"create\", \"creature\", \"crime\", \"crime\", \"criminal\", \"crist\", \"cuban\", \"cup\", \"currency\", \"customer\", \"customer\", \"customer\", \"cyber\", \"cybersecurity\", \"dancer\", \"database\", \"database\", \"datum\", \"datum\", \"day\", \"day\", \"day\", \"day\", \"day\", \"day\", \"death\", \"death\", \"death\", \"death\", \"death\", \"debt\", \"design\", \"design\", \"design\", \"design\", \"design\", \"design\", \"develop\", \"develop\", \"develop\", \"develop\", \"develop\", \"device\", \"device\", \"digital\", \"digital\", \"dodger\", \"dollar\", \"dollar\", \"dollar\", \"dollar\", \"dough\", \"download\", \"download\", \"drink\", \"drink\", \"drink\", \"drone\", \"drone\", \"earning\", \"earth\", \"earth\", \"earth\", \"earth\", \"economic\", \"economic\", \"economist\", \"economy\", \"electric\", \"electric\", \"electric\", \"electronic\", \"electronic\", \"elite\", \"elite\", \"elite\", \"elite\", \"email\", \"email\", \"email\", \"email\", \"emergency\", \"emergency\", \"emergency\", \"emergency\", \"emission\", \"enforcement\", \"enslavement\", \"environmental\", \"even\", \"even\", \"even\", \"even\", \"even\", \"even\", \"evidence\", \"evidence\", \"evidence\", \"evidence\", \"evolution\", \"expo\", \"export\", \"export\", \"family\", \"family\", \"family\", \"family\", \"family\", \"fan\", \"fan\", \"farm\", \"farm\", \"feel\", \"feel\", \"feel\", \"feel\", \"feel\", \"feel\", \"film\", \"film\", \"film\", \"film\", \"financial\", \"financial\", \"financial\", \"find\", \"find\", \"find\", \"find\", \"find\", \"find\", \"fire\", \"fire\", \"fire\", \"fire\", \"fire\", \"first\", \"first\", \"first\", \"first\", \"first\", \"first\", \"flavor\", \"flavor\", \"flight\", \"flight\", \"flight\", \"flight\", \"flour\", \"food\", \"food\", \"football\", \"football\", \"force\", \"force\", \"force\", \"force\", \"force\", \"foreclosure\", \"form\", \"form\", \"form\", \"form\", \"form\", \"form\", \"france\", \"funny\", \"funny\", \"game\", \"game\", \"game\", \"game\", \"garden\", \"garden\", \"gene\", \"gene\", \"genetic\", \"genetic\", \"genocide\", \"geoengineere\", \"geoengineere\", \"give\", \"give\", \"give\", \"give\", \"give\", \"give\", \"global\", \"global\", \"global\", \"global\", \"go\", \"go\", \"go\", \"go\", \"go\", \"gold\", \"gold\", \"gold\", \"good\", \"good\", \"good\", \"good\", \"good\", \"good\", \"google\", \"government\", \"government\", \"government\", \"great\", \"great\", \"great\", \"great\", \"great\", \"great\", \"grocery\", \"group\", \"group\", \"group\", \"group\", \"group\", \"group\", \"growth\", \"guy\", \"guy\", \"guy\", \"hacker\", \"hacker\", \"harmony\", \"health\", \"health\", \"health\", \"health\", \"health\", \"healthcare\", \"healthwatch\", \"help\", \"help\", \"help\", \"help\", \"help\", \"help\", \"hemp\", \"high\", \"high\", \"high\", \"high\", \"high\", \"high\", \"home\", \"home\", \"home\", \"home\", \"home\", \"homeless\", \"homeless\", \"hotel\", \"hotel\", \"hotel\", \"hour\", \"hour\", \"hour\", \"hour\", \"hour\", \"hour\", \"house\", \"house\", \"house\", \"house\", \"human\", \"human\", \"human\", \"humanity\", \"humanity\", \"include\", \"include\", \"include\", \"include\", \"include\", \"include\", \"income\", \"income\", \"increase\", \"increase\", \"increase\", \"increase\", \"increase\", \"index\", \"industry\", \"industry\", \"industry\", \"inflation\", \"information\", \"information\", \"information\", \"information\", \"insect\", \"inspection\", \"insurance\", \"insurance\", \"intellectual\", \"intellectual\", \"internet\", \"internet\", \"internet\", \"investigation\", \"investigation\", \"investigation\", \"investment\", \"investment\", \"investor\", \"ipad\", \"iphone\", \"iranian\", \"iraqi\", \"irish\", \"isis\", \"israeli\", \"issue\", \"issue\", \"issue\", \"issue\", \"issue\", \"jackson\", \"jazz\", \"job\", \"job\", \"job\", \"job\", \"joke\", \"joke\", \"joke\", \"joke\", \"jury\", \"justice\", \"justice\", \"kid\", \"kid\", \"kid\", \"kid\", \"kill\", \"kill\", \"kill\", \"kill\", \"kill\", \"know\", \"know\", \"know\", \"know\", \"know\", \"know\", \"last\", \"last\", \"last\", \"last\", \"last\", \"leader\", \"leader\", \"leader\", \"league\", \"league\", \"leave\", \"leave\", \"leave\", \"leave\", \"leave\", \"legislature\", \"life\", \"life\", \"life\", \"life\", \"life\", \"life\", \"live\", \"live\", \"live\", \"live\", \"live\", \"live\", \"loan\", \"local\", \"local\", \"local\", \"local\", \"local\", \"logic\", \"logic\", \"logic\", \"logic\", \"look\", \"look\", \"look\", \"look\", \"look\", \"look\", \"love\", \"love\", \"love\", \"love\", \"lunch\", \"lunch\", \"make\", \"make\", \"make\", \"make\", \"make\", \"make\", \"manufacturing\", \"many\", \"many\", \"many\", \"many\", \"many\", \"many\", \"market\", \"market\", \"market\", \"masse\", \"masse\", \"match\", \"match\", \"match\", \"match\", \"match\", \"match\", \"meal\", \"meat\", \"meat\", \"member\", \"member\", \"member\", \"member\", \"member\", \"member\", \"mental\", \"mental\", \"mental\", \"mental\", \"mental\", \"militant\", \"military\", \"military\", \"milk\", \"milk\", \"mind\", \"mind\", \"mind\", \"mind\", \"mind\", \"mind\", \"minute\", \"minute\", \"minute\", \"minute\", \"minute\", \"missile\", \"mobile\", \"mobile\", \"mobile\", \"modern\", \"modern\", \"modern\", \"modern\", \"monetary\", \"money\", \"money\", \"money\", \"money\", \"month\", \"month\", \"month\", \"month\", \"month\", \"mortality\", \"mortgage\", \"mortgage\", \"mother\", \"mother\", \"mother\", \"mother\", \"movie\", \"movie\", \"movie\", \"movie\", \"much\", \"much\", \"much\", \"much\", \"much\", \"much\", \"music\", \"music\", \"musical\", \"must\", \"must\", \"must\", \"must\", \"must\", \"must\", \"nature\", \"nature\", \"nature\", \"nature\", \"nature\", \"nature\", \"need\", \"need\", \"need\", \"need\", \"need\", \"need\", \"network\", \"network\", \"network\", \"network\", \"never\", \"never\", \"never\", \"never\", \"never\", \"never\", \"novel\", \"novel\", \"officer\", \"officer\", \"official\", \"official\", \"official\", \"official\", \"official\", \"olive\", \"onion\", \"online\", \"online\", \"online\", \"online\", \"online\", \"opposition\", \"orchestra\", \"organ\", \"palestinian\", \"paradigm\", \"parent\", \"parent\", \"parent\", \"parent\", \"parent\", \"park\", \"park\", \"park\", \"park\", \"passenger\", \"passenger\", \"passenger\", \"pavilion\", \"peach\", \"people\", \"people\", \"people\", \"people\", \"people\", \"people\", \"pepper\", \"percent\", \"percent\", \"percent\", \"performer\", \"phone\", \"phone\", \"phone\", \"phone\", \"pilot\", \"pilot\", \"pitcher\", \"place\", \"place\", \"place\", \"place\", \"place\", \"place\", \"planet\", \"planet\", \"planet\", \"play\", \"play\", \"play\", \"play\", \"play\", \"player\", \"player\", \"player\", \"player\", \"playoff\", \"police\", \"police\", \"policy\", \"policy\", \"political\", \"political\", \"political\", \"pollution\", \"pork\", \"potent\", \"power\", \"power\", \"power\", \"power\", \"power\", \"price\", \"price\", \"price\", \"privacy\", \"privacy\", \"product\", \"product\", \"product\", \"profit\", \"profit\", \"program\", \"program\", \"program\", \"program\", \"project\", \"project\", \"project\", \"project\", \"project\", \"prosecutor\", \"protest\", \"protester\", \"provide\", \"provide\", \"provide\", \"provide\", \"provide\", \"provide\", \"psychological\", \"psychological\", \"psychological\", \"psychological\", \"public\", \"public\", \"public\", \"public\", \"public\", \"public\", \"publish\", \"publish\", \"publish\", \"publish\", \"quake\", \"quake\", \"quarterback\", \"rappoport\", \"rat\", \"rat\", \"rate\", \"rate\", \"rate\", \"rate\", \"reality\", \"reality\", \"reality\", \"reality\", \"reality\", \"really\", \"really\", \"really\", \"really\", \"really\", \"really\", \"rebel\", \"recession\", \"recipe\", \"recipe\", \"recovery\", \"recovery\", \"recovery\", \"regime\", \"regulator\", \"report\", \"report\", \"report\", \"report\", \"report\", \"report\", \"research\", \"research\", \"research\", \"researcher\", \"researcher\", \"researcher\", \"resident\", \"resident\", \"resident\", \"restaurant\", \"right\", \"right\", \"right\", \"right\", \"right\", \"right\", \"rise\", \"rise\", \"rise\", \"rise\", \"roast\", \"robot\", \"robotic\", \"rule\", \"rule\", \"rule\", \"rule\", \"rule\", \"rule\", \"russian\", \"russian\", \"s\", \"s\", \"s\", \"s\", \"s\", \"s\", \"sale\", \"sale\", \"sale\", \"sale\", \"sale\", \"salt\", \"salt\", \"salt\", \"sauce\", \"say\", \"say\", \"say\", \"say\", \"say\", \"scanner\", \"school\", \"school\", \"school\", \"school\", \"school\", \"science\", \"science\", \"science\", \"scientific\", \"scientific\", \"scientific\", \"scientist\", \"scientist\", \"scientist\", \"sculpture\", \"season\", \"season\", \"season\", \"sector\", \"sector\", \"sector\", \"secular\", \"security\", \"security\", \"security\", \"sedan\", \"semifinal\", \"sensor\", \"service\", \"service\", \"service\", \"service\", \"serving\", \"show\", \"show\", \"show\", \"show\", \"show\", \"show\", \"singe\", \"singer\", \"site\", \"site\", \"site\", \"site\", \"site\", \"site\", \"smart_meter\", \"smartphone\", \"society\", \"society\", \"society\", \"society\", \"software\", \"soldier\", \"soldier\", \"song\", \"sovereignty\", \"specie\", \"spiritual\", \"sport\", \"sport\", \"sport\", \"sport\", \"star\", \"star\", \"star\", \"star\", \"state\", \"state\", \"state\", \"state\", \"state\", \"state\", \"stock\", \"stock\", \"stock\", \"store\", \"store\", \"store\", \"store\", \"student\", \"student\", \"student\", \"study\", \"study\", \"study\", \"subsidy\", \"sugar\", \"sugar\", \"support\", \"support\", \"support\", \"support\", \"surveillance\", \"surveillance\", \"syrian\", \"system\", \"system\", \"system\", \"system\", \"system\", \"tablespoon\", \"take\", \"take\", \"take\", \"take\", \"take\", \"take\", \"teacher\", \"teacher\", \"teacher\", \"team\", \"team\", \"team\", \"team\", \"team\", \"teammate\", \"teaspoon\", \"technology\", \"technology\", \"technology\", \"tell\", \"tell\", \"tell\", \"tell\", \"tennis\", \"terrorism\", \"terrorist\", \"theory\", \"theory\", \"theory\", \"theory\", \"theory\", \"thing\", \"thing\", \"thing\", \"thing\", \"thing\", \"thing\", \"think\", \"think\", \"think\", \"think\", \"think\", \"thug\", \"time\", \"time\", \"time\", \"time\", \"time\", \"time\", \"toilet\", \"tomato\", \"tonight\", \"tonight\", \"touchdown\", \"tourist\", \"tourist\", \"tournament\", \"town\", \"town\", \"town\", \"township\", \"trade\", \"trade\", \"trade\", \"tribe\", \"tribe\", \"troll\", \"troll\", \"troop\", \"trump\", \"truth\", \"truth\", \"truth\", \"truth\", \"unemployment\", \"use\", \"use\", \"use\", \"use\", \"use\", \"use\", \"user\", \"user\", \"user\", \"vaccinate\", \"vaccination\", \"vaccine\", \"vegetable\", \"vegetable\", \"viewer\", \"viewer\", \"violate\", \"violation\", \"violence\", \"violence\", \"virus\", \"virus\", \"volt\", \"want\", \"want\", \"want\", \"want\", \"want\", \"want\", \"watch\", \"watch\", \"watch\", \"watch\", \"watch\", \"water\", \"water\", \"water\", \"water\", \"weapon\", \"weapon\", \"weapon\", \"weekly_spin\", \"wifi\", \"win\", \"win\", \"win\", \"wine\", \"wine\", \"wireless\", \"work\", \"work\", \"work\", \"work\", \"work\", \"work\", \"world\", \"world\", \"world\", \"world\", \"world\", \"would\", \"would\", \"would\", \"would\", \"would\", \"would\", \"year\", \"year\", \"year\", \"year\", \"year\", \"year\"]}, \"R\": 30, \"lambda.step\": 0.01, \"plot.opts\": {\"xlab\": \"PC1\", \"ylab\": \"PC2\"}, \"topic.order\": [3, 4, 6, 5, 1, 2]};\n",
              "\n",
              "function LDAvis_load_lib(url, callback){\n",
              "  var s = document.createElement('script');\n",
              "  s.src = url;\n",
              "  s.async = true;\n",
              "  s.onreadystatechange = s.onload = callback;\n",
              "  s.onerror = function(){console.warn(\"failed to load library \" + url);};\n",
              "  document.getElementsByTagName(\"head\")[0].appendChild(s);\n",
              "}\n",
              "\n",
              "if(typeof(LDAvis) !== \"undefined\"){\n",
              "   // already loaded: just create the visualization\n",
              "   !function(LDAvis){\n",
              "       new LDAvis(\"#\" + \"ldavis_el601396524793929762336488988\", ldavis_el601396524793929762336488988_data);\n",
              "   }(LDAvis);\n",
              "}else if(typeof define === \"function\" && define.amd){\n",
              "   // require.js is available: use it to load d3/LDAvis\n",
              "   require.config({paths: {d3: \"https://d3js.org/d3.v5\"}});\n",
              "   require([\"d3\"], function(d3){\n",
              "      window.d3 = d3;\n",
              "      LDAvis_load_lib(\"https://cdn.jsdelivr.net/gh/bmabey/pyLDAvis@3.3.1/pyLDAvis/js/ldavis.v3.0.0.js\", function(){\n",
              "        new LDAvis(\"#\" + \"ldavis_el601396524793929762336488988\", ldavis_el601396524793929762336488988_data);\n",
              "      });\n",
              "    });\n",
              "}else{\n",
              "    // require.js not available: dynamically load d3 & LDAvis\n",
              "    LDAvis_load_lib(\"https://d3js.org/d3.v5.js\", function(){\n",
              "         LDAvis_load_lib(\"https://cdn.jsdelivr.net/gh/bmabey/pyLDAvis@3.3.1/pyLDAvis/js/ldavis.v3.0.0.js\", function(){\n",
              "                 new LDAvis(\"#\" + \"ldavis_el601396524793929762336488988\", ldavis_el601396524793929762336488988_data);\n",
              "            })\n",
              "         });\n",
              "}\n",
              "</script>"
            ]
          },
          "metadata": {},
          "execution_count": 42
        }
      ],
      "source": [
        "import pyLDAvis.gensim_models\n",
        "pyLDAvis.enable_notebook()\n",
        "LDAvis_prepared = pyLDAvis.gensim_models.prepare(lda_model, corpus, id2word)\n",
        "LDAvis_prepared"
      ]
    },
    {
      "cell_type": "markdown",
      "metadata": {
        "id": "DiSN_OEc5LBJ"
      },
      "source": [
        "# Engineering the features"
      ]
    },
    {
      "cell_type": "code",
      "execution_count": null,
      "metadata": {
        "scrolled": true,
        "id": "cYL-DZjJ5LBJ"
      },
      "outputs": [],
      "source": [
        "def lda_make_col(df, lda_model, corpus, num_topics):\n",
        "    train_vecs = []\n",
        "    for i in range(len(df)):\n",
        "        top_topics = (lda_model.get_document_topics(corpus[i], minimum_probability=0.0))\n",
        "        topic_vec = [top_topics[i][1] for i in range(num_topics)]\n",
        "        train_vecs.append(topic_vec)\n",
        "    print(train_vecs)\n",
        "    for i in range(num_topics):\n",
        "        label = \"prob_topic_\" + str(i+1)\n",
        "        print(label)\n",
        "        df[label] = [train_vecs[x][i] for x in range(len(train_vecs))]\n",
        "\n",
        "    return df"
      ]
    },
    {
      "cell_type": "code",
      "execution_count": null,
      "metadata": {
        "id": "sVf1Z6qo5LBJ",
        "colab": {
          "base_uri": "https://localhost:8080/",
          "height": 336
        },
        "outputId": "5ee7f598-121c-41e8-a6eb-6981b16a3c05"
      },
      "outputs": [
        {
          "output_type": "execute_result",
          "data": {
            "text/plain": [
              "   0                                                  1  \\\n",
              "0  1  A little less than a decade ago, hockey fans w...   \n",
              "1  1  The writers of the HBO series The Sopranos too...   \n",
              "2  1  Despite claims from the TV news outlet to offe...   \n",
              "3  1  After receiving 'subpar' service and experienc...   \n",
              "4  1  After watching his beloved Seattle Mariners pr...   \n",
              "\n",
              "                                             cleaned  \\\n",
              "0  a little less than a decade ago hockey fans we...   \n",
              "1  the writers of the hbo series the sopranos too...   \n",
              "2  despite claims from the tv news outlet to offe...   \n",
              "3  after receiving subpar service and experiencin...   \n",
              "4  after watching his beloved seattle mariners pr...   \n",
              "\n",
              "                                       cleaned_token  \\\n",
              "0  [a, little, less, than, a, decade, ago, hockey...   \n",
              "1  [the, writers, of, the, hbo, series, the, sopr...   \n",
              "2  [despite, claims, from, the, tv, news, outlet,...   \n",
              "3  [after, receiving, subpar, service, and, exper...   \n",
              "4  [after, watching, his, beloved, seattle, marin...   \n",
              "\n",
              "                            cleaned_tokenized_nostop  \\\n",
              "0  [little, less, decade, hockey, fans, blessed, ...   \n",
              "1  [writers, series, sopranos, took, another, dar...   \n",
              "2  [despite, claims, news, outlet, offer, nonstop...   \n",
              "3  [receiving, subpar, service, experiencing, unu...   \n",
              "4  [watching, beloved, seattle, mariners, prevail...   \n",
              "\n",
              "                                     data_lemmatized  \n",
              "0  [little, less, decade, hockey, fan, bless, sla...  \n",
              "1  [take, daring, storytelling, step, kill, fan, ...  \n",
              "2  [claim, news, outlet, offer, nonstop, news, in...  \n",
              "3  [receive, subpar, service, experience, unusual...  \n",
              "4  [watch, beloved, seattle_mariner, prevail, die...  "
            ],
            "text/html": [
              "\n",
              "  <div id=\"df-89e70ad3-c381-47b1-93f6-3ebf69a5a8d5\">\n",
              "    <div class=\"colab-df-container\">\n",
              "      <div>\n",
              "<style scoped>\n",
              "    .dataframe tbody tr th:only-of-type {\n",
              "        vertical-align: middle;\n",
              "    }\n",
              "\n",
              "    .dataframe tbody tr th {\n",
              "        vertical-align: top;\n",
              "    }\n",
              "\n",
              "    .dataframe thead th {\n",
              "        text-align: right;\n",
              "    }\n",
              "</style>\n",
              "<table border=\"1\" class=\"dataframe\">\n",
              "  <thead>\n",
              "    <tr style=\"text-align: right;\">\n",
              "      <th></th>\n",
              "      <th>0</th>\n",
              "      <th>1</th>\n",
              "      <th>cleaned</th>\n",
              "      <th>cleaned_token</th>\n",
              "      <th>cleaned_tokenized_nostop</th>\n",
              "      <th>data_lemmatized</th>\n",
              "    </tr>\n",
              "  </thead>\n",
              "  <tbody>\n",
              "    <tr>\n",
              "      <th>0</th>\n",
              "      <td>1</td>\n",
              "      <td>A little less than a decade ago, hockey fans w...</td>\n",
              "      <td>a little less than a decade ago hockey fans we...</td>\n",
              "      <td>[a, little, less, than, a, decade, ago, hockey...</td>\n",
              "      <td>[little, less, decade, hockey, fans, blessed, ...</td>\n",
              "      <td>[little, less, decade, hockey, fan, bless, sla...</td>\n",
              "    </tr>\n",
              "    <tr>\n",
              "      <th>1</th>\n",
              "      <td>1</td>\n",
              "      <td>The writers of the HBO series The Sopranos too...</td>\n",
              "      <td>the writers of the hbo series the sopranos too...</td>\n",
              "      <td>[the, writers, of, the, hbo, series, the, sopr...</td>\n",
              "      <td>[writers, series, sopranos, took, another, dar...</td>\n",
              "      <td>[take, daring, storytelling, step, kill, fan, ...</td>\n",
              "    </tr>\n",
              "    <tr>\n",
              "      <th>2</th>\n",
              "      <td>1</td>\n",
              "      <td>Despite claims from the TV news outlet to offe...</td>\n",
              "      <td>despite claims from the tv news outlet to offe...</td>\n",
              "      <td>[despite, claims, from, the, tv, news, outlet,...</td>\n",
              "      <td>[despite, claims, news, outlet, offer, nonstop...</td>\n",
              "      <td>[claim, news, outlet, offer, nonstop, news, in...</td>\n",
              "    </tr>\n",
              "    <tr>\n",
              "      <th>3</th>\n",
              "      <td>1</td>\n",
              "      <td>After receiving 'subpar' service and experienc...</td>\n",
              "      <td>after receiving subpar service and experiencin...</td>\n",
              "      <td>[after, receiving, subpar, service, and, exper...</td>\n",
              "      <td>[receiving, subpar, service, experiencing, unu...</td>\n",
              "      <td>[receive, subpar, service, experience, unusual...</td>\n",
              "    </tr>\n",
              "    <tr>\n",
              "      <th>4</th>\n",
              "      <td>1</td>\n",
              "      <td>After watching his beloved Seattle Mariners pr...</td>\n",
              "      <td>after watching his beloved seattle mariners pr...</td>\n",
              "      <td>[after, watching, his, beloved, seattle, marin...</td>\n",
              "      <td>[watching, beloved, seattle, mariners, prevail...</td>\n",
              "      <td>[watch, beloved, seattle_mariner, prevail, die...</td>\n",
              "    </tr>\n",
              "  </tbody>\n",
              "</table>\n",
              "</div>\n",
              "      <button class=\"colab-df-convert\" onclick=\"convertToInteractive('df-89e70ad3-c381-47b1-93f6-3ebf69a5a8d5')\"\n",
              "              title=\"Convert this dataframe to an interactive table.\"\n",
              "              style=\"display:none;\">\n",
              "        \n",
              "  <svg xmlns=\"http://www.w3.org/2000/svg\" height=\"24px\"viewBox=\"0 0 24 24\"\n",
              "       width=\"24px\">\n",
              "    <path d=\"M0 0h24v24H0V0z\" fill=\"none\"/>\n",
              "    <path d=\"M18.56 5.44l.94 2.06.94-2.06 2.06-.94-2.06-.94-.94-2.06-.94 2.06-2.06.94zm-11 1L8.5 8.5l.94-2.06 2.06-.94-2.06-.94L8.5 2.5l-.94 2.06-2.06.94zm10 10l.94 2.06.94-2.06 2.06-.94-2.06-.94-.94-2.06-.94 2.06-2.06.94z\"/><path d=\"M17.41 7.96l-1.37-1.37c-.4-.4-.92-.59-1.43-.59-.52 0-1.04.2-1.43.59L10.3 9.45l-7.72 7.72c-.78.78-.78 2.05 0 2.83L4 21.41c.39.39.9.59 1.41.59.51 0 1.02-.2 1.41-.59l7.78-7.78 2.81-2.81c.8-.78.8-2.07 0-2.86zM5.41 20L4 18.59l7.72-7.72 1.47 1.35L5.41 20z\"/>\n",
              "  </svg>\n",
              "      </button>\n",
              "      \n",
              "  <style>\n",
              "    .colab-df-container {\n",
              "      display:flex;\n",
              "      flex-wrap:wrap;\n",
              "      gap: 12px;\n",
              "    }\n",
              "\n",
              "    .colab-df-convert {\n",
              "      background-color: #E8F0FE;\n",
              "      border: none;\n",
              "      border-radius: 50%;\n",
              "      cursor: pointer;\n",
              "      display: none;\n",
              "      fill: #1967D2;\n",
              "      height: 32px;\n",
              "      padding: 0 0 0 0;\n",
              "      width: 32px;\n",
              "    }\n",
              "\n",
              "    .colab-df-convert:hover {\n",
              "      background-color: #E2EBFA;\n",
              "      box-shadow: 0px 1px 2px rgba(60, 64, 67, 0.3), 0px 1px 3px 1px rgba(60, 64, 67, 0.15);\n",
              "      fill: #174EA6;\n",
              "    }\n",
              "\n",
              "    [theme=dark] .colab-df-convert {\n",
              "      background-color: #3B4455;\n",
              "      fill: #D2E3FC;\n",
              "    }\n",
              "\n",
              "    [theme=dark] .colab-df-convert:hover {\n",
              "      background-color: #434B5C;\n",
              "      box-shadow: 0px 1px 3px 1px rgba(0, 0, 0, 0.15);\n",
              "      filter: drop-shadow(0px 1px 2px rgba(0, 0, 0, 0.3));\n",
              "      fill: #FFFFFF;\n",
              "    }\n",
              "  </style>\n",
              "\n",
              "      <script>\n",
              "        const buttonEl =\n",
              "          document.querySelector('#df-89e70ad3-c381-47b1-93f6-3ebf69a5a8d5 button.colab-df-convert');\n",
              "        buttonEl.style.display =\n",
              "          google.colab.kernel.accessAllowed ? 'block' : 'none';\n",
              "\n",
              "        async function convertToInteractive(key) {\n",
              "          const element = document.querySelector('#df-89e70ad3-c381-47b1-93f6-3ebf69a5a8d5');\n",
              "          const dataTable =\n",
              "            await google.colab.kernel.invokeFunction('convertToInteractive',\n",
              "                                                     [key], {});\n",
              "          if (!dataTable) return;\n",
              "\n",
              "          const docLinkHtml = 'Like what you see? Visit the ' +\n",
              "            '<a target=\"_blank\" href=https://colab.research.google.com/notebooks/data_table.ipynb>data table notebook</a>'\n",
              "            + ' to learn more about interactive tables.';\n",
              "          element.innerHTML = '';\n",
              "          dataTable['output_type'] = 'display_data';\n",
              "          await google.colab.output.renderOutput(dataTable, element);\n",
              "          const docLink = document.createElement('div');\n",
              "          docLink.innerHTML = docLinkHtml;\n",
              "          element.appendChild(docLink);\n",
              "        }\n",
              "      </script>\n",
              "    </div>\n",
              "  </div>\n",
              "  "
            ]
          },
          "metadata": {},
          "execution_count": 44
        }
      ],
      "source": [
        "df.head()"
      ]
    },
    {
      "cell_type": "code",
      "execution_count": null,
      "metadata": {
        "id": "ayrJBHhP5LBJ",
        "colab": {
          "base_uri": "https://localhost:8080/"
        },
        "outputId": "34cf55c7-57a0-41d7-f420-3a83cd006d90"
      },
      "outputs": [
        {
          "output_type": "execute_result",
          "data": {
            "text/plain": [
              "pandas.core.frame.DataFrame"
            ]
          },
          "metadata": {},
          "execution_count": 45
        }
      ],
      "source": [
        "type(df)"
      ]
    },
    {
      "cell_type": "code",
      "execution_count": null,
      "metadata": {
        "id": "TXDAKs1x5LBJ",
        "colab": {
          "base_uri": "https://localhost:8080/",
          "height": 1000
        },
        "outputId": "7876a707-4485-45f9-a965-197b66081a3d"
      },
      "outputs": [
        {
          "output_type": "stream",
          "name": "stderr",
          "text": [
            "IOPub data rate exceeded.\n",
            "The notebook server will temporarily stop sending output\n",
            "to the client in order to avoid crashing it.\n",
            "To change this limit, set the config variable\n",
            "`--NotebookApp.iopub_data_rate_limit`.\n",
            "\n",
            "Current values:\n",
            "NotebookApp.iopub_data_rate_limit=1000000.0 (bytes/sec)\n",
            "NotebookApp.rate_limit_window=3.0 (secs)\n",
            "\n"
          ]
        },
        {
          "output_type": "execute_result",
          "data": {
            "text/plain": [
              "       0                                                  1  \\\n",
              "0      1  A little less than a decade ago, hockey fans w...   \n",
              "1      1  The writers of the HBO series The Sopranos too...   \n",
              "2      1  Despite claims from the TV news outlet to offe...   \n",
              "3      1  After receiving 'subpar' service and experienc...   \n",
              "4      1  After watching his beloved Seattle Mariners pr...   \n",
              "...   ..                                                ...   \n",
              "48849  4  The ruling Kuomintang (KMT) has claimed owners...   \n",
              "48850  4  The Taipei city government has encouraged the ...   \n",
              "48851  4  President Ma Ying-jeou said Friday that a park...   \n",
              "48852  4  The families of the four people who were kille...   \n",
              "48853  4  The Ministry of Finance will make public on Sa...   \n",
              "\n",
              "                                                 cleaned  \\\n",
              "0      a little less than a decade ago hockey fans we...   \n",
              "1      the writers of the hbo series the sopranos too...   \n",
              "2      despite claims from the tv news outlet to offe...   \n",
              "3      after receiving subpar service and experiencin...   \n",
              "4      after watching his beloved seattle mariners pr...   \n",
              "...                                                  ...   \n",
              "48849  the ruling kuomintang kmt has claimed ownershi...   \n",
              "48850  the taipei city government has encouraged the ...   \n",
              "48851  president ma yingjeou said friday that a park ...   \n",
              "48852  the families of the four people who were kille...   \n",
              "48853  the ministry of finance will make public on sa...   \n",
              "\n",
              "                                           cleaned_token  \\\n",
              "0      [a, little, less, than, a, decade, ago, hockey...   \n",
              "1      [the, writers, of, the, hbo, series, the, sopr...   \n",
              "2      [despite, claims, from, the, tv, news, outlet,...   \n",
              "3      [after, receiving, subpar, service, and, exper...   \n",
              "4      [after, watching, his, beloved, seattle, marin...   \n",
              "...                                                  ...   \n",
              "48849  [the, ruling, kuomintang, kmt, has, claimed, o...   \n",
              "48850  [the, taipei, city, government, has, encourage...   \n",
              "48851  [president, ma, yingjeou, said, friday, that, ...   \n",
              "48852  [the, families, of, the, four, people, who, we...   \n",
              "48853  [the, ministry, of, finance, will, make, publi...   \n",
              "\n",
              "                                cleaned_tokenized_nostop  \\\n",
              "0      [little, less, decade, hockey, fans, blessed, ...   \n",
              "1      [writers, series, sopranos, took, another, dar...   \n",
              "2      [despite, claims, news, outlet, offer, nonstop...   \n",
              "3      [receiving, subpar, service, experiencing, unu...   \n",
              "4      [watching, beloved, seattle, mariners, prevail...   \n",
              "...                                                  ...   \n",
              "48849  [ruling, kuomintang, claimed, ownership, slush...   \n",
              "48850  [taipei, city, government, encouraged, rebuild...   \n",
              "48851  [president, yingjeou, said, friday, park, buil...   \n",
              "48852  [families, four, people, killed, landslide, na...   \n",
              "48853  [ministry, finance, make, public, saturday, na...   \n",
              "\n",
              "                                         data_lemmatized  prob_topic_1  \\\n",
              "0      [little, less, decade, hockey, fan, bless, sla...      0.020674   \n",
              "1      [take, daring, storytelling, step, kill, fan, ...      0.035763   \n",
              "2      [claim, news, outlet, offer, nonstop, news, in...      0.176217   \n",
              "3      [receive, subpar, service, experience, unusual...      0.256079   \n",
              "4      [watch, beloved, seattle_mariner, prevail, die...      0.000169   \n",
              "...                                                  ...           ...   \n",
              "48849  [claim, ownership, day, frozen, money, collect...      0.012660   \n",
              "48850  [government, encourage, rebuild, lowtomidrise,...      0.166410   \n",
              "48851  [say, build, commemorate, japanese, civil, eng...      0.121529   \n",
              "48852  [family, people, kill, last, entitle, national...      0.153156   \n",
              "48853  [finance, make, public, name, defaulter, gover...      0.000277   \n",
              "\n",
              "       prob_topic_2  prob_topic_3  prob_topic_4  prob_topic_5  prob_topic_6  \n",
              "0          0.000154      0.085877      0.892988      0.000154      0.000154  \n",
              "1          0.000238      0.000238      0.904185      0.059339      0.000238  \n",
              "2          0.038097      0.124859      0.518177      0.124836      0.017814  \n",
              "3          0.127486      0.000034      0.484533      0.000034      0.131833  \n",
              "4          0.000169      0.180893      0.818430      0.000169      0.000169  \n",
              "...             ...           ...           ...           ...           ...  \n",
              "48849      0.000048      0.775074      0.056300      0.000048      0.155870  \n",
              "48850      0.174087      0.220678      0.108384      0.000078      0.330363  \n",
              "48851      0.114347      0.243834      0.000073      0.000073      0.520144  \n",
              "48852      0.000105      0.480281      0.000105      0.182541      0.183812  \n",
              "48853      0.119926      0.000277      0.000277      0.000277      0.878965  \n",
              "\n",
              "[48854 rows x 12 columns]"
            ],
            "text/html": [
              "\n",
              "  <div id=\"df-751271d9-520c-4e9b-8ac5-24dff684cc4c\">\n",
              "    <div class=\"colab-df-container\">\n",
              "      <div>\n",
              "<style scoped>\n",
              "    .dataframe tbody tr th:only-of-type {\n",
              "        vertical-align: middle;\n",
              "    }\n",
              "\n",
              "    .dataframe tbody tr th {\n",
              "        vertical-align: top;\n",
              "    }\n",
              "\n",
              "    .dataframe thead th {\n",
              "        text-align: right;\n",
              "    }\n",
              "</style>\n",
              "<table border=\"1\" class=\"dataframe\">\n",
              "  <thead>\n",
              "    <tr style=\"text-align: right;\">\n",
              "      <th></th>\n",
              "      <th>0</th>\n",
              "      <th>1</th>\n",
              "      <th>cleaned</th>\n",
              "      <th>cleaned_token</th>\n",
              "      <th>cleaned_tokenized_nostop</th>\n",
              "      <th>data_lemmatized</th>\n",
              "      <th>prob_topic_1</th>\n",
              "      <th>prob_topic_2</th>\n",
              "      <th>prob_topic_3</th>\n",
              "      <th>prob_topic_4</th>\n",
              "      <th>prob_topic_5</th>\n",
              "      <th>prob_topic_6</th>\n",
              "    </tr>\n",
              "  </thead>\n",
              "  <tbody>\n",
              "    <tr>\n",
              "      <th>0</th>\n",
              "      <td>1</td>\n",
              "      <td>A little less than a decade ago, hockey fans w...</td>\n",
              "      <td>a little less than a decade ago hockey fans we...</td>\n",
              "      <td>[a, little, less, than, a, decade, ago, hockey...</td>\n",
              "      <td>[little, less, decade, hockey, fans, blessed, ...</td>\n",
              "      <td>[little, less, decade, hockey, fan, bless, sla...</td>\n",
              "      <td>0.020674</td>\n",
              "      <td>0.000154</td>\n",
              "      <td>0.085877</td>\n",
              "      <td>0.892988</td>\n",
              "      <td>0.000154</td>\n",
              "      <td>0.000154</td>\n",
              "    </tr>\n",
              "    <tr>\n",
              "      <th>1</th>\n",
              "      <td>1</td>\n",
              "      <td>The writers of the HBO series The Sopranos too...</td>\n",
              "      <td>the writers of the hbo series the sopranos too...</td>\n",
              "      <td>[the, writers, of, the, hbo, series, the, sopr...</td>\n",
              "      <td>[writers, series, sopranos, took, another, dar...</td>\n",
              "      <td>[take, daring, storytelling, step, kill, fan, ...</td>\n",
              "      <td>0.035763</td>\n",
              "      <td>0.000238</td>\n",
              "      <td>0.000238</td>\n",
              "      <td>0.904185</td>\n",
              "      <td>0.059339</td>\n",
              "      <td>0.000238</td>\n",
              "    </tr>\n",
              "    <tr>\n",
              "      <th>2</th>\n",
              "      <td>1</td>\n",
              "      <td>Despite claims from the TV news outlet to offe...</td>\n",
              "      <td>despite claims from the tv news outlet to offe...</td>\n",
              "      <td>[despite, claims, from, the, tv, news, outlet,...</td>\n",
              "      <td>[despite, claims, news, outlet, offer, nonstop...</td>\n",
              "      <td>[claim, news, outlet, offer, nonstop, news, in...</td>\n",
              "      <td>0.176217</td>\n",
              "      <td>0.038097</td>\n",
              "      <td>0.124859</td>\n",
              "      <td>0.518177</td>\n",
              "      <td>0.124836</td>\n",
              "      <td>0.017814</td>\n",
              "    </tr>\n",
              "    <tr>\n",
              "      <th>3</th>\n",
              "      <td>1</td>\n",
              "      <td>After receiving 'subpar' service and experienc...</td>\n",
              "      <td>after receiving subpar service and experiencin...</td>\n",
              "      <td>[after, receiving, subpar, service, and, exper...</td>\n",
              "      <td>[receiving, subpar, service, experiencing, unu...</td>\n",
              "      <td>[receive, subpar, service, experience, unusual...</td>\n",
              "      <td>0.256079</td>\n",
              "      <td>0.127486</td>\n",
              "      <td>0.000034</td>\n",
              "      <td>0.484533</td>\n",
              "      <td>0.000034</td>\n",
              "      <td>0.131833</td>\n",
              "    </tr>\n",
              "    <tr>\n",
              "      <th>4</th>\n",
              "      <td>1</td>\n",
              "      <td>After watching his beloved Seattle Mariners pr...</td>\n",
              "      <td>after watching his beloved seattle mariners pr...</td>\n",
              "      <td>[after, watching, his, beloved, seattle, marin...</td>\n",
              "      <td>[watching, beloved, seattle, mariners, prevail...</td>\n",
              "      <td>[watch, beloved, seattle_mariner, prevail, die...</td>\n",
              "      <td>0.000169</td>\n",
              "      <td>0.000169</td>\n",
              "      <td>0.180893</td>\n",
              "      <td>0.818430</td>\n",
              "      <td>0.000169</td>\n",
              "      <td>0.000169</td>\n",
              "    </tr>\n",
              "    <tr>\n",
              "      <th>...</th>\n",
              "      <td>...</td>\n",
              "      <td>...</td>\n",
              "      <td>...</td>\n",
              "      <td>...</td>\n",
              "      <td>...</td>\n",
              "      <td>...</td>\n",
              "      <td>...</td>\n",
              "      <td>...</td>\n",
              "      <td>...</td>\n",
              "      <td>...</td>\n",
              "      <td>...</td>\n",
              "      <td>...</td>\n",
              "    </tr>\n",
              "    <tr>\n",
              "      <th>48849</th>\n",
              "      <td>4</td>\n",
              "      <td>The ruling Kuomintang (KMT) has claimed owners...</td>\n",
              "      <td>the ruling kuomintang kmt has claimed ownershi...</td>\n",
              "      <td>[the, ruling, kuomintang, kmt, has, claimed, o...</td>\n",
              "      <td>[ruling, kuomintang, claimed, ownership, slush...</td>\n",
              "      <td>[claim, ownership, day, frozen, money, collect...</td>\n",
              "      <td>0.012660</td>\n",
              "      <td>0.000048</td>\n",
              "      <td>0.775074</td>\n",
              "      <td>0.056300</td>\n",
              "      <td>0.000048</td>\n",
              "      <td>0.155870</td>\n",
              "    </tr>\n",
              "    <tr>\n",
              "      <th>48850</th>\n",
              "      <td>4</td>\n",
              "      <td>The Taipei city government has encouraged the ...</td>\n",
              "      <td>the taipei city government has encouraged the ...</td>\n",
              "      <td>[the, taipei, city, government, has, encourage...</td>\n",
              "      <td>[taipei, city, government, encouraged, rebuild...</td>\n",
              "      <td>[government, encourage, rebuild, lowtomidrise,...</td>\n",
              "      <td>0.166410</td>\n",
              "      <td>0.174087</td>\n",
              "      <td>0.220678</td>\n",
              "      <td>0.108384</td>\n",
              "      <td>0.000078</td>\n",
              "      <td>0.330363</td>\n",
              "    </tr>\n",
              "    <tr>\n",
              "      <th>48851</th>\n",
              "      <td>4</td>\n",
              "      <td>President Ma Ying-jeou said Friday that a park...</td>\n",
              "      <td>president ma yingjeou said friday that a park ...</td>\n",
              "      <td>[president, ma, yingjeou, said, friday, that, ...</td>\n",
              "      <td>[president, yingjeou, said, friday, park, buil...</td>\n",
              "      <td>[say, build, commemorate, japanese, civil, eng...</td>\n",
              "      <td>0.121529</td>\n",
              "      <td>0.114347</td>\n",
              "      <td>0.243834</td>\n",
              "      <td>0.000073</td>\n",
              "      <td>0.000073</td>\n",
              "      <td>0.520144</td>\n",
              "    </tr>\n",
              "    <tr>\n",
              "      <th>48852</th>\n",
              "      <td>4</td>\n",
              "      <td>The families of the four people who were kille...</td>\n",
              "      <td>the families of the four people who were kille...</td>\n",
              "      <td>[the, families, of, the, four, people, who, we...</td>\n",
              "      <td>[families, four, people, killed, landslide, na...</td>\n",
              "      <td>[family, people, kill, last, entitle, national...</td>\n",
              "      <td>0.153156</td>\n",
              "      <td>0.000105</td>\n",
              "      <td>0.480281</td>\n",
              "      <td>0.000105</td>\n",
              "      <td>0.182541</td>\n",
              "      <td>0.183812</td>\n",
              "    </tr>\n",
              "    <tr>\n",
              "      <th>48853</th>\n",
              "      <td>4</td>\n",
              "      <td>The Ministry of Finance will make public on Sa...</td>\n",
              "      <td>the ministry of finance will make public on sa...</td>\n",
              "      <td>[the, ministry, of, finance, will, make, publi...</td>\n",
              "      <td>[ministry, finance, make, public, saturday, na...</td>\n",
              "      <td>[finance, make, public, name, defaulter, gover...</td>\n",
              "      <td>0.000277</td>\n",
              "      <td>0.119926</td>\n",
              "      <td>0.000277</td>\n",
              "      <td>0.000277</td>\n",
              "      <td>0.000277</td>\n",
              "      <td>0.878965</td>\n",
              "    </tr>\n",
              "  </tbody>\n",
              "</table>\n",
              "<p>48854 rows × 12 columns</p>\n",
              "</div>\n",
              "      <button class=\"colab-df-convert\" onclick=\"convertToInteractive('df-751271d9-520c-4e9b-8ac5-24dff684cc4c')\"\n",
              "              title=\"Convert this dataframe to an interactive table.\"\n",
              "              style=\"display:none;\">\n",
              "        \n",
              "  <svg xmlns=\"http://www.w3.org/2000/svg\" height=\"24px\"viewBox=\"0 0 24 24\"\n",
              "       width=\"24px\">\n",
              "    <path d=\"M0 0h24v24H0V0z\" fill=\"none\"/>\n",
              "    <path d=\"M18.56 5.44l.94 2.06.94-2.06 2.06-.94-2.06-.94-.94-2.06-.94 2.06-2.06.94zm-11 1L8.5 8.5l.94-2.06 2.06-.94-2.06-.94L8.5 2.5l-.94 2.06-2.06.94zm10 10l.94 2.06.94-2.06 2.06-.94-2.06-.94-.94-2.06-.94 2.06-2.06.94z\"/><path d=\"M17.41 7.96l-1.37-1.37c-.4-.4-.92-.59-1.43-.59-.52 0-1.04.2-1.43.59L10.3 9.45l-7.72 7.72c-.78.78-.78 2.05 0 2.83L4 21.41c.39.39.9.59 1.41.59.51 0 1.02-.2 1.41-.59l7.78-7.78 2.81-2.81c.8-.78.8-2.07 0-2.86zM5.41 20L4 18.59l7.72-7.72 1.47 1.35L5.41 20z\"/>\n",
              "  </svg>\n",
              "      </button>\n",
              "      \n",
              "  <style>\n",
              "    .colab-df-container {\n",
              "      display:flex;\n",
              "      flex-wrap:wrap;\n",
              "      gap: 12px;\n",
              "    }\n",
              "\n",
              "    .colab-df-convert {\n",
              "      background-color: #E8F0FE;\n",
              "      border: none;\n",
              "      border-radius: 50%;\n",
              "      cursor: pointer;\n",
              "      display: none;\n",
              "      fill: #1967D2;\n",
              "      height: 32px;\n",
              "      padding: 0 0 0 0;\n",
              "      width: 32px;\n",
              "    }\n",
              "\n",
              "    .colab-df-convert:hover {\n",
              "      background-color: #E2EBFA;\n",
              "      box-shadow: 0px 1px 2px rgba(60, 64, 67, 0.3), 0px 1px 3px 1px rgba(60, 64, 67, 0.15);\n",
              "      fill: #174EA6;\n",
              "    }\n",
              "\n",
              "    [theme=dark] .colab-df-convert {\n",
              "      background-color: #3B4455;\n",
              "      fill: #D2E3FC;\n",
              "    }\n",
              "\n",
              "    [theme=dark] .colab-df-convert:hover {\n",
              "      background-color: #434B5C;\n",
              "      box-shadow: 0px 1px 3px 1px rgba(0, 0, 0, 0.15);\n",
              "      filter: drop-shadow(0px 1px 2px rgba(0, 0, 0, 0.3));\n",
              "      fill: #FFFFFF;\n",
              "    }\n",
              "  </style>\n",
              "\n",
              "      <script>\n",
              "        const buttonEl =\n",
              "          document.querySelector('#df-751271d9-520c-4e9b-8ac5-24dff684cc4c button.colab-df-convert');\n",
              "        buttonEl.style.display =\n",
              "          google.colab.kernel.accessAllowed ? 'block' : 'none';\n",
              "\n",
              "        async function convertToInteractive(key) {\n",
              "          const element = document.querySelector('#df-751271d9-520c-4e9b-8ac5-24dff684cc4c');\n",
              "          const dataTable =\n",
              "            await google.colab.kernel.invokeFunction('convertToInteractive',\n",
              "                                                     [key], {});\n",
              "          if (!dataTable) return;\n",
              "\n",
              "          const docLinkHtml = 'Like what you see? Visit the ' +\n",
              "            '<a target=\"_blank\" href=https://colab.research.google.com/notebooks/data_table.ipynb>data table notebook</a>'\n",
              "            + ' to learn more about interactive tables.';\n",
              "          element.innerHTML = '';\n",
              "          dataTable['output_type'] = 'display_data';\n",
              "          await google.colab.output.renderOutput(dataTable, element);\n",
              "          const docLink = document.createElement('div');\n",
              "          docLink.innerHTML = docLinkHtml;\n",
              "          element.appendChild(docLink);\n",
              "        }\n",
              "      </script>\n",
              "    </div>\n",
              "  </div>\n",
              "  "
            ]
          },
          "metadata": {},
          "execution_count": 46
        }
      ],
      "source": [
        "lda_make_col(df, lda_model, corpus, k)"
      ]
    },
    {
      "cell_type": "code",
      "execution_count": null,
      "metadata": {
        "id": "IEcgkgcP5LBK"
      },
      "outputs": [],
      "source": [
        "df.to_csv('data_with_topicmodellingfeatures.csv', index=False)"
      ]
    },
    {
      "cell_type": "code",
      "source": [
        "# df.to_csv('/content/drive/My Drive/raw_data/data_with_topicmodellingfeatures.csv')"
      ],
      "metadata": {
        "id": "OtRJuaadMaZ6"
      },
      "execution_count": null,
      "outputs": []
    },
    {
      "cell_type": "code",
      "source": [
        ""
      ],
      "metadata": {
        "id": "u_JXV6ICOWSd"
      },
      "execution_count": null,
      "outputs": []
    }
  ],
  "metadata": {
    "colab": {
      "collapsed_sections": [],
      "name": "FeatureEngineering_TopicModelling.ipynb",
      "provenance": []
    },
    "kernelspec": {
      "display_name": "Python 3",
      "language": "python",
      "name": "python3"
    },
    "language_info": {
      "codemirror_mode": {
        "name": "ipython",
        "version": 3
      },
      "file_extension": ".py",
      "mimetype": "text/x-python",
      "name": "python",
      "nbconvert_exporter": "python",
      "pygments_lexer": "ipython3",
      "version": "3.8.8"
    }
  },
  "nbformat": 4,
  "nbformat_minor": 0
}